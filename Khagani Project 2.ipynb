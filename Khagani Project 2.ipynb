{
 "cells": [
  {
   "cell_type": "code",
   "execution_count": 1,
   "id": "80484169",
   "metadata": {},
   "outputs": [],
   "source": [
    "# importing needed libraries\n",
    "import pandas as pd\n",
    "import numpy as np\n",
    "from category_encoders import *\n",
    "import matplotlib.pyplot as plt"
   ]
  },
  {
   "cell_type": "code",
   "execution_count": 214,
   "id": "dd27edf8",
   "metadata": {},
   "outputs": [
    {
     "name": "stderr",
     "output_type": "stream",
     "text": [
      "C:\\Users\\user\\anaconda3\\lib\\site-packages\\IPython\\core\\interactiveshell.py:3444: FutureWarning: The error_bad_lines argument has been deprecated and will be removed in a future version.\n",
      "\n",
      "\n",
      "  exec(code_obj, self.user_global_ns, self.user_ns)\n",
      "b'Skipping line 408163: expected 16 fields, saw 17\\nSkipping line 417837: expected 16 fields, saw 17\\nSkipping line 421291: expected 16 fields, saw 17\\nSkipping line 424163: expected 16 fields, saw 17\\n'\n",
      "b'Skipping line 427042: expected 16 fields, saw 17\\nSkipping line 427045: expected 16 fields, saw 17\\nSkipping line 434426: expected 16 fields, saw 17\\nSkipping line 444503: expected 16 fields, saw 17\\nSkipping line 453796: expected 16 fields, saw 17\\n'\n",
      "b'Skipping line 461599: expected 16 fields, saw 17\\nSkipping line 461614: expected 16 fields, saw 17\\n'\n",
      "b'Skipping line 492486: expected 16 fields, saw 17\\nSkipping line 497010: expected 16 fields, saw 17\\nSkipping line 497013: expected 16 fields, saw 17\\nSkipping line 499085: expected 16 fields, saw 17\\nSkipping line 501457: expected 16 fields, saw 17\\nSkipping line 505301: expected 16 fields, saw 17\\nSkipping line 505308: expected 16 fields, saw 17\\nSkipping line 520463: expected 16 fields, saw 17\\n'\n",
      "b'Skipping line 528998: expected 16 fields, saw 17\\nSkipping line 529011: expected 16 fields, saw 17\\nSkipping line 529015: expected 16 fields, saw 17\\nSkipping line 529624: expected 16 fields, saw 17\\nSkipping line 548786: expected 16 fields, saw 17\\nSkipping line 551224: expected 16 fields, saw 17\\nSkipping line 554712: expected 16 fields, saw 17\\n'\n"
     ]
    },
    {
     "data": {
      "text/html": [
       "<div>\n",
       "<style scoped>\n",
       "    .dataframe tbody tr th:only-of-type {\n",
       "        vertical-align: middle;\n",
       "    }\n",
       "\n",
       "    .dataframe tbody tr th {\n",
       "        vertical-align: top;\n",
       "    }\n",
       "\n",
       "    .dataframe thead th {\n",
       "        text-align: right;\n",
       "    }\n",
       "</style>\n",
       "<table border=\"1\" class=\"dataframe\">\n",
       "  <thead>\n",
       "    <tr style=\"text-align: right;\">\n",
       "      <th></th>\n",
       "      <th>year</th>\n",
       "      <th>make</th>\n",
       "      <th>model</th>\n",
       "      <th>trim</th>\n",
       "      <th>body</th>\n",
       "      <th>transmission</th>\n",
       "      <th>vin</th>\n",
       "      <th>state</th>\n",
       "      <th>condition</th>\n",
       "      <th>odometer</th>\n",
       "      <th>color</th>\n",
       "      <th>interior</th>\n",
       "      <th>seller</th>\n",
       "      <th>mmr</th>\n",
       "      <th>sellingprice</th>\n",
       "      <th>saledate</th>\n",
       "    </tr>\n",
       "  </thead>\n",
       "  <tbody>\n",
       "    <tr>\n",
       "      <th>0</th>\n",
       "      <td>2015</td>\n",
       "      <td>Kia</td>\n",
       "      <td>Sorento</td>\n",
       "      <td>LX</td>\n",
       "      <td>SUV</td>\n",
       "      <td>automatic</td>\n",
       "      <td>5xyktca69fg566472</td>\n",
       "      <td>ca</td>\n",
       "      <td>5.0</td>\n",
       "      <td>16639.0</td>\n",
       "      <td>white</td>\n",
       "      <td>black</td>\n",
       "      <td>kia motors america, inc</td>\n",
       "      <td>20500</td>\n",
       "      <td>21500</td>\n",
       "      <td>Tue Dec 16 2014 12:30:00 GMT-0800 (PST)</td>\n",
       "    </tr>\n",
       "    <tr>\n",
       "      <th>1</th>\n",
       "      <td>2015</td>\n",
       "      <td>Kia</td>\n",
       "      <td>Sorento</td>\n",
       "      <td>LX</td>\n",
       "      <td>SUV</td>\n",
       "      <td>automatic</td>\n",
       "      <td>5xyktca69fg561319</td>\n",
       "      <td>ca</td>\n",
       "      <td>5.0</td>\n",
       "      <td>9393.0</td>\n",
       "      <td>white</td>\n",
       "      <td>beige</td>\n",
       "      <td>kia motors america, inc</td>\n",
       "      <td>20800</td>\n",
       "      <td>21500</td>\n",
       "      <td>Tue Dec 16 2014 12:30:00 GMT-0800 (PST)</td>\n",
       "    </tr>\n",
       "    <tr>\n",
       "      <th>2</th>\n",
       "      <td>2014</td>\n",
       "      <td>BMW</td>\n",
       "      <td>3 Series</td>\n",
       "      <td>328i SULEV</td>\n",
       "      <td>Sedan</td>\n",
       "      <td>automatic</td>\n",
       "      <td>wba3c1c51ek116351</td>\n",
       "      <td>ca</td>\n",
       "      <td>4.5</td>\n",
       "      <td>1331.0</td>\n",
       "      <td>gray</td>\n",
       "      <td>black</td>\n",
       "      <td>financial services remarketing (lease)</td>\n",
       "      <td>31900</td>\n",
       "      <td>30000</td>\n",
       "      <td>Thu Jan 15 2015 04:30:00 GMT-0800 (PST)</td>\n",
       "    </tr>\n",
       "    <tr>\n",
       "      <th>3</th>\n",
       "      <td>2015</td>\n",
       "      <td>Volvo</td>\n",
       "      <td>S60</td>\n",
       "      <td>T5</td>\n",
       "      <td>Sedan</td>\n",
       "      <td>automatic</td>\n",
       "      <td>yv1612tb4f1310987</td>\n",
       "      <td>ca</td>\n",
       "      <td>4.1</td>\n",
       "      <td>14282.0</td>\n",
       "      <td>white</td>\n",
       "      <td>black</td>\n",
       "      <td>volvo na rep/world omni</td>\n",
       "      <td>27500</td>\n",
       "      <td>27750</td>\n",
       "      <td>Thu Jan 29 2015 04:30:00 GMT-0800 (PST)</td>\n",
       "    </tr>\n",
       "    <tr>\n",
       "      <th>4</th>\n",
       "      <td>2014</td>\n",
       "      <td>BMW</td>\n",
       "      <td>6 Series Gran Coupe</td>\n",
       "      <td>650i</td>\n",
       "      <td>Sedan</td>\n",
       "      <td>automatic</td>\n",
       "      <td>wba6b2c57ed129731</td>\n",
       "      <td>ca</td>\n",
       "      <td>4.3</td>\n",
       "      <td>2641.0</td>\n",
       "      <td>gray</td>\n",
       "      <td>black</td>\n",
       "      <td>financial services remarketing (lease)</td>\n",
       "      <td>66000</td>\n",
       "      <td>67000</td>\n",
       "      <td>Thu Dec 18 2014 12:30:00 GMT-0800 (PST)</td>\n",
       "    </tr>\n",
       "  </tbody>\n",
       "</table>\n",
       "</div>"
      ],
      "text/plain": [
       "   year   make                model        trim   body transmission  \\\n",
       "0  2015    Kia              Sorento          LX    SUV    automatic   \n",
       "1  2015    Kia              Sorento          LX    SUV    automatic   \n",
       "2  2014    BMW             3 Series  328i SULEV  Sedan    automatic   \n",
       "3  2015  Volvo                  S60          T5  Sedan    automatic   \n",
       "4  2014    BMW  6 Series Gran Coupe        650i  Sedan    automatic   \n",
       "\n",
       "                 vin state  condition  odometer  color interior  \\\n",
       "0  5xyktca69fg566472    ca        5.0   16639.0  white    black   \n",
       "1  5xyktca69fg561319    ca        5.0    9393.0  white    beige   \n",
       "2  wba3c1c51ek116351    ca        4.5    1331.0   gray    black   \n",
       "3  yv1612tb4f1310987    ca        4.1   14282.0  white    black   \n",
       "4  wba6b2c57ed129731    ca        4.3    2641.0   gray    black   \n",
       "\n",
       "                                   seller    mmr  sellingprice  \\\n",
       "0                 kia motors america, inc  20500         21500   \n",
       "1                 kia motors america, inc  20800         21500   \n",
       "2  financial services remarketing (lease)  31900         30000   \n",
       "3                 volvo na rep/world omni  27500         27750   \n",
       "4  financial services remarketing (lease)  66000         67000   \n",
       "\n",
       "                                  saledate  \n",
       "0  Tue Dec 16 2014 12:30:00 GMT-0800 (PST)  \n",
       "1  Tue Dec 16 2014 12:30:00 GMT-0800 (PST)  \n",
       "2  Thu Jan 15 2015 04:30:00 GMT-0800 (PST)  \n",
       "3  Thu Jan 29 2015 04:30:00 GMT-0800 (PST)  \n",
       "4  Thu Dec 18 2014 12:30:00 GMT-0800 (PST)  "
      ]
     },
     "execution_count": 214,
     "metadata": {},
     "output_type": "execute_result"
    }
   ],
   "source": [
    "# read csv file and get it as dataframe\n",
    "df = pd.read_csv('w9car_prices.csv', error_bad_lines = False)\n",
    "df.head()"
   ]
  },
  {
   "cell_type": "raw",
   "id": "030e8720",
   "metadata": {},
   "source": [
    "Some quick notes about dataset:\n",
    "We want to predict 'sellingprice' column based on other columns\n",
    "Below I give basic intuition about columns:\n",
    "'year'- production year of a car\n",
    "'make'- company making this car\n",
    "'model'- shows model of a car\n",
    "'trim'- a specific model or variation of a car\n",
    "'body'- dislays type of a car(sedan, jeep and so on)\n",
    "'transmission'- system that transmits power from the engine to the wheels\n",
    "'vin'- vehicle identification number\n",
    "'state'- which state does the car belong to\n",
    "'condition'- state of condition car has\n",
    "'odometer'- measures the distance that the vehicle has traveled\n",
    "'color'- color of car\n",
    "'interior'- interior color\n",
    "'seller'- company selling that car\n",
    "'mmr'- Manheim Market Report, which is a pricing system used in the automotive industry to determine the wholesale value of used cars.\n",
    "'sellingprice'- price of car when it is sold\n",
    "'saledate'- when car is sold"
   ]
  },
  {
   "cell_type": "code",
   "execution_count": 52,
   "id": "22270a92",
   "metadata": {},
   "outputs": [
    {
     "data": {
      "text/plain": [
       "year              int64\n",
       "make             object\n",
       "model            object\n",
       "trim             object\n",
       "body             object\n",
       "transmission     object\n",
       "vin              object\n",
       "state            object\n",
       "condition       float64\n",
       "odometer        float64\n",
       "color            object\n",
       "interior         object\n",
       "seller           object\n",
       "mmr               int64\n",
       "sellingprice      int64\n",
       "saledate         object\n",
       "dtype: object"
      ]
     },
     "execution_count": 52,
     "metadata": {},
     "output_type": "execute_result"
    }
   ],
   "source": [
    "# getting  types of columns\n",
    "df.dtypes"
   ]
  },
  {
   "cell_type": "code",
   "execution_count": 53,
   "id": "dc67fa4b",
   "metadata": {},
   "outputs": [
    {
     "data": {
      "text/plain": [
       "(558811, 16)"
      ]
     },
     "execution_count": 53,
     "metadata": {},
     "output_type": "execute_result"
    }
   ],
   "source": [
    "# looking for number of rows and columns, which will be important for next steps\n",
    "df.shape"
   ]
  },
  {
   "cell_type": "code",
   "execution_count": 54,
   "id": "78289855",
   "metadata": {},
   "outputs": [
    {
     "data": {
      "text/plain": [
       "Index(['year', 'make', 'model', 'trim', 'body', 'transmission', 'vin', 'state',\n",
       "       'condition', 'odometer', 'color', 'interior', 'seller', 'mmr',\n",
       "       'sellingprice', 'saledate'],\n",
       "      dtype='object')"
      ]
     },
     "execution_count": 54,
     "metadata": {},
     "output_type": "execute_result"
    }
   ],
   "source": [
    "# names of columns\n",
    "df.columns"
   ]
  },
  {
   "cell_type": "code",
   "execution_count": 55,
   "id": "52b9919b",
   "metadata": {},
   "outputs": [
    {
     "data": {
      "text/plain": [
       "array([['year', 'make', 'model', 'trim', 'body', 'transmission', 'vin',\n",
       "        'state', 'condition', 'odometer', 'color', 'interior', 'seller',\n",
       "        'mmr', 'sellingprice', 'saledate']], dtype=object)"
      ]
     },
     "execution_count": 55,
     "metadata": {},
     "output_type": "execute_result"
    }
   ],
   "source": [
    "# collecting categoric columns together into list\n",
    "df.columns[df.columns.dtype == 'object']   "
   ]
  },
  {
   "cell_type": "code",
   "execution_count": 58,
   "id": "f8bc9e26",
   "metadata": {},
   "outputs": [
    {
     "data": {
      "text/plain": [
       "year                34\n",
       "make                96\n",
       "model              973\n",
       "trim              1975\n",
       "body                86\n",
       "transmission         2\n",
       "vin             550296\n",
       "state               38\n",
       "condition           41\n",
       "odometer        172277\n",
       "color               20\n",
       "interior            17\n",
       "seller           14264\n",
       "mmr               1101\n",
       "sellingprice      1887\n",
       "saledate          3745\n",
       "dtype: int64"
      ]
     },
     "execution_count": 58,
     "metadata": {},
     "output_type": "execute_result"
    }
   ],
   "source": [
    "df.nunique()"
   ]
  },
  {
   "cell_type": "code",
   "execution_count": 59,
   "id": "bd134a43",
   "metadata": {},
   "outputs": [
    {
     "data": {
      "text/plain": [
       "year             0.000000\n",
       "make             1.843378\n",
       "model            1.860915\n",
       "trim             1.906011\n",
       "body             2.361263\n",
       "transmission    11.695010\n",
       "vin              0.000000\n",
       "state            0.000000\n",
       "condition        2.110553\n",
       "odometer         0.016821\n",
       "color            0.134035\n",
       "interior         0.134035\n",
       "seller           0.000000\n",
       "mmr              0.000000\n",
       "sellingprice     0.000000\n",
       "saledate         0.000000\n",
       "dtype: float64"
      ]
     },
     "execution_count": 59,
     "metadata": {},
     "output_type": "execute_result"
    }
   ],
   "source": [
    "# obtaining number of nulls in percentage for each column\n",
    "df.isnull().sum()*100 / len(df)"
   ]
  },
  {
   "cell_type": "code",
   "execution_count": 215,
   "id": "98f5befd",
   "metadata": {},
   "outputs": [
    {
     "data": {
      "text/plain": [
       "array(['black', 'beige', 'tan', '—', 'gray', 'brown', 'burgundy', 'white',\n",
       "       nan, 'silver', 'off-white', 'blue', 'red', 'yellow', 'green',\n",
       "       'purple', 'orange', 'gold'], dtype=object)"
      ]
     },
     "execution_count": 215,
     "metadata": {},
     "output_type": "execute_result"
    }
   ],
   "source": [
    "df['interior'].unique()"
   ]
  },
  {
   "cell_type": "code",
   "execution_count": 216,
   "id": "65698ae2",
   "metadata": {},
   "outputs": [
    {
     "data": {
      "text/plain": [
       "array(['white', 'gray', 'black', 'red', 'silver', 'blue', 'brown',\n",
       "       'beige', 'purple', 'burgundy', '—', 'gold', 'yellow', 'green',\n",
       "       'charcoal', nan, 'orange', 'off-white', 'turquoise', 'pink',\n",
       "       'lime'], dtype=object)"
      ]
     },
     "execution_count": 216,
     "metadata": {},
     "output_type": "execute_result"
    }
   ],
   "source": [
    "df['color'].unique()"
   ]
  },
  {
   "cell_type": "code",
   "execution_count": 217,
   "id": "3be845a4",
   "metadata": {},
   "outputs": [],
   "source": [
    "# We notice unwanted element '-' in 'interior' and 'color' columns, for this reason eliminate them beforehand\n",
    "df.loc[df.interior == '—', 'interior'] = np.nan\n",
    "df.loc[df.color == '—', 'color'] = np.nan"
   ]
  },
  {
   "cell_type": "markdown",
   "id": "26139629",
   "metadata": {},
   "source": [
    "As we observed above only one column ('transmission') has more nulls, others can be ignored,because number of data points is high, so we can drop other nans. Below, we will fill null values in 'transmision' column using modelling.Also, modelling is suitable for filling here because of number of data points."
   ]
  },
  {
   "cell_type": "code",
   "execution_count": 218,
   "id": "fc08dd7f",
   "metadata": {},
   "outputs": [],
   "source": [
    "# Drop null values from all columns except column 'transmission'\n",
    "df= df.dropna(subset=df.columns.difference(['transmission']))"
   ]
  },
  {
   "cell_type": "code",
   "execution_count": 219,
   "id": "bf778ed5",
   "metadata": {},
   "outputs": [
    {
     "data": {
      "text/plain": [
       "year             0.000000\n",
       "make             0.000000\n",
       "model            0.000000\n",
       "trim             0.000000\n",
       "body             0.000000\n",
       "transmission    11.541328\n",
       "vin              0.000000\n",
       "state            0.000000\n",
       "condition        0.000000\n",
       "odometer         0.000000\n",
       "color            0.000000\n",
       "interior         0.000000\n",
       "seller           0.000000\n",
       "mmr              0.000000\n",
       "sellingprice     0.000000\n",
       "saledate         0.000000\n",
       "dtype: float64"
      ]
     },
     "execution_count": 219,
     "metadata": {},
     "output_type": "execute_result"
    }
   ],
   "source": [
    "df.isnull().sum()*100 / len(df)"
   ]
  },
  {
   "cell_type": "markdown",
   "id": "66843d8e",
   "metadata": {},
   "source": [
    "Encoding categorics"
   ]
  },
  {
   "cell_type": "markdown",
   "id": "476d4e2e",
   "metadata": {},
   "source": [
    "Now we have nulls in only one column, and we will fill it with building model, but for this reason, we must convert categoric values into numeric ones, as a result, we made an investigation and did feature engineering.Below, you can observe these in action."
   ]
  },
  {
   "cell_type": "code",
   "execution_count": 220,
   "id": "e7741913",
   "metadata": {},
   "outputs": [
    {
     "data": {
      "text/plain": [
       "year                26\n",
       "make                53\n",
       "model              768\n",
       "trim              1518\n",
       "body                85\n",
       "transmission         2\n",
       "vin             490518\n",
       "state               38\n",
       "condition           41\n",
       "odometer        163763\n",
       "color               19\n",
       "interior            16\n",
       "seller           12450\n",
       "mmr               1099\n",
       "sellingprice      1820\n",
       "saledate          3645\n",
       "dtype: int64"
      ]
     },
     "execution_count": 220,
     "metadata": {},
     "output_type": "execute_result"
    }
   ],
   "source": [
    "# looking for distinct number of values in each categoric column\n",
    "df.nunique()"
   ]
  },
  {
   "cell_type": "markdown",
   "id": "85155898",
   "metadata": {},
   "source": [
    "Converting 'make' column's values based on countries which are the prominent producers of a car and more companies belong to them"
   ]
  },
  {
   "cell_type": "code",
   "execution_count": 221,
   "id": "5c782fc4",
   "metadata": {},
   "outputs": [],
   "source": [
    "df['make'] = df['make'].str.upper()"
   ]
  },
  {
   "cell_type": "code",
   "execution_count": 222,
   "id": "494f7fc1",
   "metadata": {},
   "outputs": [
    {
     "data": {
      "text/plain": [
       "array(['KIA', 'BMW', 'VOLVO', 'NISSAN', 'CHEVROLET', 'AUDI', 'FORD',\n",
       "       'BUICK', 'CADILLAC', 'ACURA', 'LEXUS', 'HYUNDAI', 'INFINITI',\n",
       "       'JEEP', 'MERCEDES-BENZ', 'MITSUBISHI', 'MAZDA', 'MINI',\n",
       "       'LAND ROVER', 'LINCOLN', 'JAGUAR', 'VOLKSWAGEN', 'TOYOTA',\n",
       "       'SUBARU', 'SCION', 'PORSCHE', 'DODGE', 'FIAT', 'CHRYSLER',\n",
       "       'FERRARI', 'HONDA', 'GMC', 'RAM', 'SMART', 'BENTLEY', 'PONTIAC',\n",
       "       'SATURN', 'MASERATI', 'MERCURY', 'HUMMER', 'SAAB', 'SUZUKI',\n",
       "       'OLDSMOBILE', 'ROLLS-ROYCE', 'ISUZU', 'GEO', 'TESLA',\n",
       "       'ASTON MARTIN', 'PLYMOUTH', 'FISKER', 'DAEWOO', 'LAMBORGHINI',\n",
       "       'LOTUS'], dtype=object)"
      ]
     },
     "execution_count": 222,
     "metadata": {},
     "output_type": "execute_result"
    }
   ],
   "source": [
    "# unique values of column\n",
    "df['make'].unique()"
   ]
  },
  {
   "cell_type": "code",
   "execution_count": 223,
   "id": "a21721ee",
   "metadata": {},
   "outputs": [],
   "source": [
    "enc = QuantileEncoder(cols=[\"make\"], quantile=0.5, m=1.0).fit(df['make'],df['sellingprice'])"
   ]
  },
  {
   "cell_type": "code",
   "execution_count": 224,
   "id": "54679e06",
   "metadata": {},
   "outputs": [
    {
     "data": {
      "text/html": [
       "<style>#sk-container-id-6 {color: black;background-color: white;}#sk-container-id-6 pre{padding: 0;}#sk-container-id-6 div.sk-toggleable {background-color: white;}#sk-container-id-6 label.sk-toggleable__label {cursor: pointer;display: block;width: 100%;margin-bottom: 0;padding: 0.3em;box-sizing: border-box;text-align: center;}#sk-container-id-6 label.sk-toggleable__label-arrow:before {content: \"▸\";float: left;margin-right: 0.25em;color: #696969;}#sk-container-id-6 label.sk-toggleable__label-arrow:hover:before {color: black;}#sk-container-id-6 div.sk-estimator:hover label.sk-toggleable__label-arrow:before {color: black;}#sk-container-id-6 div.sk-toggleable__content {max-height: 0;max-width: 0;overflow: hidden;text-align: left;background-color: #f0f8ff;}#sk-container-id-6 div.sk-toggleable__content pre {margin: 0.2em;color: black;border-radius: 0.25em;background-color: #f0f8ff;}#sk-container-id-6 input.sk-toggleable__control:checked~div.sk-toggleable__content {max-height: 200px;max-width: 100%;overflow: auto;}#sk-container-id-6 input.sk-toggleable__control:checked~label.sk-toggleable__label-arrow:before {content: \"▾\";}#sk-container-id-6 div.sk-estimator input.sk-toggleable__control:checked~label.sk-toggleable__label {background-color: #d4ebff;}#sk-container-id-6 div.sk-label input.sk-toggleable__control:checked~label.sk-toggleable__label {background-color: #d4ebff;}#sk-container-id-6 input.sk-hidden--visually {border: 0;clip: rect(1px 1px 1px 1px);clip: rect(1px, 1px, 1px, 1px);height: 1px;margin: -1px;overflow: hidden;padding: 0;position: absolute;width: 1px;}#sk-container-id-6 div.sk-estimator {font-family: monospace;background-color: #f0f8ff;border: 1px dotted black;border-radius: 0.25em;box-sizing: border-box;margin-bottom: 0.5em;}#sk-container-id-6 div.sk-estimator:hover {background-color: #d4ebff;}#sk-container-id-6 div.sk-parallel-item::after {content: \"\";width: 100%;border-bottom: 1px solid gray;flex-grow: 1;}#sk-container-id-6 div.sk-label:hover label.sk-toggleable__label {background-color: #d4ebff;}#sk-container-id-6 div.sk-serial::before {content: \"\";position: absolute;border-left: 1px solid gray;box-sizing: border-box;top: 0;bottom: 0;left: 50%;z-index: 0;}#sk-container-id-6 div.sk-serial {display: flex;flex-direction: column;align-items: center;background-color: white;padding-right: 0.2em;padding-left: 0.2em;position: relative;}#sk-container-id-6 div.sk-item {position: relative;z-index: 1;}#sk-container-id-6 div.sk-parallel {display: flex;align-items: stretch;justify-content: center;background-color: white;position: relative;}#sk-container-id-6 div.sk-item::before, #sk-container-id-6 div.sk-parallel-item::before {content: \"\";position: absolute;border-left: 1px solid gray;box-sizing: border-box;top: 0;bottom: 0;left: 50%;z-index: -1;}#sk-container-id-6 div.sk-parallel-item {display: flex;flex-direction: column;z-index: 1;position: relative;background-color: white;}#sk-container-id-6 div.sk-parallel-item:first-child::after {align-self: flex-end;width: 50%;}#sk-container-id-6 div.sk-parallel-item:last-child::after {align-self: flex-start;width: 50%;}#sk-container-id-6 div.sk-parallel-item:only-child::after {width: 0;}#sk-container-id-6 div.sk-dashed-wrapped {border: 1px dashed gray;margin: 0 0.4em 0.5em 0.4em;box-sizing: border-box;padding-bottom: 0.4em;background-color: white;}#sk-container-id-6 div.sk-label label {font-family: monospace;font-weight: bold;display: inline-block;line-height: 1.2em;}#sk-container-id-6 div.sk-label-container {text-align: center;}#sk-container-id-6 div.sk-container {/* jupyter's `normalize.less` sets `[hidden] { display: none; }` but bootstrap.min.css set `[hidden] { display: none !important; }` so we also need the `!important` here to be able to override the default hidden behavior on the sphinx rendered scikit-learn.org. See: https://github.com/scikit-learn/scikit-learn/issues/21755 */display: inline-block !important;position: relative;}#sk-container-id-6 div.sk-text-repr-fallback {display: none;}</style><div id=\"sk-container-id-6\" class=\"sk-top-container\"><div class=\"sk-text-repr-fallback\"><pre>QuantileEncoder(cols=[&#x27;make&#x27;])</pre><b>In a Jupyter environment, please rerun this cell to show the HTML representation or trust the notebook. <br />On GitHub, the HTML representation is unable to render, please try loading this page with nbviewer.org.</b></div><div class=\"sk-container\" hidden><div class=\"sk-item\"><div class=\"sk-estimator sk-toggleable\"><input class=\"sk-toggleable__control sk-hidden--visually\" id=\"sk-estimator-id-6\" type=\"checkbox\" checked><label for=\"sk-estimator-id-6\" class=\"sk-toggleable__label sk-toggleable__label-arrow\">QuantileEncoder</label><div class=\"sk-toggleable__content\"><pre>QuantileEncoder(cols=[&#x27;make&#x27;])</pre></div></div></div></div></div>"
      ],
      "text/plain": [
       "QuantileEncoder(cols=['make'])"
      ]
     },
     "execution_count": 224,
     "metadata": {},
     "output_type": "execute_result"
    }
   ],
   "source": [
    "enc"
   ]
  },
  {
   "cell_type": "code",
   "execution_count": 225,
   "id": "10383484",
   "metadata": {},
   "outputs": [],
   "source": [
    "df['make'] = enc.transform(df['make'])"
   ]
  },
  {
   "cell_type": "markdown",
   "id": "f0d73242",
   "metadata": {},
   "source": [
    "Transforming 'model' column's values based on countries "
   ]
  },
  {
   "cell_type": "code",
   "execution_count": 226,
   "id": "5a60c24e",
   "metadata": {},
   "outputs": [
    {
     "data": {
      "text/plain": [
       "array(['Sorento', '3 Series', 'S60', '6 Series Gran Coupe', 'Altima',\n",
       "       'M5', 'Cruze', 'A4', 'Camaro', 'A6', 'Optima', 'Fusion', 'Q5',\n",
       "       '6 Series', 'Impala', '5 Series', 'A3', 'XC70', 'SQ5', 'S5',\n",
       "       'Verano', 'Suburban', 'ELR', 'V60', 'X6', 'ILX', 'K900', 'Malibu',\n",
       "       'RX 350', 'Versa', 'Elantra', 'Versa Note', 'A8', 'X1', 'Enclave',\n",
       "       'TTS', '4 Series', 'Silverado 2500HD', 'MDX', 'Silverado 1500',\n",
       "       'SRX', 'X5', 'G Coupe', 'G Sedan', 'FX', 'Santa Fe', 'Genesis',\n",
       "       'Equus', 'Sonata', 'Sonata Hybrid', 'Accent', 'Veloster',\n",
       "       'Elantra Coupe', 'Azera', 'Tucson', 'Genesis Coupe', 'Wrangler',\n",
       "       'S-Class', 'GS 350', 'Outlander', 'Mazda2', 'Rio', 'C-Class',\n",
       "       '370Z', 'Soul', 'Outlander Sport', 'ES 350', 'E-Class', 'Mazda3',\n",
       "       'Cooper Clubman', 'CX-9', 'Forte', 'Compass', 'JX', 'LR4',\n",
       "       'Mazda5', 'M', 'Cooper', 'Range Rover Evoque', 'LS 460',\n",
       "       'GLK-Class', 'Sportage', 'Grand Cherokee', 'MKX', 'XF', 'GL-Class',\n",
       "       'M-Class', 'Cooper Countryman', 'Lancer', 'Range Rover Sport',\n",
       "       'Passat', 'Corolla', 'XC60', 'Sienna', 'Juke', 'Yaris', 'Sentra',\n",
       "       'NV', 'CC', 'Camry', 'Tacoma', 'Jetta', 'Impreza WRX',\n",
       "       'FJ Cruiser', 'Beetle', 'Avalon', 'FR-S', 'NV200', 'Rogue',\n",
       "       'Quest', 'Maxima', 'Cayenne', '911', 'Xterra', 'Prius', 'S80',\n",
       "       'Frontier', 'Boxster', 'Camry Hybrid', 'xB', 'Cube',\n",
       "       'Jetta SportWagen', '4Runner', 'Sequoia', 'Legacy', 'Leaf',\n",
       "       'Armada', 'Venza', 'Murano', 'Pathfinder', 'Panamera',\n",
       "       'Highlander', 'TSX', '7 Series', 'TL', 'S4', 'A7', 'A5',\n",
       "       '1 Series', 'RDX', 'M3', 'Cooper Coupe', 'ZDX', 'R8', 'X3',\n",
       "       'Avenger', 'E-Series Wagon', 'Escape', 'Edge', 'Focus', 'Z4',\n",
       "       'Traverse', 'F-350 Super Duty', 'Fiesta', '500', '200', 'Journey',\n",
       "       'Charger', 'Flex', 'Equinox', '300', 'F-150', 'Explorer',\n",
       "       'Captiva Sport', 'Escalade', 'Grand Caravan', 'CTS Coupe',\n",
       "       'E-Series Van', 'Volt', 'Express Cargo', 'X5 M', 'Expedition',\n",
       "       'Colorado', 'Express', 'California', 'Escalade ESV', 'Sonic',\n",
       "       'Accord', 'CR-V', 'Mustang', 'Civic', 'Fit', 'Pilot', 'Odyssey',\n",
       "       'Crosstour', 'Terrain', 'Taurus', 'G Convertible', 'Yukon',\n",
       "       'Veracruz', 'XJ', 'Liberty', 'IS 250', 'XK', 'QX', 'CT 200h',\n",
       "       'Mazda6', 'MKZ', 'Navigator', 'Range Rover', 'SL-Class', 'Sedona',\n",
       "       'IS 350', 'Patriot', '1500', 'Impreza', 'GT-R', 'Forester', 'tC',\n",
       "       'Galant', 'fortwo', 'GLI', '5 Series Gran Turismo', 'XC90',\n",
       "       'Tiguan', 'GTI', 'Tundra', 'Highlander Hybrid', 'RAV4',\n",
       "       'Prius Plug-in', 'CR-Z', 'EX', 'Sierra 1500', 'Transit Connect',\n",
       "       'LaCrosse', 'HHR', 'Accord Crosstour', 'CTS', 'Nitro', 'Tahoe',\n",
       "       'Challenger', 'CTS-V', 'Escape Hybrid', 'X6 M', 'Ranger',\n",
       "       'Insight', 'Fusion Hybrid', 'CTS-V Coupe', 'F-250 Super Duty',\n",
       "       'Town and Country', 'Acadia', 'Impala Limited', 'Dart', 'M37',\n",
       "       'Sprinter', 'Town Car', 'CX-7', 'RX 450h', 'MKT', 'QX56', 'Aveo',\n",
       "       'Outback', 'Caliber', 'Sebring', 'Corvette',\n",
       "       'Continental GT Speed', 'malibu', 'Land Cruiser', 'V50',\n",
       "       'Commander', 'Altima Hybrid', 'G37 Convertible', 'New Beetle',\n",
       "       'Golf', 'LR2', 'Lancer Sportback', 'G5', 'Yukon XL',\n",
       "       'Escalade Hybrid', 'Avalanche', 'SLK-Class', 'Spectra', 'Rondo',\n",
       "       'Borrego', 'G-Class', 'MKS', 'CLK-Class', 'Tahoe Hybrid',\n",
       "       'Econoline Cargo', 'Econoline Wagon', 'CLS-Class', 'STS',\n",
       "       'Ridgeline', 'F-450 Super Duty', 'Magnum', 'Durango', 'S40',\n",
       "       'Malibu Classic', 'Q7', 'TT', 'Explorer Sport Trac',\n",
       "       'Ram Pickup 1500', 'PT Cruiser', 'Pacifica', 'Routan', 'S6',\n",
       "       'Rabbit', 'Sierra 2500HD', 'C30', 'VUE', 'GranTurismo', 'G6',\n",
       "       'Grand Prix', '350Z', 'Raider', 'Mazdaspeed Mazda3', 'Solstice',\n",
       "       'Milan', 'GX 470', 'RX 400h', 'Titan', 'H3', 'CL-Class', 'Outlook',\n",
       "       'G37', 'IS F', 'Touareg 2', 'Lancer Evolution', 'G35', 'xD',\n",
       "       'XJ-Series', 'Cobalt', 'H2', 'DTS', 'M45', 'Uplander', 'GS 450h',\n",
       "       'Silverado 1500 Classic', 'Rendezvous', 'Monte Carlo', 'FX35',\n",
       "       'ION', 'R-Class', 'Eclipse', 'Aura', 'RSX', 'Mariner',\n",
       "       'Five Hundred', 'Envoy XL', 'S-Type', 'Continental Flying Spur',\n",
       "       'S2000', 'FX45', 'Element', 'Cayman S', 'Mark LT', 'GS 300',\n",
       "       'Camry Solara', 'Touareg', 'allroad quattro', '9-3', '500L',\n",
       "       'Ram Pickup 3500', 'Sprinter Cargo', 'DeVille', 'H2 SUT',\n",
       "       'TrailBlazer', 'Canyon', 'Dakota', 'Continental GT', 'Neon',\n",
       "       'ES 330', 'Freestyle', 'Stratus', 'Q45', 'Freestar', 'XLR',\n",
       "       'Aviator', 'MPV', 'LS 430', 'RX 330', 'SC 430', 'Envoy XUV',\n",
       "       'Monterey', 'Excursion', 'Mountaineer', 'Malibu Maxx', 'Celica',\n",
       "       'Grand Am', 'Matrix', 'Envoy', 'Endeavor', 'Concorde', 'Marauder',\n",
       "       'C70', 'QX4', 'LS', 'Blazer', 'LeSabre', 'Montero', 'ES 300',\n",
       "       'Thunderbird', 'Century', 'Cavalier', 'Venture', 'S-10', 'XL-7',\n",
       "       'Silverado 1500HD', 'Savana Cargo', 'X-Type', 'Sonoma', 'IS 300',\n",
       "       'Protege5', 'Alero', 'Grand Vitara', 'RX 300', 'L-Series',\n",
       "       'Intrigue', 'XC', 'S-Series', 'Discovery Series II', 'Continental',\n",
       "       'Seville', 'Park Avenue', 'Millenia', 'Z3', 'LHS', 'Regal', 'G20',\n",
       "       'Eldorado', 'Intrepid', 'Contour', 'S90', 'I30', 'Sunfire', 'V70',\n",
       "       'Escort', '200SX', 'Mustang SVT Cobra', 'Grand Marquis', 'LS 400',\n",
       "       'Cutlass Ciera', 'Santa Fe Sport', 'Cherokee', 'Cadenza',\n",
       "       'Elantra GT', 'F-TYPE', 'Shelby GT500', 'Q50', 'QX70',\n",
       "       'Q60 Convertible', 'QX60', 'CX-5', 'Cooper Paceman', 'MX-5 Miata',\n",
       "       'Rogue Select', 'Cayman', 'CLA-Class', 'allroad', 'ATS', '2500',\n",
       "       'Prius v', 'Continental GTC', 'XV Crosstrek', '3500',\n",
       "       'C-Max Energi', 'C-Max Hybrid', 'Spark', 'RS 7', 'GX 460',\n",
       "       'CTS Wagon', 'SLS AMG', 'Ram Pickup 2500', 'Eclipse Spyder',\n",
       "       'Vibe', 'Eos', 'Caravan', 'SSR', 'Safari Cargo', 'Amanti',\n",
       "       'Tribute', 'Sable', 'Silverado 3500', 'Phaeton', 'R32', '9-5',\n",
       "       'Truck', 'Tercel', 'Roadmaster', 'SC 400', 'LX 570', 'QX80',\n",
       "       'RS 5', 'Jetta GLI', 'ES 300h', 'M4', 'SX4', 'iQ', 'Kizashi',\n",
       "       'C/V Cargo Van', 'Prius c', 'Lucerne', 'Escalade EXT',\n",
       "       'Silverado 3500HD', 'Crown Victoria', 'Sierra 3500HD', 'M56',\n",
       "       'IS 250 C', 'RL', 'ActiveHybrid X6', 'M35', 'Elantra Touring',\n",
       "       'G37 Coupe', 'HS 250h', 'Mazdaspeed3', 'Milan Hybrid', 'Ghost',\n",
       "       'Silverado 1500 Hybrid', 'Aspen', 'Taurus X', '6',\n",
       "       'Mariner Hybrid', 'G8', 'Torrent', 'VUE Hybrid', 'G3', '9-7X',\n",
       "       'Expedition EL', 'Yukon Hybrid', 'Tiburon', 'LR3', 'Navigator L',\n",
       "       'Astra', 'Tribeca', 'XL7', 'Forenza', 'Sky', 'M6', 'S8', 'Terraza',\n",
       "       'Silverado 2500HD Classic', 'Focus ST', 'Fusion Energi',\n",
       "       'Entourage', 'B-Series Truck', 'Mazdaspeed Mazda6', 'Montego',\n",
       "       'B9 Tribeca', 'Rainier', 'Crossfire', 'TrailBlazer EXT',\n",
       "       'Sierra 1500HD', 'Savana', 'Zephyr', 'Quattroporte', 'Relay',\n",
       "       'Verona', 'Classic', 'XG350', 'Q60 Coupe', 'Q70', 'QX50', 'GTO',\n",
       "       'Bonneville', 'Baja', 'ECHO', 'Aerio', 'Silverado 2500', '300M',\n",
       "       'F-150 Heritage', 'accord', 'Rodeo', 'Ascender', 'Freelander',\n",
       "       'L300', 'MR2 Spyder', 'RS 6', 'Tracker', 'Explorer Sport',\n",
       "       'Windstar', 'Montero Sport', 'Diamante', 'Prizm', 'Blackwood',\n",
       "       'Protege', 'Firebird', 'Aurora', 'Silhouette', 'CL', 'Astro',\n",
       "       '626', 'GS 430', 'Prowler', 'Aztek', 'Cabrio', 'Integra', 'Cirrus',\n",
       "       'Sephia', 'LX 470', 'Mirage', 'S70', 'Catera', 'Passport',\n",
       "       'Cougar', 'C/K 1500 Series', 'Discovery', 'XK-Series', 'Bravada',\n",
       "       'B-Series Pickup', 'SC 300', 'Lumina', 'Pickup', '500-Class',\n",
       "       'Murano CrossCabriolet', 'NV Cargo', 'Jetta Hybrid', 'S7',\n",
       "       'Encore', 'XTS', 'Black Diamond Avalanche', 'RLX', '2 Series',\n",
       "       'M6 Gran Coupe', 'C/V Tradesman', 'BRZ', 'Model S', 'Golf R',\n",
       "       'TSX Sport Wagon', 'Corvette Stingray', 'SS', 'Mazdaspeed 3',\n",
       "       'i-MiEV', 'F430', 'I35', 'Ghibli', 'Cutlass Supreme', 'IS 350 C',\n",
       "       'EX35', 'Reno', 'Astro Cargo', 'Montana', 'Mazdaspeed MX-5 Miata',\n",
       "       'V40', 'Ram Cargo', 'Safari', 'Axiom', 'envoy', 'Prelude',\n",
       "       'Eighty-Eight', 'Legend', '850', 'J30', 'Promaster Cargo Van',\n",
       "       'Jimmy', 'Malibu Hybrid', 'Sierra 1500 Classic', 'Rodeo Sport',\n",
       "       'Cutlass', 'Spirit', 'Accord Hybrid', '3 Series Gran Turismo',\n",
       "       'Cooper Roadster', 'Viper', 'Sierra 2500', 'Trooper',\n",
       "       'Yukon Denali', 'Riviera', 'Avalon Hybrid', 'RX-8', 'V8 Vantage',\n",
       "       'Beetle Convertible', '3', 'Equator', 'Sierra 2500HD Classic',\n",
       "       '9-2X', 'xA', 'XG300', 'C/K 3500 Series', 'Mark VIII',\n",
       "       'GranTurismo Convertible', 'Vitara', 'Voyager', 'GS 400',\n",
       "       'Caprice', 'Eighty-Eight Royale', '300-Class', 'ActiveHybrid 7',\n",
       "       'GS 460', 'Tribute Hybrid', 'Aura Hybrid', 'Golf GTI', 'i-Series',\n",
       "       'MKZ Hybrid', '300ZX', 'Macan', 'FX50', 'STS-V', 'Windstar Cargo',\n",
       "       'CTS-V Wagon', 'Karma', 'Villager', 'Coupe', 'Tempo', 'Tracer',\n",
       "       'CV Tradesman', 'DB9', 'C/K 2500 Series', 'i8', 'Rapide', 'Nubira',\n",
       "       'Mazdaspeed Protege', 'Tahoe Limited/Z71', '960', 'Montana SV6',\n",
       "       'Corsica', 'NV Passenger', 'Spyder', 'LS 600h L', '400-Class',\n",
       "       'H3T', 'LX 450', 'WRX', 'Esteem', 'Silverado 3500 Classic',\n",
       "       'GranSport', '500e', 'Continental Supersports', 'Z4 M', 'EuroVan',\n",
       "       'Sierra 3500', 'Mystique', 'F-150 SVT Lightning', 'E-150',\n",
       "       'Breeze', 'MKC', 'Aspire', '940', '190-Class', 'Gallardo', 'Amigo',\n",
       "       'Continental Flying Spur Speed', '3000GT', 'TT RS', 'B-Series',\n",
       "       'ActiveHybrid 5', 'Sierra 1500 Hybrid', 'ML55 AMG', 'S-10 Blazer',\n",
       "       'RS 4', 'T100', 'Continental GTC Speed', 'mdx', 'F-250',\n",
       "       'Sidekick', 'E-250', '8 Series', '420-Class', 'E-350', 'Achieva',\n",
       "       'B-Class Electric Drive', 'Paseo', 'Exige', 'X4', 'Transit Van',\n",
       "       'Transit Wagon', 'H1', 'SLS AMG GT', 'Flying Spur', 'Metro',\n",
       "       'Grand Cherokee SRT', 'RC F', '4 Series Gran Coupe', 'Spark EV',\n",
       "       'RC 350', '360', 'GLA-Class', 'TLX', '458 Italia'], dtype=object)"
      ]
     },
     "execution_count": 226,
     "metadata": {},
     "output_type": "execute_result"
    }
   ],
   "source": [
    "df['model'].unique()"
   ]
  },
  {
   "cell_type": "code",
   "execution_count": 227,
   "id": "8191b5bd",
   "metadata": {},
   "outputs": [],
   "source": [
    "enc = QuantileEncoder(cols=[\"model\"], quantile=0.5, m=1.0).fit(df['model'],df['sellingprice'])"
   ]
  },
  {
   "cell_type": "code",
   "execution_count": 228,
   "id": "cf8821fd",
   "metadata": {},
   "outputs": [],
   "source": [
    "df['model'] = enc.transform(df['model'])"
   ]
  },
  {
   "cell_type": "markdown",
   "id": "59ae5aea",
   "metadata": {},
   "source": [
    "Now,we will convert 'body' column nearly the same way,but different approach,in which we will use types of bodies in cars in order to group them. "
   ]
  },
  {
   "cell_type": "code",
   "execution_count": 229,
   "id": "e013b537",
   "metadata": {},
   "outputs": [
    {
     "data": {
      "text/plain": [
       "array(['SUV', 'Sedan', 'Convertible', 'Coupe', 'Wagon', 'Hatchback',\n",
       "       'Crew Cab', 'G Coupe', 'G Sedan', 'Elantra Coupe', 'Genesis Coupe',\n",
       "       'Minivan', 'Van', 'Double Cab', 'King Cab', 'SuperCrew',\n",
       "       'CTS Coupe', 'Extended Cab', 'E-Series Van', 'SuperCab',\n",
       "       'Regular Cab', 'G Convertible', 'Koup', 'Quad Cab', 'CrewMax Cab',\n",
       "       'CTS-V Coupe', 'sedan', 'G37 Convertible', 'Access Cab',\n",
       "       'Club Cab', 'Xtracab', 'Q60 Convertible', 'CTS Wagon', 'G37 Coupe',\n",
       "       'Mega Cab', 'Cab Plus 4', 'Q60 Coupe', 'TSX Sport Wagon',\n",
       "       'Promaster Cargo Van', 'Cab Plus', 'Beetle Convertible',\n",
       "       'GranTurismo Convertible', 'CTS-V Wagon', 'convertible', 'minivan',\n",
       "       'suv', 'van', 'regular-cab', 'Transit Van', 'g sedan', 'g coupe',\n",
       "       'hatchback', 'king cab', 'supercrew', 'g convertible', 'crew cab',\n",
       "       'wagon', 'coupe', 'double cab', 'e-series van', 'regular cab',\n",
       "       'quad cab', 'g37 convertible', 'supercab', 'extended cab',\n",
       "       'crewmax cab', 'genesis coupe', 'access cab', 'mega cab',\n",
       "       'xtracab', 'beetle convertible', 'cts coupe', 'koup', 'club cab',\n",
       "       'elantra coupe', 'q60 coupe', 'cts-v coupe', 'transit van',\n",
       "       'granturismo convertible', 'tsx sport wagon',\n",
       "       'promaster cargo van', 'q60 convertible', 'g37 coupe',\n",
       "       'cab plus 4', 'cts wagon'], dtype=object)"
      ]
     },
     "execution_count": 229,
     "metadata": {},
     "output_type": "execute_result"
    }
   ],
   "source": [
    "df['body'].unique()"
   ]
  },
  {
   "cell_type": "code",
   "execution_count": 230,
   "id": "02193bb0",
   "metadata": {},
   "outputs": [],
   "source": [
    "df['body'] = df['body'].apply(lambda x: x.upper())"
   ]
  },
  {
   "cell_type": "code",
   "execution_count": 231,
   "id": "c0e812ee",
   "metadata": {},
   "outputs": [
    {
     "data": {
      "text/plain": [
       "array(['SUV', 'SEDAN', 'CONVERTIBLE', 'COUPE', 'WAGON', 'HATCHBACK',\n",
       "       'CREW CAB', 'G COUPE', 'G SEDAN', 'ELANTRA COUPE', 'GENESIS COUPE',\n",
       "       'MINIVAN', 'VAN', 'DOUBLE CAB', 'KING CAB', 'SUPERCREW',\n",
       "       'CTS COUPE', 'EXTENDED CAB', 'E-SERIES VAN', 'SUPERCAB',\n",
       "       'REGULAR CAB', 'G CONVERTIBLE', 'KOUP', 'QUAD CAB', 'CREWMAX CAB',\n",
       "       'CTS-V COUPE', 'G37 CONVERTIBLE', 'ACCESS CAB', 'CLUB CAB',\n",
       "       'XTRACAB', 'Q60 CONVERTIBLE', 'CTS WAGON', 'G37 COUPE', 'MEGA CAB',\n",
       "       'CAB PLUS 4', 'Q60 COUPE', 'TSX SPORT WAGON',\n",
       "       'PROMASTER CARGO VAN', 'CAB PLUS', 'BEETLE CONVERTIBLE',\n",
       "       'GRANTURISMO CONVERTIBLE', 'CTS-V WAGON', 'REGULAR-CAB',\n",
       "       'TRANSIT VAN'], dtype=object)"
      ]
     },
     "execution_count": 231,
     "metadata": {},
     "output_type": "execute_result"
    }
   ],
   "source": [
    "df['body'].unique()"
   ]
  },
  {
   "cell_type": "code",
   "execution_count": 232,
   "id": "eabb77fa",
   "metadata": {},
   "outputs": [],
   "source": [
    "# there are 7 main groups under 'body' column\n",
    "suv = ['SUV']\n",
    "sedan = ['SEDAN', 'G SEDAN']\n",
    "convertible = ['CONVERTIBLE', 'G CONVERTIBLE', 'BEETLE CONVERTIBLE', 'Q60 CONVERTIBLE', 'GRANTURISMO CONVERTIBLE', 'G37 CONVERTIBLE']\n",
    "coupe = ['COUPE', 'G COUPE', 'CTS COUPE', 'G37 COUPE', 'Q60 COUPE', 'CTS-V COUPE', 'ELANTRA COUPE', 'GENESIS COUPE']\n",
    "wagon = ['WAGON','PROMASTER CARGO VAN', 'TSX SPORT WAGON', 'CTS WAGON', 'TSX SPORT WAGON', 'CTS-V WAGON']\n",
    "hatchback = ['HATCHBACK', 'KOUP']\n",
    "crew_cab = ['CREW CAB','ACCESS CAB',  'XTRACAB', 'CREWMAX CAB', 'DOUBLE CAB', 'EXTENDED CAB', 'MEGA CAB', 'QUAD CAB', 'SUPERCREW', 'CAB PLUS', 'CAB PLUS 4', 'CLUB CAB', 'KING CAB','REGULAR-CAB', 'SUPERCAB']\n",
    "van = ['VAN','MINIVAN', 'E-SERIES VAN','TRANSIT VAN']"
   ]
  },
  {
   "cell_type": "code",
   "execution_count": 233,
   "id": "6effc564",
   "metadata": {},
   "outputs": [],
   "source": [
    "bodylist = {'suv':suv,\n",
    "            'sedan':sedan,\n",
    "            'convertible':convertible,\n",
    "            'coupe' :  coupe,\n",
    "            'wagon': wagon,\n",
    "            'hatchback':hatchback,\n",
    "            'crew_cab': crew_cab,\n",
    "            'van': van}"
   ]
  },
  {
   "cell_type": "code",
   "execution_count": 234,
   "id": "e0c8ac4e",
   "metadata": {},
   "outputs": [],
   "source": [
    "for key, value in bodylist.items():\n",
    "    conditions = df['body'].isin(value)\n",
    "    df.loc[conditions,'encoded_body']= key"
   ]
  },
  {
   "cell_type": "code",
   "execution_count": 235,
   "id": "c44a8396",
   "metadata": {},
   "outputs": [
    {
     "data": {
      "text/plain": [
       "sedan          227073\n",
       "suv            131555\n",
       "crew_cab        39057\n",
       "van             29681\n",
       "hatchback       23460\n",
       "coupe           18020\n",
       "wagon           14814\n",
       "convertible      9720\n",
       "Name: encoded_body, dtype: int64"
      ]
     },
     "execution_count": 235,
     "metadata": {},
     "output_type": "execute_result"
    }
   ],
   "source": [
    "df['encoded_body'].value_counts()"
   ]
  },
  {
   "cell_type": "code",
   "execution_count": 236,
   "id": "49fc86ef",
   "metadata": {},
   "outputs": [],
   "source": [
    "del df['body']"
   ]
  },
  {
   "cell_type": "code",
   "execution_count": 238,
   "id": "6288fbc7",
   "metadata": {},
   "outputs": [],
   "source": [
    "bod = pd.get_dummies(df['encoded_body'],drop_first = True)"
   ]
  },
  {
   "cell_type": "code",
   "execution_count": 239,
   "id": "85bf5cee",
   "metadata": {},
   "outputs": [
    {
     "data": {
      "text/html": [
       "<div>\n",
       "<style scoped>\n",
       "    .dataframe tbody tr th:only-of-type {\n",
       "        vertical-align: middle;\n",
       "    }\n",
       "\n",
       "    .dataframe tbody tr th {\n",
       "        vertical-align: top;\n",
       "    }\n",
       "\n",
       "    .dataframe thead th {\n",
       "        text-align: right;\n",
       "    }\n",
       "</style>\n",
       "<table border=\"1\" class=\"dataframe\">\n",
       "  <thead>\n",
       "    <tr style=\"text-align: right;\">\n",
       "      <th></th>\n",
       "      <th>coupe</th>\n",
       "      <th>crew_cab</th>\n",
       "      <th>hatchback</th>\n",
       "      <th>sedan</th>\n",
       "      <th>suv</th>\n",
       "      <th>van</th>\n",
       "      <th>wagon</th>\n",
       "    </tr>\n",
       "  </thead>\n",
       "  <tbody>\n",
       "    <tr>\n",
       "      <th>coupe</th>\n",
       "      <td>1.000000</td>\n",
       "      <td>-0.056541</td>\n",
       "      <td>-0.043094</td>\n",
       "      <td>-0.177457</td>\n",
       "      <td>-0.116134</td>\n",
       "      <td>-0.048793</td>\n",
       "      <td>-0.033937</td>\n",
       "    </tr>\n",
       "    <tr>\n",
       "      <th>crew_cab</th>\n",
       "      <td>-0.056541</td>\n",
       "      <td>1.000000</td>\n",
       "      <td>-0.064882</td>\n",
       "      <td>-0.267178</td>\n",
       "      <td>-0.174850</td>\n",
       "      <td>-0.073463</td>\n",
       "      <td>-0.051095</td>\n",
       "    </tr>\n",
       "    <tr>\n",
       "      <th>hatchback</th>\n",
       "      <td>-0.043094</td>\n",
       "      <td>-0.064882</td>\n",
       "      <td>1.000000</td>\n",
       "      <td>-0.203637</td>\n",
       "      <td>-0.133266</td>\n",
       "      <td>-0.055992</td>\n",
       "      <td>-0.038943</td>\n",
       "    </tr>\n",
       "    <tr>\n",
       "      <th>sedan</th>\n",
       "      <td>-0.177457</td>\n",
       "      <td>-0.267178</td>\n",
       "      <td>-0.203637</td>\n",
       "      <td>1.000000</td>\n",
       "      <td>-0.548778</td>\n",
       "      <td>-0.230568</td>\n",
       "      <td>-0.160364</td>\n",
       "    </tr>\n",
       "    <tr>\n",
       "      <th>suv</th>\n",
       "      <td>-0.116134</td>\n",
       "      <td>-0.174850</td>\n",
       "      <td>-0.133266</td>\n",
       "      <td>-0.548778</td>\n",
       "      <td>1.000000</td>\n",
       "      <td>-0.150891</td>\n",
       "      <td>-0.104947</td>\n",
       "    </tr>\n",
       "    <tr>\n",
       "      <th>van</th>\n",
       "      <td>-0.048793</td>\n",
       "      <td>-0.073463</td>\n",
       "      <td>-0.055992</td>\n",
       "      <td>-0.230568</td>\n",
       "      <td>-0.150891</td>\n",
       "      <td>1.000000</td>\n",
       "      <td>-0.044093</td>\n",
       "    </tr>\n",
       "    <tr>\n",
       "      <th>wagon</th>\n",
       "      <td>-0.033937</td>\n",
       "      <td>-0.051095</td>\n",
       "      <td>-0.038943</td>\n",
       "      <td>-0.160364</td>\n",
       "      <td>-0.104947</td>\n",
       "      <td>-0.044093</td>\n",
       "      <td>1.000000</td>\n",
       "    </tr>\n",
       "  </tbody>\n",
       "</table>\n",
       "</div>"
      ],
      "text/plain": [
       "              coupe  crew_cab  hatchback     sedan       suv       van  \\\n",
       "coupe      1.000000 -0.056541  -0.043094 -0.177457 -0.116134 -0.048793   \n",
       "crew_cab  -0.056541  1.000000  -0.064882 -0.267178 -0.174850 -0.073463   \n",
       "hatchback -0.043094 -0.064882   1.000000 -0.203637 -0.133266 -0.055992   \n",
       "sedan     -0.177457 -0.267178  -0.203637  1.000000 -0.548778 -0.230568   \n",
       "suv       -0.116134 -0.174850  -0.133266 -0.548778  1.000000 -0.150891   \n",
       "van       -0.048793 -0.073463  -0.055992 -0.230568 -0.150891  1.000000   \n",
       "wagon     -0.033937 -0.051095  -0.038943 -0.160364 -0.104947 -0.044093   \n",
       "\n",
       "              wagon  \n",
       "coupe     -0.033937  \n",
       "crew_cab  -0.051095  \n",
       "hatchback -0.038943  \n",
       "sedan     -0.160364  \n",
       "suv       -0.104947  \n",
       "van       -0.044093  \n",
       "wagon      1.000000  "
      ]
     },
     "execution_count": 239,
     "metadata": {},
     "output_type": "execute_result"
    }
   ],
   "source": [
    "bod.corr()"
   ]
  },
  {
   "cell_type": "code",
   "execution_count": 241,
   "id": "3abbbfd4",
   "metadata": {},
   "outputs": [],
   "source": [
    "df = pd.concat((df,bod),axis = 1)"
   ]
  },
  {
   "cell_type": "code",
   "execution_count": 242,
   "id": "9cafacfe",
   "metadata": {},
   "outputs": [
    {
     "data": {
      "text/plain": [
       "(497863, 23)"
      ]
     },
     "execution_count": 242,
     "metadata": {},
     "output_type": "execute_result"
    }
   ],
   "source": [
    "df.shape"
   ]
  },
  {
   "cell_type": "code",
   "execution_count": 246,
   "id": "db51cc47",
   "metadata": {},
   "outputs": [
    {
     "data": {
      "text/plain": [
       "coupe        0.055272\n",
       "crew_cab     0.152717\n",
       "hatchback   -0.087287\n",
       "sedan       -0.174582\n",
       "suv          0.152422\n",
       "van         -0.031234\n",
       "wagon       -0.064856\n",
       "Name: sellingprice, dtype: float64"
      ]
     },
     "execution_count": 246,
     "metadata": {},
     "output_type": "execute_result"
    }
   ],
   "source": [
    "df.corr()['sellingprice'][bod.columns]"
   ]
  },
  {
   "cell_type": "markdown",
   "id": "5811bae6",
   "metadata": {},
   "source": [
    "'trim' means a specific model or variation of a car, and we will group them according to the mean of target variable,'sellingprice'"
   ]
  },
  {
   "cell_type": "code",
   "execution_count": 243,
   "id": "469ec9fe",
   "metadata": {},
   "outputs": [
    {
     "data": {
      "text/plain": [
       "array(['LX', '328i SULEV', 'T5', ..., 'pure', 'EWB', 'Power Wagon'],\n",
       "      dtype=object)"
      ]
     },
     "execution_count": 243,
     "metadata": {},
     "output_type": "execute_result"
    }
   ],
   "source": [
    "df['trim'].unique()"
   ]
  },
  {
   "cell_type": "code",
   "execution_count": 244,
   "id": "981cf811",
   "metadata": {},
   "outputs": [],
   "source": [
    "df['trim'] = df['trim'].apply(lambda x: x.upper())"
   ]
  },
  {
   "cell_type": "code",
   "execution_count": 245,
   "id": "0583bdbc",
   "metadata": {},
   "outputs": [
    {
     "data": {
      "text/plain": [
       "1499"
      ]
     },
     "execution_count": 245,
     "metadata": {},
     "output_type": "execute_result"
    }
   ],
   "source": [
    "df['trim'].nunique()"
   ]
  },
  {
   "cell_type": "markdown",
   "id": "5c7cd2a8",
   "metadata": {},
   "source": [
    "19 elements were excluded,because they were same with some other elements.Let's look at ways how can we group trims of cars."
   ]
  },
  {
   "cell_type": "code",
   "execution_count": 247,
   "id": "62a9b2c1",
   "metadata": {},
   "outputs": [],
   "source": [
    "import category_encoders as ce\n",
    "\n",
    "# Create a target encoder object\n",
    "te = ce.TargetEncoder(cols=['trim'])\n",
    "\n",
    "# Fit the encoder to the data and transform the \"trim\" variable\n",
    "df = te.fit_transform(df, df['sellingprice'])"
   ]
  },
  {
   "cell_type": "markdown",
   "id": "1b9fd304",
   "metadata": {},
   "source": [
    "Working on 'color' column"
   ]
  },
  {
   "cell_type": "markdown",
   "id": "2458146e",
   "metadata": {},
   "source": [
    "Adding Color Codes in Decimals as Features"
   ]
  },
  {
   "cell_type": "code",
   "execution_count": 248,
   "id": "bf228208",
   "metadata": {},
   "outputs": [],
   "source": [
    "colors = {'Gray' : (128, 128, 128),\n",
    "'Green' : (0, 255, 0),\n",
    "'Blue' : (0, 0, 255),\n",
    "'Black' : (0, 0, 0),\n",
    "'White' : (255, 255, 255),\n",
    "'Red' : (255, 0, 0),\n",
    "'Lime' : (0, 255, 0),\n",
    "'Yellow' : (255, 255, 0),\n",
    "'Purple' : (128, 0, 128),\n",
    "'Silver' : (192, 192, 192),\n",
    "'Turquoise' : (48, 213, 200),\n",
    "'Brown' : (150, 75, 0),\n",
    "'Beige' : (245, 245, 220),\n",
    "'Gold' : (255, 215, 0),\n",
    "'Burgundy' : (128, 0, 32),\n",
    "'Charcoal' : (54, 69, 79),\n",
    "'Orange' : (255, 165, 0),\n",
    "'Off_white' : (250, 249, 246),\n",
    "'Pink' : (255, 192, 203)}"
   ]
  },
  {
   "cell_type": "code",
   "execution_count": 249,
   "id": "3ae90db7",
   "metadata": {},
   "outputs": [],
   "source": [
    "colors = {key.lower():value for key, value in colors.items()}"
   ]
  },
  {
   "cell_type": "code",
   "execution_count": 250,
   "id": "72f7555b",
   "metadata": {},
   "outputs": [],
   "source": [
    "decimal_code = np.zeros((df.shape[0], 3))\n",
    "for color_name, color_code in colors.items():\n",
    "    decimal_code[df['color'] == color_name] = color_code"
   ]
  },
  {
   "cell_type": "code",
   "execution_count": 251,
   "id": "38d1efcc",
   "metadata": {},
   "outputs": [],
   "source": [
    "new_data = np.concatenate((decimal_code, df[['sellingprice']].values), axis = 1)\n",
    "newdf = pd.DataFrame(new_data, columns = ['color_code1', 'color_code2', 'color_code3', 'price'])"
   ]
  },
  {
   "cell_type": "code",
   "execution_count": 252,
   "id": "f5306575",
   "metadata": {},
   "outputs": [
    {
     "data": {
      "text/plain": [
       "color_code1   -0.027800\n",
       "color_code2   -0.033024\n",
       "color_code3   -0.034455\n",
       "price          1.000000\n",
       "Name: price, dtype: float64"
      ]
     },
     "execution_count": 252,
     "metadata": {},
     "output_type": "execute_result"
    }
   ],
   "source": [
    "newdf.corr()['price']"
   ]
  },
  {
   "cell_type": "code",
   "execution_count": 39,
   "id": "3b2e0faa",
   "metadata": {},
   "outputs": [],
   "source": [
    "#Summary: Not Useful. Correlation with Selling Price is -0.03"
   ]
  },
  {
   "cell_type": "markdown",
   "id": "000c9596",
   "metadata": {},
   "source": [
    "Grouping Colors into two categories in terms of Selling Price means "
   ]
  },
  {
   "cell_type": "code",
   "execution_count": 253,
   "id": "bc6a84ee",
   "metadata": {},
   "outputs": [
    {
     "data": {
      "image/png": "[encoded data removed]",
      "text/plain": [
       "<Figure size 432x288 with 1 Axes>"
      ]
     },
     "metadata": {
      "needs_background": "light"
     },
     "output_type": "display_data"
    }
   ],
   "source": [
    "means = df.groupby('color')['sellingprice'].mean()\n",
    "means = means.sort_values()\n",
    "cols = means.index\n",
    "values = means.values\n",
    "\n",
    "plt.xticks(rotation = 45)\n",
    "plt.ylabel('Mean Price')\n",
    "plt.xlabel('Color')\n",
    "plt.bar(cols, values)\n",
    "plt.savefig('color_mean_price.png')"
   ]
  },
  {
   "cell_type": "code",
   "execution_count": 254,
   "id": "0aa73594",
   "metadata": {},
   "outputs": [],
   "source": [
    "threshold = (means['blue'] + means['beige']) / 2"
   ]
  },
  {
   "cell_type": "code",
   "execution_count": 255,
   "id": "8c6d2b76",
   "metadata": {},
   "outputs": [],
   "source": [
    "unpopular_colors = means[means < threshold].index\n",
    "popular_colors = means[means >= threshold].index"
   ]
  },
  {
   "cell_type": "code",
   "execution_count": 256,
   "id": "4dd03eb4",
   "metadata": {},
   "outputs": [
    {
     "data": {
      "text/plain": [
       "Index(['blue', 'pink', 'silver', 'burgundy', 'purple', 'yellow', 'red',\n",
       "       'orange', 'gray', 'lime', 'white', 'off-white', 'brown', 'black',\n",
       "       'charcoal'],\n",
       "      dtype='object', name='color')"
      ]
     },
     "execution_count": 256,
     "metadata": {},
     "output_type": "execute_result"
    }
   ],
   "source": [
    "popular_colors"
   ]
  },
  {
   "cell_type": "code",
   "execution_count": 257,
   "id": "c1125622",
   "metadata": {},
   "outputs": [],
   "source": [
    "df['eval_color'] = df['color']\n",
    "df.loc[df['eval_color'].isin(unpopular_colors), 'eval_color'] = 'unpopular'\n",
    "df.loc[df['eval_color'].isin(popular_colors), 'eval_color'] = 'popular'"
   ]
  },
  {
   "cell_type": "code",
   "execution_count": 258,
   "id": "aac9659c",
   "metadata": {},
   "outputs": [
    {
     "data": {
      "text/plain": [
       "unpopular      -0.119405\n",
       "sellingprice    1.000000\n",
       "Name: sellingprice, dtype: float64"
      ]
     },
     "execution_count": 258,
     "metadata": {},
     "output_type": "execute_result"
    }
   ],
   "source": [
    "eval_color = pd.get_dummies(df['eval_color'], drop_first = True)\n",
    "pd.concat((eval_color, df[['sellingprice']]), axis = 1).corr()['sellingprice']"
   ]
  },
  {
   "cell_type": "code",
   "execution_count": 259,
   "id": "27f7a3e8",
   "metadata": {},
   "outputs": [
    {
     "data": {
      "text/plain": [
       "((497863, 1), (497863,))"
      ]
     },
     "execution_count": 259,
     "metadata": {},
     "output_type": "execute_result"
    }
   ],
   "source": [
    "eval_color.shape, df.sellingprice.shape"
   ]
  },
  {
   "cell_type": "code",
   "execution_count": 260,
   "id": "07760cee",
   "metadata": {},
   "outputs": [],
   "source": [
    "eval_color = eval_color.astype(np.int64)"
   ]
  },
  {
   "cell_type": "code",
   "execution_count": 261,
   "id": "4926541e",
   "metadata": {},
   "outputs": [],
   "source": [
    "df['eval_color'] = eval_color"
   ]
  },
  {
   "cell_type": "code",
   "execution_count": 49,
   "id": "0eab3be6",
   "metadata": {},
   "outputs": [],
   "source": [
    "#Summary: Low but Better. Correlation with Selling Price is -0.12"
   ]
  },
  {
   "cell_type": "markdown",
   "id": "3401706b",
   "metadata": {},
   "source": [
    "Applying TargetEncoder Method"
   ]
  },
  {
   "cell_type": "code",
   "execution_count": 262,
   "id": "f85d9a76",
   "metadata": {},
   "outputs": [],
   "source": [
    "te = TargetEncoder(cols = 'color')\n",
    "encoded_color = te.fit_transform(df.color, df.sellingprice)"
   ]
  },
  {
   "cell_type": "code",
   "execution_count": 263,
   "id": "95c2765e",
   "metadata": {},
   "outputs": [],
   "source": [
    "encoded_color.rename({'color': 'encoded_color'}, axis = 1, inplace = True)"
   ]
  },
  {
   "cell_type": "code",
   "execution_count": 264,
   "id": "8d34a87b",
   "metadata": {},
   "outputs": [],
   "source": [
    "df['encoded_color'] = encoded_color"
   ]
  },
  {
   "cell_type": "code",
   "execution_count": 265,
   "id": "9ed6407b",
   "metadata": {},
   "outputs": [
    {
     "data": {
      "text/plain": [
       "0.19261673798062948"
      ]
     },
     "execution_count": 265,
     "metadata": {},
     "output_type": "execute_result"
    }
   ],
   "source": [
    "df.corr()['encoded_color']['sellingprice']"
   ]
  },
  {
   "cell_type": "code",
   "execution_count": 54,
   "id": "f0e23ba0",
   "metadata": {},
   "outputs": [],
   "source": [
    "#Summary: Low but Better. Correlation with Selling Price is 0.19"
   ]
  },
  {
   "cell_type": "markdown",
   "id": "c359899f",
   "metadata": {},
   "source": [
    "'interior' column"
   ]
  },
  {
   "cell_type": "code",
   "execution_count": 266,
   "id": "0abba86c",
   "metadata": {},
   "outputs": [],
   "source": [
    "te = TargetEncoder(cols = ['interior']).fit(df['interior'], df['sellingprice'])\n",
    "df['encoded_interior'] = te.transform(df['interior'])"
   ]
  },
  {
   "cell_type": "code",
   "execution_count": 267,
   "id": "98143964",
   "metadata": {},
   "outputs": [
    {
     "data": {
      "text/plain": [
       "0.24072179183640424"
      ]
     },
     "execution_count": 267,
     "metadata": {},
     "output_type": "execute_result"
    }
   ],
   "source": [
    "df.corr()['sellingprice']['encoded_interior']"
   ]
  },
  {
   "cell_type": "code",
   "execution_count": 57,
   "id": "cdb72c79",
   "metadata": {},
   "outputs": [],
   "source": [
    "#Summary: Low but Better. Correlation with Selling Price is 0.24"
   ]
  },
  {
   "cell_type": "markdown",
   "id": "c637eec1",
   "metadata": {},
   "source": [
    "'seller' column"
   ]
  },
  {
   "cell_type": "code",
   "execution_count": 268,
   "id": "bf95d84a",
   "metadata": {},
   "outputs": [],
   "source": [
    "df.reset_index(drop = True, inplace = True)"
   ]
  },
  {
   "cell_type": "code",
   "execution_count": 269,
   "id": "d23c6cd6",
   "metadata": {},
   "outputs": [],
   "source": [
    "from sklearn.feature_extraction.text import TfidfVectorizer"
   ]
  },
  {
   "cell_type": "code",
   "execution_count": 270,
   "id": "ba78cea2",
   "metadata": {},
   "outputs": [],
   "source": [
    "vectorizer = TfidfVectorizer(max_features = 5)\n",
    "tfidf = vectorizer.fit_transform(df.seller)"
   ]
  },
  {
   "cell_type": "code",
   "execution_count": 271,
   "id": "997da204",
   "metadata": {},
   "outputs": [],
   "source": [
    "cols = vectorizer.get_feature_names_out()"
   ]
  },
  {
   "cell_type": "code",
   "execution_count": 272,
   "id": "2b806283",
   "metadata": {},
   "outputs": [],
   "source": [
    "tfidf = pd.DataFrame(tfidf.toarray(), columns = cols)"
   ]
  },
  {
   "cell_type": "code",
   "execution_count": 273,
   "id": "ceb878ab",
   "metadata": {},
   "outputs": [
    {
     "data": {
      "text/plain": [
       "(497863, 5)"
      ]
     },
     "execution_count": 273,
     "metadata": {},
     "output_type": "execute_result"
    }
   ],
   "source": [
    "tfidf.shape"
   ]
  },
  {
   "cell_type": "code",
   "execution_count": 274,
   "id": "e9766d3e",
   "metadata": {},
   "outputs": [
    {
     "data": {
      "text/plain": [
       "auto           -0.025927\n",
       "corporation    -0.005295\n",
       "credit         -0.011887\n",
       "inc             0.068787\n",
       "services        0.082616\n",
       "sellingprice    1.000000\n",
       "Name: sellingprice, dtype: float64"
      ]
     },
     "execution_count": 274,
     "metadata": {},
     "output_type": "execute_result"
    }
   ],
   "source": [
    "pd.concat((tfidf, df[['sellingprice']]), axis = 1).corr()['sellingprice']"
   ]
  },
  {
   "cell_type": "code",
   "execution_count": 275,
   "id": "6913004d",
   "metadata": {},
   "outputs": [],
   "source": [
    "df = pd.concat((df, tfidf), axis = 1)"
   ]
  },
  {
   "cell_type": "code",
   "execution_count": 276,
   "id": "f1242a1a",
   "metadata": {},
   "outputs": [
    {
     "data": {
      "text/plain": [
       "(497863, 31)"
      ]
     },
     "execution_count": 276,
     "metadata": {},
     "output_type": "execute_result"
    }
   ],
   "source": [
    "df.shape"
   ]
  },
  {
   "cell_type": "markdown",
   "id": "eebe3103",
   "metadata": {},
   "source": [
    "'saledate' column"
   ]
  },
  {
   "cell_type": "code",
   "execution_count": 277,
   "id": "4b524d33",
   "metadata": {},
   "outputs": [],
   "source": [
    "saledate = df['saledate'].str.split(expand = True)"
   ]
  },
  {
   "cell_type": "code",
   "execution_count": 278,
   "id": "26864859",
   "metadata": {},
   "outputs": [
    {
     "data": {
      "text/plain": [
       "0         Tue Dec 16 2014 12:30:00 GMT-0800 (PST)\n",
       "1         Tue Dec 16 2014 12:30:00 GMT-0800 (PST)\n",
       "2         Thu Jan 15 2015 04:30:00 GMT-0800 (PST)\n",
       "3         Thu Jan 29 2015 04:30:00 GMT-0800 (PST)\n",
       "4         Thu Dec 18 2014 12:30:00 GMT-0800 (PST)\n",
       "                           ...                   \n",
       "497858    Thu Jul 09 2015 07:00:00 GMT-0700 (PDT)\n",
       "497859    Wed Jul 08 2015 09:30:00 GMT-0700 (PDT)\n",
       "497860    Wed Jul 08 2015 09:30:00 GMT-0700 (PDT)\n",
       "497861    Thu Jul 09 2015 06:45:00 GMT-0700 (PDT)\n",
       "497862    Thu May 28 2015 05:30:00 GMT-0700 (PDT)\n",
       "Name: saledate, Length: 497863, dtype: object"
      ]
     },
     "execution_count": 278,
     "metadata": {},
     "output_type": "execute_result"
    }
   ],
   "source": [
    "df['saledate']"
   ]
  },
  {
   "cell_type": "code",
   "execution_count": 279,
   "id": "899d4049",
   "metadata": {},
   "outputs": [],
   "source": [
    "saledate = saledate.rename({0:'day', 1:'month', 2:'day_number', 3:'year', 4:'time', 5:'gmt', 6:'standard_time'}, axis = 1)"
   ]
  },
  {
   "cell_type": "code",
   "execution_count": 280,
   "id": "c7631c08",
   "metadata": {},
   "outputs": [
    {
     "data": {
      "text/html": [
       "<div>\n",
       "<style scoped>\n",
       "    .dataframe tbody tr th:only-of-type {\n",
       "        vertical-align: middle;\n",
       "    }\n",
       "\n",
       "    .dataframe tbody tr th {\n",
       "        vertical-align: top;\n",
       "    }\n",
       "\n",
       "    .dataframe thead th {\n",
       "        text-align: right;\n",
       "    }\n",
       "</style>\n",
       "<table border=\"1\" class=\"dataframe\">\n",
       "  <thead>\n",
       "    <tr style=\"text-align: right;\">\n",
       "      <th></th>\n",
       "      <th>day</th>\n",
       "      <th>month</th>\n",
       "      <th>day_number</th>\n",
       "      <th>year</th>\n",
       "      <th>time</th>\n",
       "      <th>gmt</th>\n",
       "      <th>standard_time</th>\n",
       "    </tr>\n",
       "  </thead>\n",
       "  <tbody>\n",
       "    <tr>\n",
       "      <th>0</th>\n",
       "      <td>Tue</td>\n",
       "      <td>Dec</td>\n",
       "      <td>16</td>\n",
       "      <td>2014</td>\n",
       "      <td>12:30:00</td>\n",
       "      <td>GMT-0800</td>\n",
       "      <td>(PST)</td>\n",
       "    </tr>\n",
       "    <tr>\n",
       "      <th>1</th>\n",
       "      <td>Tue</td>\n",
       "      <td>Dec</td>\n",
       "      <td>16</td>\n",
       "      <td>2014</td>\n",
       "      <td>12:30:00</td>\n",
       "      <td>GMT-0800</td>\n",
       "      <td>(PST)</td>\n",
       "    </tr>\n",
       "    <tr>\n",
       "      <th>2</th>\n",
       "      <td>Thu</td>\n",
       "      <td>Jan</td>\n",
       "      <td>15</td>\n",
       "      <td>2015</td>\n",
       "      <td>04:30:00</td>\n",
       "      <td>GMT-0800</td>\n",
       "      <td>(PST)</td>\n",
       "    </tr>\n",
       "    <tr>\n",
       "      <th>3</th>\n",
       "      <td>Thu</td>\n",
       "      <td>Jan</td>\n",
       "      <td>29</td>\n",
       "      <td>2015</td>\n",
       "      <td>04:30:00</td>\n",
       "      <td>GMT-0800</td>\n",
       "      <td>(PST)</td>\n",
       "    </tr>\n",
       "    <tr>\n",
       "      <th>4</th>\n",
       "      <td>Thu</td>\n",
       "      <td>Dec</td>\n",
       "      <td>18</td>\n",
       "      <td>2014</td>\n",
       "      <td>12:30:00</td>\n",
       "      <td>GMT-0800</td>\n",
       "      <td>(PST)</td>\n",
       "    </tr>\n",
       "    <tr>\n",
       "      <th>...</th>\n",
       "      <td>...</td>\n",
       "      <td>...</td>\n",
       "      <td>...</td>\n",
       "      <td>...</td>\n",
       "      <td>...</td>\n",
       "      <td>...</td>\n",
       "      <td>...</td>\n",
       "    </tr>\n",
       "    <tr>\n",
       "      <th>497858</th>\n",
       "      <td>Thu</td>\n",
       "      <td>Jul</td>\n",
       "      <td>09</td>\n",
       "      <td>2015</td>\n",
       "      <td>07:00:00</td>\n",
       "      <td>GMT-0700</td>\n",
       "      <td>(PDT)</td>\n",
       "    </tr>\n",
       "    <tr>\n",
       "      <th>497859</th>\n",
       "      <td>Wed</td>\n",
       "      <td>Jul</td>\n",
       "      <td>08</td>\n",
       "      <td>2015</td>\n",
       "      <td>09:30:00</td>\n",
       "      <td>GMT-0700</td>\n",
       "      <td>(PDT)</td>\n",
       "    </tr>\n",
       "    <tr>\n",
       "      <th>497860</th>\n",
       "      <td>Wed</td>\n",
       "      <td>Jul</td>\n",
       "      <td>08</td>\n",
       "      <td>2015</td>\n",
       "      <td>09:30:00</td>\n",
       "      <td>GMT-0700</td>\n",
       "      <td>(PDT)</td>\n",
       "    </tr>\n",
       "    <tr>\n",
       "      <th>497861</th>\n",
       "      <td>Thu</td>\n",
       "      <td>Jul</td>\n",
       "      <td>09</td>\n",
       "      <td>2015</td>\n",
       "      <td>06:45:00</td>\n",
       "      <td>GMT-0700</td>\n",
       "      <td>(PDT)</td>\n",
       "    </tr>\n",
       "    <tr>\n",
       "      <th>497862</th>\n",
       "      <td>Thu</td>\n",
       "      <td>May</td>\n",
       "      <td>28</td>\n",
       "      <td>2015</td>\n",
       "      <td>05:30:00</td>\n",
       "      <td>GMT-0700</td>\n",
       "      <td>(PDT)</td>\n",
       "    </tr>\n",
       "  </tbody>\n",
       "</table>\n",
       "<p>497863 rows × 7 columns</p>\n",
       "</div>"
      ],
      "text/plain": [
       "        day month day_number  year      time       gmt standard_time\n",
       "0       Tue   Dec         16  2014  12:30:00  GMT-0800         (PST)\n",
       "1       Tue   Dec         16  2014  12:30:00  GMT-0800         (PST)\n",
       "2       Thu   Jan         15  2015  04:30:00  GMT-0800         (PST)\n",
       "3       Thu   Jan         29  2015  04:30:00  GMT-0800         (PST)\n",
       "4       Thu   Dec         18  2014  12:30:00  GMT-0800         (PST)\n",
       "...     ...   ...        ...   ...       ...       ...           ...\n",
       "497858  Thu   Jul         09  2015  07:00:00  GMT-0700         (PDT)\n",
       "497859  Wed   Jul         08  2015  09:30:00  GMT-0700         (PDT)\n",
       "497860  Wed   Jul         08  2015  09:30:00  GMT-0700         (PDT)\n",
       "497861  Thu   Jul         09  2015  06:45:00  GMT-0700         (PDT)\n",
       "497862  Thu   May         28  2015  05:30:00  GMT-0700         (PDT)\n",
       "\n",
       "[497863 rows x 7 columns]"
      ]
     },
     "execution_count": 280,
     "metadata": {},
     "output_type": "execute_result"
    }
   ],
   "source": [
    "saledate"
   ]
  },
  {
   "cell_type": "markdown",
   "id": "ef4df197",
   "metadata": {},
   "source": [
    "Next few code lines check for appropriateness of columns"
   ]
  },
  {
   "cell_type": "code",
   "execution_count": 281,
   "id": "669df918",
   "metadata": {},
   "outputs": [
    {
     "data": {
      "text/plain": [
       "array(['Tue', 'Thu', 'Wed', 'Fri', 'Mon', 'Sat', 'Sun'], dtype=object)"
      ]
     },
     "execution_count": 281,
     "metadata": {},
     "output_type": "execute_result"
    }
   ],
   "source": [
    "saledate.day.unique()"
   ]
  },
  {
   "cell_type": "code",
   "execution_count": 282,
   "id": "2256d4a4",
   "metadata": {},
   "outputs": [
    {
     "data": {
      "text/plain": [
       "array(['Dec', 'Jan', 'Jul', 'Feb', 'May', 'Jun', 'Mar', 'Apr'],\n",
       "      dtype=object)"
      ]
     },
     "execution_count": 282,
     "metadata": {},
     "output_type": "execute_result"
    }
   ],
   "source": [
    "saledate.month.unique()"
   ]
  },
  {
   "cell_type": "code",
   "execution_count": 283,
   "id": "93176224",
   "metadata": {},
   "outputs": [
    {
     "data": {
      "text/plain": [
       "array(['16', '15', '29', '18', '30', '17', '20', '13', '23', '07', '03',\n",
       "       '06', '26', '12', '04', '22', '14', '27', '31', '21', '08', '11',\n",
       "       '28', '10', '05', '19', '25', '09', '24', '02', '01'], dtype=object)"
      ]
     },
     "execution_count": 283,
     "metadata": {},
     "output_type": "execute_result"
    }
   ],
   "source": [
    "saledate.day_number.unique()"
   ]
  },
  {
   "cell_type": "code",
   "execution_count": 284,
   "id": "ab0dcdea",
   "metadata": {},
   "outputs": [
    {
     "data": {
      "text/plain": [
       "array(['2014', '2015'], dtype=object)"
      ]
     },
     "execution_count": 284,
     "metadata": {},
     "output_type": "execute_result"
    }
   ],
   "source": [
    "saledate.year.unique()"
   ]
  },
  {
   "cell_type": "code",
   "execution_count": 286,
   "id": "fa3c8f5c",
   "metadata": {},
   "outputs": [
    {
     "data": {
      "text/plain": [
       "month\n",
       "Apr    30\n",
       "Dec    31\n",
       "Feb    27\n",
       "Jan    30\n",
       "Jul    21\n",
       "Jun    30\n",
       "Mar    31\n",
       "May    31\n",
       "Name: day_number, dtype: object"
      ]
     },
     "execution_count": 286,
     "metadata": {},
     "output_type": "execute_result"
    }
   ],
   "source": [
    "saledate.groupby('month').day_number.max()"
   ]
  },
  {
   "cell_type": "code",
   "execution_count": 287,
   "id": "355e172d",
   "metadata": {},
   "outputs": [
    {
     "data": {
      "text/plain": [
       "year  month\n",
       "2014  Dec      31\n",
       "      Feb      14\n",
       "      Jan      15\n",
       "2015  Apr      30\n",
       "      Feb      27\n",
       "      Jan      30\n",
       "      Jul      21\n",
       "      Jun      30\n",
       "      Mar      31\n",
       "      May      31\n",
       "Name: day_number, dtype: object"
      ]
     },
     "execution_count": 287,
     "metadata": {},
     "output_type": "execute_result"
    }
   ],
   "source": [
    "saledate.groupby(['year', 'month']).day_number.max()"
   ]
  },
  {
   "cell_type": "code",
   "execution_count": 288,
   "id": "ca0dd267",
   "metadata": {},
   "outputs": [],
   "source": [
    "time_column = saledate.time.str.split(':', expand = True)\n",
    "time_column = time_column.rename({0: 'hour', 1:'minute', 2:'second'}, axis = 1)"
   ]
  },
  {
   "cell_type": "code",
   "execution_count": 289,
   "id": "4d2ab818",
   "metadata": {},
   "outputs": [
    {
     "data": {
      "text/html": [
       "<div>\n",
       "<style scoped>\n",
       "    .dataframe tbody tr th:only-of-type {\n",
       "        vertical-align: middle;\n",
       "    }\n",
       "\n",
       "    .dataframe tbody tr th {\n",
       "        vertical-align: top;\n",
       "    }\n",
       "\n",
       "    .dataframe thead th {\n",
       "        text-align: right;\n",
       "    }\n",
       "</style>\n",
       "<table border=\"1\" class=\"dataframe\">\n",
       "  <thead>\n",
       "    <tr style=\"text-align: right;\">\n",
       "      <th></th>\n",
       "      <th>hour</th>\n",
       "      <th>minute</th>\n",
       "      <th>second</th>\n",
       "    </tr>\n",
       "  </thead>\n",
       "  <tbody>\n",
       "    <tr>\n",
       "      <th>0</th>\n",
       "      <td>12</td>\n",
       "      <td>30</td>\n",
       "      <td>00</td>\n",
       "    </tr>\n",
       "    <tr>\n",
       "      <th>1</th>\n",
       "      <td>12</td>\n",
       "      <td>30</td>\n",
       "      <td>00</td>\n",
       "    </tr>\n",
       "    <tr>\n",
       "      <th>2</th>\n",
       "      <td>04</td>\n",
       "      <td>30</td>\n",
       "      <td>00</td>\n",
       "    </tr>\n",
       "    <tr>\n",
       "      <th>3</th>\n",
       "      <td>04</td>\n",
       "      <td>30</td>\n",
       "      <td>00</td>\n",
       "    </tr>\n",
       "    <tr>\n",
       "      <th>4</th>\n",
       "      <td>12</td>\n",
       "      <td>30</td>\n",
       "      <td>00</td>\n",
       "    </tr>\n",
       "    <tr>\n",
       "      <th>...</th>\n",
       "      <td>...</td>\n",
       "      <td>...</td>\n",
       "      <td>...</td>\n",
       "    </tr>\n",
       "    <tr>\n",
       "      <th>497858</th>\n",
       "      <td>07</td>\n",
       "      <td>00</td>\n",
       "      <td>00</td>\n",
       "    </tr>\n",
       "    <tr>\n",
       "      <th>497859</th>\n",
       "      <td>09</td>\n",
       "      <td>30</td>\n",
       "      <td>00</td>\n",
       "    </tr>\n",
       "    <tr>\n",
       "      <th>497860</th>\n",
       "      <td>09</td>\n",
       "      <td>30</td>\n",
       "      <td>00</td>\n",
       "    </tr>\n",
       "    <tr>\n",
       "      <th>497861</th>\n",
       "      <td>06</td>\n",
       "      <td>45</td>\n",
       "      <td>00</td>\n",
       "    </tr>\n",
       "    <tr>\n",
       "      <th>497862</th>\n",
       "      <td>05</td>\n",
       "      <td>30</td>\n",
       "      <td>00</td>\n",
       "    </tr>\n",
       "  </tbody>\n",
       "</table>\n",
       "<p>497863 rows × 3 columns</p>\n",
       "</div>"
      ],
      "text/plain": [
       "       hour minute second\n",
       "0        12     30     00\n",
       "1        12     30     00\n",
       "2        04     30     00\n",
       "3        04     30     00\n",
       "4        12     30     00\n",
       "...     ...    ...    ...\n",
       "497858   07     00     00\n",
       "497859   09     30     00\n",
       "497860   09     30     00\n",
       "497861   06     45     00\n",
       "497862   05     30     00\n",
       "\n",
       "[497863 rows x 3 columns]"
      ]
     },
     "execution_count": 289,
     "metadata": {},
     "output_type": "execute_result"
    }
   ],
   "source": [
    "time_column"
   ]
  },
  {
   "cell_type": "code",
   "execution_count": 290,
   "id": "02703670",
   "metadata": {},
   "outputs": [
    {
     "data": {
      "text/plain": [
       "hour      20\n",
       "minute    59\n",
       "second    00\n",
       "dtype: object"
      ]
     },
     "execution_count": 290,
     "metadata": {},
     "output_type": "execute_result"
    }
   ],
   "source": [
    "time_column.max()"
   ]
  },
  {
   "cell_type": "code",
   "execution_count": 291,
   "id": "c137849e",
   "metadata": {},
   "outputs": [
    {
     "data": {
      "text/plain": [
       "hour      00\n",
       "minute    00\n",
       "second    00\n",
       "dtype: object"
      ]
     },
     "execution_count": 291,
     "metadata": {},
     "output_type": "execute_result"
    }
   ],
   "source": [
    "time_column.min()"
   ]
  },
  {
   "cell_type": "code",
   "execution_count": 292,
   "id": "54f167e4",
   "metadata": {},
   "outputs": [
    {
     "data": {
      "text/plain": [
       "(497863, 497863)"
      ]
     },
     "execution_count": 292,
     "metadata": {},
     "output_type": "execute_result"
    }
   ],
   "source": [
    "saledate.gmt.str.contains('GMT').sum(), saledate.shape[0]"
   ]
  },
  {
   "cell_type": "code",
   "execution_count": 293,
   "id": "5ba55e99",
   "metadata": {},
   "outputs": [
    {
     "data": {
      "text/plain": [
       "array(['(PST)', '(PDT)'], dtype=object)"
      ]
     },
     "execution_count": 293,
     "metadata": {},
     "output_type": "execute_result"
    }
   ],
   "source": [
    "saledate.standard_time.unique()"
   ]
  },
  {
   "cell_type": "markdown",
   "id": "d7895170",
   "metadata": {},
   "source": [
    "We proved that sale date is properly filled."
   ]
  },
  {
   "cell_type": "code",
   "execution_count": 294,
   "id": "fc010a92",
   "metadata": {},
   "outputs": [],
   "source": [
    "saledate = pd.concat((saledate, df[['sellingprice']]), axis = 1)"
   ]
  },
  {
   "cell_type": "code",
   "execution_count": 295,
   "id": "292f0718",
   "metadata": {},
   "outputs": [
    {
     "data": {
      "text/html": [
       "<div>\n",
       "<style scoped>\n",
       "    .dataframe tbody tr th:only-of-type {\n",
       "        vertical-align: middle;\n",
       "    }\n",
       "\n",
       "    .dataframe tbody tr th {\n",
       "        vertical-align: top;\n",
       "    }\n",
       "\n",
       "    .dataframe thead th {\n",
       "        text-align: right;\n",
       "    }\n",
       "</style>\n",
       "<table border=\"1\" class=\"dataframe\">\n",
       "  <thead>\n",
       "    <tr style=\"text-align: right;\">\n",
       "      <th></th>\n",
       "      <th>day</th>\n",
       "      <th>month</th>\n",
       "      <th>day_number</th>\n",
       "      <th>year</th>\n",
       "      <th>time</th>\n",
       "      <th>gmt</th>\n",
       "      <th>standard_time</th>\n",
       "      <th>sellingprice</th>\n",
       "    </tr>\n",
       "  </thead>\n",
       "  <tbody>\n",
       "    <tr>\n",
       "      <th>0</th>\n",
       "      <td>Tue</td>\n",
       "      <td>Dec</td>\n",
       "      <td>16</td>\n",
       "      <td>2014</td>\n",
       "      <td>12:30:00</td>\n",
       "      <td>GMT-0800</td>\n",
       "      <td>(PST)</td>\n",
       "      <td>21500</td>\n",
       "    </tr>\n",
       "    <tr>\n",
       "      <th>1</th>\n",
       "      <td>Tue</td>\n",
       "      <td>Dec</td>\n",
       "      <td>16</td>\n",
       "      <td>2014</td>\n",
       "      <td>12:30:00</td>\n",
       "      <td>GMT-0800</td>\n",
       "      <td>(PST)</td>\n",
       "      <td>21500</td>\n",
       "    </tr>\n",
       "    <tr>\n",
       "      <th>2</th>\n",
       "      <td>Thu</td>\n",
       "      <td>Jan</td>\n",
       "      <td>15</td>\n",
       "      <td>2015</td>\n",
       "      <td>04:30:00</td>\n",
       "      <td>GMT-0800</td>\n",
       "      <td>(PST)</td>\n",
       "      <td>30000</td>\n",
       "    </tr>\n",
       "    <tr>\n",
       "      <th>3</th>\n",
       "      <td>Thu</td>\n",
       "      <td>Jan</td>\n",
       "      <td>29</td>\n",
       "      <td>2015</td>\n",
       "      <td>04:30:00</td>\n",
       "      <td>GMT-0800</td>\n",
       "      <td>(PST)</td>\n",
       "      <td>27750</td>\n",
       "    </tr>\n",
       "    <tr>\n",
       "      <th>4</th>\n",
       "      <td>Thu</td>\n",
       "      <td>Dec</td>\n",
       "      <td>18</td>\n",
       "      <td>2014</td>\n",
       "      <td>12:30:00</td>\n",
       "      <td>GMT-0800</td>\n",
       "      <td>(PST)</td>\n",
       "      <td>67000</td>\n",
       "    </tr>\n",
       "    <tr>\n",
       "      <th>...</th>\n",
       "      <td>...</td>\n",
       "      <td>...</td>\n",
       "      <td>...</td>\n",
       "      <td>...</td>\n",
       "      <td>...</td>\n",
       "      <td>...</td>\n",
       "      <td>...</td>\n",
       "      <td>...</td>\n",
       "    </tr>\n",
       "    <tr>\n",
       "      <th>497858</th>\n",
       "      <td>Thu</td>\n",
       "      <td>Jul</td>\n",
       "      <td>09</td>\n",
       "      <td>2015</td>\n",
       "      <td>07:00:00</td>\n",
       "      <td>GMT-0700</td>\n",
       "      <td>(PDT)</td>\n",
       "      <td>33000</td>\n",
       "    </tr>\n",
       "    <tr>\n",
       "      <th>497859</th>\n",
       "      <td>Wed</td>\n",
       "      <td>Jul</td>\n",
       "      <td>08</td>\n",
       "      <td>2015</td>\n",
       "      <td>09:30:00</td>\n",
       "      <td>GMT-0700</td>\n",
       "      <td>(PDT)</td>\n",
       "      <td>30800</td>\n",
       "    </tr>\n",
       "    <tr>\n",
       "      <th>497860</th>\n",
       "      <td>Wed</td>\n",
       "      <td>Jul</td>\n",
       "      <td>08</td>\n",
       "      <td>2015</td>\n",
       "      <td>09:30:00</td>\n",
       "      <td>GMT-0700</td>\n",
       "      <td>(PDT)</td>\n",
       "      <td>34000</td>\n",
       "    </tr>\n",
       "    <tr>\n",
       "      <th>497861</th>\n",
       "      <td>Thu</td>\n",
       "      <td>Jul</td>\n",
       "      <td>09</td>\n",
       "      <td>2015</td>\n",
       "      <td>06:45:00</td>\n",
       "      <td>GMT-0700</td>\n",
       "      <td>(PDT)</td>\n",
       "      <td>11100</td>\n",
       "    </tr>\n",
       "    <tr>\n",
       "      <th>497862</th>\n",
       "      <td>Thu</td>\n",
       "      <td>May</td>\n",
       "      <td>28</td>\n",
       "      <td>2015</td>\n",
       "      <td>05:30:00</td>\n",
       "      <td>GMT-0700</td>\n",
       "      <td>(PDT)</td>\n",
       "      <td>26700</td>\n",
       "    </tr>\n",
       "  </tbody>\n",
       "</table>\n",
       "<p>497863 rows × 8 columns</p>\n",
       "</div>"
      ],
      "text/plain": [
       "        day month day_number  year      time       gmt standard_time  \\\n",
       "0       Tue   Dec         16  2014  12:30:00  GMT-0800         (PST)   \n",
       "1       Tue   Dec         16  2014  12:30:00  GMT-0800         (PST)   \n",
       "2       Thu   Jan         15  2015  04:30:00  GMT-0800         (PST)   \n",
       "3       Thu   Jan         29  2015  04:30:00  GMT-0800         (PST)   \n",
       "4       Thu   Dec         18  2014  12:30:00  GMT-0800         (PST)   \n",
       "...     ...   ...        ...   ...       ...       ...           ...   \n",
       "497858  Thu   Jul         09  2015  07:00:00  GMT-0700         (PDT)   \n",
       "497859  Wed   Jul         08  2015  09:30:00  GMT-0700         (PDT)   \n",
       "497860  Wed   Jul         08  2015  09:30:00  GMT-0700         (PDT)   \n",
       "497861  Thu   Jul         09  2015  06:45:00  GMT-0700         (PDT)   \n",
       "497862  Thu   May         28  2015  05:30:00  GMT-0700         (PDT)   \n",
       "\n",
       "        sellingprice  \n",
       "0              21500  \n",
       "1              21500  \n",
       "2              30000  \n",
       "3              27750  \n",
       "4              67000  \n",
       "...              ...  \n",
       "497858         33000  \n",
       "497859         30800  \n",
       "497860         34000  \n",
       "497861         11100  \n",
       "497862         26700  \n",
       "\n",
       "[497863 rows x 8 columns]"
      ]
     },
     "execution_count": 295,
     "metadata": {},
     "output_type": "execute_result"
    }
   ],
   "source": [
    "saledate"
   ]
  },
  {
   "cell_type": "code",
   "execution_count": 296,
   "id": "7a8c21cc",
   "metadata": {},
   "outputs": [
    {
     "data": {
      "text/plain": [
       "day              0\n",
       "month            0\n",
       "day_number       0\n",
       "year             0\n",
       "time             0\n",
       "gmt              0\n",
       "standard_time    0\n",
       "sellingprice     0\n",
       "dtype: int64"
      ]
     },
     "execution_count": 296,
     "metadata": {},
     "output_type": "execute_result"
    }
   ],
   "source": [
    "saledate.isnull().sum()"
   ]
  },
  {
   "cell_type": "code",
   "execution_count": 297,
   "id": "03a97503",
   "metadata": {},
   "outputs": [
    {
     "data": {
      "text/plain": [
       "<BarContainer object of 2 artists>"
      ]
     },
     "execution_count": 297,
     "metadata": {},
     "output_type": "execute_result"
    },
    {
     "data": {
      "image/png": "[encoded data removed]",
      "text/plain": [
       "<Figure size 432x288 with 1 Axes>"
      ]
     },
     "metadata": {
      "needs_background": "light"
     },
     "output_type": "display_data"
    }
   ],
   "source": [
    "means = saledate.groupby('year')['sellingprice'].mean()\n",
    "plt.bar(means.index, means.values)"
   ]
  },
  {
   "cell_type": "code",
   "execution_count": 298,
   "id": "dfa4434f",
   "metadata": {},
   "outputs": [
    {
     "data": {
      "text/html": [
       "<div>\n",
       "<style scoped>\n",
       "    .dataframe tbody tr th:only-of-type {\n",
       "        vertical-align: middle;\n",
       "    }\n",
       "\n",
       "    .dataframe tbody tr th {\n",
       "        vertical-align: top;\n",
       "    }\n",
       "\n",
       "    .dataframe thead th {\n",
       "        text-align: right;\n",
       "    }\n",
       "</style>\n",
       "<table border=\"1\" class=\"dataframe\">\n",
       "  <thead>\n",
       "    <tr style=\"text-align: right;\">\n",
       "      <th></th>\n",
       "      <th>sellingprice</th>\n",
       "      <th>year_2015</th>\n",
       "    </tr>\n",
       "  </thead>\n",
       "  <tbody>\n",
       "    <tr>\n",
       "      <th>sellingprice</th>\n",
       "      <td>1.00000</td>\n",
       "      <td>0.03253</td>\n",
       "    </tr>\n",
       "    <tr>\n",
       "      <th>year_2015</th>\n",
       "      <td>0.03253</td>\n",
       "      <td>1.00000</td>\n",
       "    </tr>\n",
       "  </tbody>\n",
       "</table>\n",
       "</div>"
      ],
      "text/plain": [
       "              sellingprice  year_2015\n",
       "sellingprice       1.00000    0.03253\n",
       "year_2015          0.03253    1.00000"
      ]
     },
     "execution_count": 298,
     "metadata": {},
     "output_type": "execute_result"
    }
   ],
   "source": [
    "pd.get_dummies(saledate[['year', 'sellingprice']], drop_first = True).corr()"
   ]
  },
  {
   "cell_type": "code",
   "execution_count": 299,
   "id": "a393aa5a",
   "metadata": {},
   "outputs": [],
   "source": [
    "## To avoid same name of columns appeared in original dataframe\n",
    "saledate.rename({'year': 'saleyear'}, axis = 1, inplace = True)"
   ]
  },
  {
   "cell_type": "code",
   "execution_count": 300,
   "id": "3ae010fc",
   "metadata": {},
   "outputs": [],
   "source": [
    "df = pd.concat((df, saledate.iloc[:, :-1]), axis = 1)"
   ]
  },
  {
   "cell_type": "markdown",
   "id": "c61f8417",
   "metadata": {},
   "source": [
    "'state' column"
   ]
  },
  {
   "cell_type": "code",
   "execution_count": 301,
   "id": "fa8067f3",
   "metadata": {},
   "outputs": [],
   "source": [
    "te = TargetEncoder(cols = ['state']).fit(df['state'], df['sellingprice'])\n",
    "df['encoded_state'] = te.transform(df['state'])"
   ]
  },
  {
   "cell_type": "code",
   "execution_count": 303,
   "id": "7d7f1b0a",
   "metadata": {},
   "outputs": [
    {
     "data": {
      "text/plain": [
       "(497863, 39)"
      ]
     },
     "execution_count": 303,
     "metadata": {},
     "output_type": "execute_result"
    }
   ],
   "source": [
    "df.shape"
   ]
  },
  {
   "cell_type": "markdown",
   "id": "77232364",
   "metadata": {},
   "source": [
    "Now, let's pay attention to 'transmission' column"
   ]
  },
  {
   "cell_type": "code",
   "execution_count": 304,
   "id": "fc2e0093",
   "metadata": {},
   "outputs": [
    {
     "data": {
      "text/plain": [
       "automatic    424962\n",
       "manual        15441\n",
       "Name: transmission, dtype: int64"
      ]
     },
     "execution_count": 304,
     "metadata": {},
     "output_type": "execute_result"
    }
   ],
   "source": [
    "# number of distinct values in column, before filling\n",
    "df['transmission'].value_counts()"
   ]
  },
  {
   "cell_type": "markdown",
   "id": "5fc43141",
   "metadata": {},
   "source": [
    "Now, we will try to fill with two distinct models and look for effectiveness"
   ]
  },
  {
   "cell_type": "code",
   "execution_count": 305,
   "id": "ee55c866",
   "metadata": {},
   "outputs": [],
   "source": [
    "# first Logistic Regression\n",
    "from sklearn.linear_model import LogisticRegression"
   ]
  },
  {
   "cell_type": "code",
   "execution_count": 306,
   "id": "67bc23f9",
   "metadata": {},
   "outputs": [],
   "source": [
    "# # select all columns except the one with missing values\n",
    "# cols = df.columns[df.isna().any()].tolist()\n",
    "# X_cols = [col for col in df.columns if col not in cols]"
   ]
  },
  {
   "cell_type": "code",
   "execution_count": 307,
   "id": "8970a36e",
   "metadata": {},
   "outputs": [],
   "source": [
    "newdf = df.copy()"
   ]
  },
  {
   "cell_type": "code",
   "execution_count": 308,
   "id": "f88cf311",
   "metadata": {},
   "outputs": [
    {
     "data": {
      "text/plain": [
       "array([dtype('int64'), dtype('float64'), dtype('O'), dtype('uint8')],\n",
       "      dtype=object)"
      ]
     },
     "execution_count": 308,
     "metadata": {},
     "output_type": "execute_result"
    }
   ],
   "source": [
    "newdf.dtypes.unique()"
   ]
  },
  {
   "cell_type": "code",
   "execution_count": 309,
   "id": "9e6fe595",
   "metadata": {},
   "outputs": [],
   "source": [
    "X = newdf.select_dtypes([np.int64, np.float64])\n",
    "y = newdf.transmission"
   ]
  },
  {
   "cell_type": "code",
   "execution_count": 310,
   "id": "06f8201e",
   "metadata": {},
   "outputs": [],
   "source": [
    "# separate the dataframe into two subsets: one with null values and the other without\n",
    "conditions = y.isnull()\n",
    "\n",
    "X_train = X.loc[~conditions]\n",
    "y_train = y.loc[~conditions]\n",
    "\n",
    "X_test = X.loc[conditions]"
   ]
  },
  {
   "cell_type": "code",
   "execution_count": 311,
   "id": "2cc1539e",
   "metadata": {},
   "outputs": [
    {
     "name": "stderr",
     "output_type": "stream",
     "text": [
      "C:\\Users\\user\\anaconda3\\lib\\site-packages\\sklearn\\linear_model\\_logistic.py:458: ConvergenceWarning: lbfgs failed to converge (status=1):\n",
      "STOP: TOTAL NO. of ITERATIONS REACHED LIMIT.\n",
      "\n",
      "Increase the number of iterations (max_iter) or scale the data as shown in:\n",
      "    https://scikit-learn.org/stable/modules/preprocessing.html\n",
      "Please also refer to the documentation for alternative solver options:\n",
      "    https://scikit-learn.org/stable/modules/linear_model.html#logistic-regression\n",
      "  n_iter_i = _check_optimize_result(\n"
     ]
    },
    {
     "data": {
      "text/html": [
       "<style>#sk-container-id-7 {color: black;background-color: white;}#sk-container-id-7 pre{padding: 0;}#sk-container-id-7 div.sk-toggleable {background-color: white;}#sk-container-id-7 label.sk-toggleable__label {cursor: pointer;display: block;width: 100%;margin-bottom: 0;padding: 0.3em;box-sizing: border-box;text-align: center;}#sk-container-id-7 label.sk-toggleable__label-arrow:before {content: \"▸\";float: left;margin-right: 0.25em;color: #696969;}#sk-container-id-7 label.sk-toggleable__label-arrow:hover:before {color: black;}#sk-container-id-7 div.sk-estimator:hover label.sk-toggleable__label-arrow:before {color: black;}#sk-container-id-7 div.sk-toggleable__content {max-height: 0;max-width: 0;overflow: hidden;text-align: left;background-color: #f0f8ff;}#sk-container-id-7 div.sk-toggleable__content pre {margin: 0.2em;color: black;border-radius: 0.25em;background-color: #f0f8ff;}#sk-container-id-7 input.sk-toggleable__control:checked~div.sk-toggleable__content {max-height: 200px;max-width: 100%;overflow: auto;}#sk-container-id-7 input.sk-toggleable__control:checked~label.sk-toggleable__label-arrow:before {content: \"▾\";}#sk-container-id-7 div.sk-estimator input.sk-toggleable__control:checked~label.sk-toggleable__label {background-color: #d4ebff;}#sk-container-id-7 div.sk-label input.sk-toggleable__control:checked~label.sk-toggleable__label {background-color: #d4ebff;}#sk-container-id-7 input.sk-hidden--visually {border: 0;clip: rect(1px 1px 1px 1px);clip: rect(1px, 1px, 1px, 1px);height: 1px;margin: -1px;overflow: hidden;padding: 0;position: absolute;width: 1px;}#sk-container-id-7 div.sk-estimator {font-family: monospace;background-color: #f0f8ff;border: 1px dotted black;border-radius: 0.25em;box-sizing: border-box;margin-bottom: 0.5em;}#sk-container-id-7 div.sk-estimator:hover {background-color: #d4ebff;}#sk-container-id-7 div.sk-parallel-item::after {content: \"\";width: 100%;border-bottom: 1px solid gray;flex-grow: 1;}#sk-container-id-7 div.sk-label:hover label.sk-toggleable__label {background-color: #d4ebff;}#sk-container-id-7 div.sk-serial::before {content: \"\";position: absolute;border-left: 1px solid gray;box-sizing: border-box;top: 0;bottom: 0;left: 50%;z-index: 0;}#sk-container-id-7 div.sk-serial {display: flex;flex-direction: column;align-items: center;background-color: white;padding-right: 0.2em;padding-left: 0.2em;position: relative;}#sk-container-id-7 div.sk-item {position: relative;z-index: 1;}#sk-container-id-7 div.sk-parallel {display: flex;align-items: stretch;justify-content: center;background-color: white;position: relative;}#sk-container-id-7 div.sk-item::before, #sk-container-id-7 div.sk-parallel-item::before {content: \"\";position: absolute;border-left: 1px solid gray;box-sizing: border-box;top: 0;bottom: 0;left: 50%;z-index: -1;}#sk-container-id-7 div.sk-parallel-item {display: flex;flex-direction: column;z-index: 1;position: relative;background-color: white;}#sk-container-id-7 div.sk-parallel-item:first-child::after {align-self: flex-end;width: 50%;}#sk-container-id-7 div.sk-parallel-item:last-child::after {align-self: flex-start;width: 50%;}#sk-container-id-7 div.sk-parallel-item:only-child::after {width: 0;}#sk-container-id-7 div.sk-dashed-wrapped {border: 1px dashed gray;margin: 0 0.4em 0.5em 0.4em;box-sizing: border-box;padding-bottom: 0.4em;background-color: white;}#sk-container-id-7 div.sk-label label {font-family: monospace;font-weight: bold;display: inline-block;line-height: 1.2em;}#sk-container-id-7 div.sk-label-container {text-align: center;}#sk-container-id-7 div.sk-container {/* jupyter's `normalize.less` sets `[hidden] { display: none; }` but bootstrap.min.css set `[hidden] { display: none !important; }` so we also need the `!important` here to be able to override the default hidden behavior on the sphinx rendered scikit-learn.org. See: https://github.com/scikit-learn/scikit-learn/issues/21755 */display: inline-block !important;position: relative;}#sk-container-id-7 div.sk-text-repr-fallback {display: none;}</style><div id=\"sk-container-id-7\" class=\"sk-top-container\"><div class=\"sk-text-repr-fallback\"><pre>LogisticRegression()</pre><b>In a Jupyter environment, please rerun this cell to show the HTML representation or trust the notebook. <br />On GitHub, the HTML representation is unable to render, please try loading this page with nbviewer.org.</b></div><div class=\"sk-container\" hidden><div class=\"sk-item\"><div class=\"sk-estimator sk-toggleable\"><input class=\"sk-toggleable__control sk-hidden--visually\" id=\"sk-estimator-id-7\" type=\"checkbox\" checked><label for=\"sk-estimator-id-7\" class=\"sk-toggleable__label sk-toggleable__label-arrow\">LogisticRegression</label><div class=\"sk-toggleable__content\"><pre>LogisticRegression()</pre></div></div></div></div></div>"
      ],
      "text/plain": [
       "LogisticRegression()"
      ]
     },
     "execution_count": 311,
     "metadata": {},
     "output_type": "execute_result"
    }
   ],
   "source": [
    "# create a logistic regression model and fit it on the non-missing data\n",
    "lr = LogisticRegression()\n",
    "lr.fit(X_train, y_train)"
   ]
  },
  {
   "cell_type": "code",
   "execution_count": 312,
   "id": "573325ac",
   "metadata": {},
   "outputs": [
    {
     "name": "stderr",
     "output_type": "stream",
     "text": [
      "C:\\Users\\user\\anaconda3\\lib\\site-packages\\pandas\\core\\indexing.py:1732: SettingWithCopyWarning: \n",
      "A value is trying to be set on a copy of a slice from a DataFrame\n",
      "\n",
      "See the caveats in the documentation: https://pandas.pydata.org/pandas-docs/stable/user_guide/indexing.html#returning-a-view-versus-a-copy\n",
      "  self._setitem_single_block(indexer, value, name)\n"
     ]
    }
   ],
   "source": [
    "y_pred = lr.predict(X_test)\n",
    "y.loc[conditions] = y_pred"
   ]
  },
  {
   "cell_type": "code",
   "execution_count": 313,
   "id": "62a18180",
   "metadata": {},
   "outputs": [
    {
     "data": {
      "text/plain": [
       "0"
      ]
     },
     "execution_count": 313,
     "metadata": {},
     "output_type": "execute_result"
    }
   ],
   "source": [
    "y.isna().sum()"
   ]
  },
  {
   "cell_type": "code",
   "execution_count": 314,
   "id": "de1e5c01",
   "metadata": {},
   "outputs": [],
   "source": [
    "newdf['transmission'] = y"
   ]
  },
  {
   "cell_type": "code",
   "execution_count": 315,
   "id": "fcad7519",
   "metadata": {},
   "outputs": [
    {
     "data": {
      "text/plain": [
       "0"
      ]
     },
     "execution_count": 315,
     "metadata": {},
     "output_type": "execute_result"
    }
   ],
   "source": [
    "newdf['transmission'].isna().sum()"
   ]
  },
  {
   "cell_type": "code",
   "execution_count": 316,
   "id": "78529576",
   "metadata": {},
   "outputs": [
    {
     "data": {
      "text/plain": [
       "automatic    482422\n",
       "manual        15441\n",
       "Name: transmission, dtype: int64"
      ]
     },
     "execution_count": 316,
     "metadata": {},
     "output_type": "execute_result"
    }
   ],
   "source": [
    "newdf['transmission'].value_counts()"
   ]
  },
  {
   "cell_type": "code",
   "execution_count": 317,
   "id": "69452e25",
   "metadata": {},
   "outputs": [
    {
     "data": {
      "text/plain": [
       "RangeIndex(start=0, stop=497863, step=1)"
      ]
     },
     "execution_count": 317,
     "metadata": {},
     "output_type": "execute_result"
    }
   ],
   "source": [
    "newdf.index"
   ]
  },
  {
   "cell_type": "markdown",
   "id": "73c8cc90",
   "metadata": {},
   "source": [
    "As we observed above,Logistic Regression filled all nulls with one value,clearly made Overfitting"
   ]
  },
  {
   "cell_type": "code",
   "execution_count": 318,
   "id": "bc5fe989",
   "metadata": {},
   "outputs": [],
   "source": [
    "# filling with Decision Tree Classifier\n",
    "from sklearn.tree import DecisionTreeClassifier\n",
    "\n",
    "newdf = df.copy()\n",
    "X = newdf.select_dtypes([np.int64, np.float64])\n",
    "y = newdf.transmission\n",
    "\n",
    "conditions = y.isnull()\n",
    "\n",
    "X_train = X.loc[~conditions]\n",
    "y_train = y.loc[~conditions]\n",
    "\n",
    "X_test = X.loc[conditions]\n",
    "\n",
    "dtc = DecisionTreeClassifier()\n",
    "dtc.fit(X_train, y_train)\n",
    "y_pred = dtc.predict(X_test)"
   ]
  },
  {
   "cell_type": "code",
   "execution_count": 319,
   "id": "ec4930c8",
   "metadata": {},
   "outputs": [
    {
     "name": "stderr",
     "output_type": "stream",
     "text": [
      "C:\\Users\\user\\anaconda3\\lib\\site-packages\\pandas\\core\\indexing.py:1732: SettingWithCopyWarning: \n",
      "A value is trying to be set on a copy of a slice from a DataFrame\n",
      "\n",
      "See the caveats in the documentation: https://pandas.pydata.org/pandas-docs/stable/user_guide/indexing.html#returning-a-view-versus-a-copy\n",
      "  self._setitem_single_block(indexer, value, name)\n"
     ]
    }
   ],
   "source": [
    "y.loc[conditions] = y_pred\n",
    "newdf['transmission'] = y"
   ]
  },
  {
   "cell_type": "code",
   "execution_count": 320,
   "id": "1d4a5cae",
   "metadata": {},
   "outputs": [
    {
     "data": {
      "text/plain": [
       "automatic    479528\n",
       "manual        18335\n",
       "Name: transmission, dtype: int64"
      ]
     },
     "execution_count": 320,
     "metadata": {},
     "output_type": "execute_result"
    }
   ],
   "source": [
    "newdf['transmission'].value_counts()"
   ]
  },
  {
   "cell_type": "code",
   "execution_count": 321,
   "id": "49940efa",
   "metadata": {},
   "outputs": [],
   "source": [
    "df['transmission'] = newdf['transmission']"
   ]
  },
  {
   "cell_type": "code",
   "execution_count": 322,
   "id": "0a535e41",
   "metadata": {},
   "outputs": [
    {
     "data": {
      "text/plain": [
       "0"
      ]
     },
     "execution_count": 322,
     "metadata": {},
     "output_type": "execute_result"
    }
   ],
   "source": [
    "df['transmission'].isna().sum()"
   ]
  },
  {
   "cell_type": "code",
   "execution_count": 329,
   "id": "32e3bf06",
   "metadata": {},
   "outputs": [],
   "source": [
    "df['transmission'] = pd.get_dummies(df['transmission'],drop_first = True)"
   ]
  },
  {
   "cell_type": "code",
   "execution_count": 117,
   "id": "15f36a86",
   "metadata": {},
   "outputs": [],
   "source": [
    "# # loop through each column with missing values\n",
    "# for col in df.columns[df.isna().any()].tolist():\n",
    "\n",
    "#     # select all columns except for the one with missing values\n",
    "#     X_cols = [c for c in df.columns if c != col]\n",
    "\n",
    "#     # separate the dataframe into two subsets: one with null values and the other without\n",
    "#     df_missing = df[df[col].isnull()]\n",
    "#     df_not_missing = df.dropna(subset=[col])\n",
    "\n",
    "#     # create a decision tree classifier and fit it on the non-missing data\n",
    "#     dtc = DecisionTreeClassifier()\n",
    "#     dtc.fit(df_not_missing[X_cols], df_not_missing[col])\n",
    "\n",
    "#     # use the model to predict the missing values\n",
    "#     df_missing.loc[:, col] = dtc.predict(df_missing[X_cols])\n",
    "\n",
    "#     # merge the imputed data with the original data\n",
    "#     df = pd.concat([df_missing, df_not_missing], axis=0)\n",
    "\n",
    "# print(df)"
   ]
  },
  {
   "cell_type": "code",
   "execution_count": 323,
   "id": "f101c16c",
   "metadata": {},
   "outputs": [
    {
     "data": {
      "text/plain": [
       "Index(['year', 'make', 'model', 'trim', 'transmission', 'vin', 'state',\n",
       "       'condition', 'odometer', 'color', 'interior', 'seller', 'mmr',\n",
       "       'sellingprice', 'saledate', 'encoded_body', 'coupe', 'crew_cab',\n",
       "       'hatchback', 'sedan', 'suv', 'van', 'wagon', 'eval_color',\n",
       "       'encoded_color', 'encoded_interior', 'auto', 'corporation', 'credit',\n",
       "       'inc', 'services', 'day', 'month', 'day_number', 'saleyear', 'time',\n",
       "       'gmt', 'standard_time', 'encoded_state'],\n",
       "      dtype='object')"
      ]
     },
     "execution_count": 323,
     "metadata": {},
     "output_type": "execute_result"
    }
   ],
   "source": [
    "df.columns"
   ]
  },
  {
   "cell_type": "markdown",
   "id": "04380d78",
   "metadata": {},
   "source": [
    "This model filled much better and with statistical precision, for this reason we chose that one."
   ]
  },
  {
   "cell_type": "code",
   "execution_count": 324,
   "id": "a94d964f",
   "metadata": {},
   "outputs": [],
   "source": [
    "# actually we can simply delete 'vin' column, because it has lots of distinct values and plays no significant statistical role\n",
    "del df['vin']"
   ]
  },
  {
   "cell_type": "code",
   "execution_count": 340,
   "id": "28d13eed",
   "metadata": {},
   "outputs": [
    {
     "data": {
      "text/html": [
       "<div>\n",
       "<style scoped>\n",
       "    .dataframe tbody tr th:only-of-type {\n",
       "        vertical-align: middle;\n",
       "    }\n",
       "\n",
       "    .dataframe tbody tr th {\n",
       "        vertical-align: top;\n",
       "    }\n",
       "\n",
       "    .dataframe thead th {\n",
       "        text-align: right;\n",
       "    }\n",
       "</style>\n",
       "<table border=\"1\" class=\"dataframe\">\n",
       "  <thead>\n",
       "    <tr style=\"text-align: right;\">\n",
       "      <th></th>\n",
       "      <th>year</th>\n",
       "      <th>make</th>\n",
       "      <th>model</th>\n",
       "      <th>trim</th>\n",
       "      <th>transmission</th>\n",
       "      <th>state</th>\n",
       "      <th>condition</th>\n",
       "      <th>odometer</th>\n",
       "      <th>color</th>\n",
       "      <th>interior</th>\n",
       "      <th>...</th>\n",
       "      <th>inc</th>\n",
       "      <th>services</th>\n",
       "      <th>day</th>\n",
       "      <th>month</th>\n",
       "      <th>day_number</th>\n",
       "      <th>saleyear</th>\n",
       "      <th>time</th>\n",
       "      <th>gmt</th>\n",
       "      <th>standard_time</th>\n",
       "      <th>encoded_state</th>\n",
       "    </tr>\n",
       "  </thead>\n",
       "  <tbody>\n",
       "    <tr>\n",
       "      <th>0</th>\n",
       "      <td>2015</td>\n",
       "      <td>12200.000000</td>\n",
       "      <td>15998.840757</td>\n",
       "      <td>10470.934372</td>\n",
       "      <td>0</td>\n",
       "      <td>ca</td>\n",
       "      <td>5.0</td>\n",
       "      <td>16639.0</td>\n",
       "      <td>white</td>\n",
       "      <td>black</td>\n",
       "      <td>...</td>\n",
       "      <td>1.0</td>\n",
       "      <td>0.0</td>\n",
       "      <td>Tue</td>\n",
       "      <td>Dec</td>\n",
       "      <td>16</td>\n",
       "      <td>2014</td>\n",
       "      <td>12:30:00</td>\n",
       "      <td>GMT-0800</td>\n",
       "      <td>(PST)</td>\n",
       "      <td>14476.33984</td>\n",
       "    </tr>\n",
       "    <tr>\n",
       "      <th>1</th>\n",
       "      <td>2015</td>\n",
       "      <td>12200.000000</td>\n",
       "      <td>15998.840757</td>\n",
       "      <td>10470.934372</td>\n",
       "      <td>0</td>\n",
       "      <td>ca</td>\n",
       "      <td>5.0</td>\n",
       "      <td>9393.0</td>\n",
       "      <td>white</td>\n",
       "      <td>beige</td>\n",
       "      <td>...</td>\n",
       "      <td>1.0</td>\n",
       "      <td>0.0</td>\n",
       "      <td>Tue</td>\n",
       "      <td>Dec</td>\n",
       "      <td>16</td>\n",
       "      <td>2014</td>\n",
       "      <td>12:30:00</td>\n",
       "      <td>GMT-0800</td>\n",
       "      <td>(PST)</td>\n",
       "      <td>14476.33984</td>\n",
       "    </tr>\n",
       "    <tr>\n",
       "      <th>2</th>\n",
       "      <td>2014</td>\n",
       "      <td>18999.630515</td>\n",
       "      <td>16349.433138</td>\n",
       "      <td>22635.669880</td>\n",
       "      <td>0</td>\n",
       "      <td>ca</td>\n",
       "      <td>4.5</td>\n",
       "      <td>1331.0</td>\n",
       "      <td>gray</td>\n",
       "      <td>black</td>\n",
       "      <td>...</td>\n",
       "      <td>0.0</td>\n",
       "      <td>1.0</td>\n",
       "      <td>Thu</td>\n",
       "      <td>Jan</td>\n",
       "      <td>15</td>\n",
       "      <td>2015</td>\n",
       "      <td>04:30:00</td>\n",
       "      <td>GMT-0800</td>\n",
       "      <td>(PST)</td>\n",
       "      <td>14476.33984</td>\n",
       "    </tr>\n",
       "    <tr>\n",
       "      <th>3</th>\n",
       "      <td>2015</td>\n",
       "      <td>9000.921394</td>\n",
       "      <td>15796.632367</td>\n",
       "      <td>16468.415441</td>\n",
       "      <td>0</td>\n",
       "      <td>ca</td>\n",
       "      <td>4.1</td>\n",
       "      <td>14282.0</td>\n",
       "      <td>white</td>\n",
       "      <td>black</td>\n",
       "      <td>...</td>\n",
       "      <td>0.0</td>\n",
       "      <td>0.0</td>\n",
       "      <td>Thu</td>\n",
       "      <td>Jan</td>\n",
       "      <td>29</td>\n",
       "      <td>2015</td>\n",
       "      <td>04:30:00</td>\n",
       "      <td>GMT-0800</td>\n",
       "      <td>(PST)</td>\n",
       "      <td>14476.33984</td>\n",
       "    </tr>\n",
       "    <tr>\n",
       "      <th>4</th>\n",
       "      <td>2014</td>\n",
       "      <td>18999.630515</td>\n",
       "      <td>54148.314607</td>\n",
       "      <td>34901.343511</td>\n",
       "      <td>0</td>\n",
       "      <td>ca</td>\n",
       "      <td>4.3</td>\n",
       "      <td>2641.0</td>\n",
       "      <td>gray</td>\n",
       "      <td>black</td>\n",
       "      <td>...</td>\n",
       "      <td>0.0</td>\n",
       "      <td>1.0</td>\n",
       "      <td>Thu</td>\n",
       "      <td>Dec</td>\n",
       "      <td>18</td>\n",
       "      <td>2014</td>\n",
       "      <td>12:30:00</td>\n",
       "      <td>GMT-0800</td>\n",
       "      <td>(PST)</td>\n",
       "      <td>14476.33984</td>\n",
       "    </tr>\n",
       "  </tbody>\n",
       "</table>\n",
       "<p>5 rows × 38 columns</p>\n",
       "</div>"
      ],
      "text/plain": [
       "   year          make         model          trim  transmission state  \\\n",
       "0  2015  12200.000000  15998.840757  10470.934372             0    ca   \n",
       "1  2015  12200.000000  15998.840757  10470.934372             0    ca   \n",
       "2  2014  18999.630515  16349.433138  22635.669880             0    ca   \n",
       "3  2015   9000.921394  15796.632367  16468.415441             0    ca   \n",
       "4  2014  18999.630515  54148.314607  34901.343511             0    ca   \n",
       "\n",
       "   condition  odometer  color interior  ...  inc  services  day month  \\\n",
       "0        5.0   16639.0  white    black  ...  1.0       0.0  Tue   Dec   \n",
       "1        5.0    9393.0  white    beige  ...  1.0       0.0  Tue   Dec   \n",
       "2        4.5    1331.0   gray    black  ...  0.0       1.0  Thu   Jan   \n",
       "3        4.1   14282.0  white    black  ...  0.0       0.0  Thu   Jan   \n",
       "4        4.3    2641.0   gray    black  ...  0.0       1.0  Thu   Dec   \n",
       "\n",
       "  day_number  saleyear      time       gmt  standard_time  encoded_state  \n",
       "0         16      2014  12:30:00  GMT-0800          (PST)    14476.33984  \n",
       "1         16      2014  12:30:00  GMT-0800          (PST)    14476.33984  \n",
       "2         15      2015  04:30:00  GMT-0800          (PST)    14476.33984  \n",
       "3         29      2015  04:30:00  GMT-0800          (PST)    14476.33984  \n",
       "4         18      2014  12:30:00  GMT-0800          (PST)    14476.33984  \n",
       "\n",
       "[5 rows x 38 columns]"
      ]
     },
     "execution_count": 340,
     "metadata": {},
     "output_type": "execute_result"
    }
   ],
   "source": [
    "df.head()"
   ]
  },
  {
   "cell_type": "code",
   "execution_count": 331,
   "id": "2418e01d",
   "metadata": {},
   "outputs": [],
   "source": [
    "corrs = df.corr()['sellingprice']"
   ]
  },
  {
   "cell_type": "code",
   "execution_count": 337,
   "id": "90cd2bf3",
   "metadata": {},
   "outputs": [],
   "source": [
    "selected_cols = corrs.index[np.abs(corrs.values) > 0.2]"
   ]
  },
  {
   "cell_type": "code",
   "execution_count": 339,
   "id": "b36cd315",
   "metadata": {},
   "outputs": [],
   "source": [
    "dfmod = df[selected_cols]"
   ]
  },
  {
   "cell_type": "code",
   "execution_count": 341,
   "id": "4a044380",
   "metadata": {},
   "outputs": [
    {
     "data": {
      "text/html": [
       "<div>\n",
       "<style scoped>\n",
       "    .dataframe tbody tr th:only-of-type {\n",
       "        vertical-align: middle;\n",
       "    }\n",
       "\n",
       "    .dataframe tbody tr th {\n",
       "        vertical-align: top;\n",
       "    }\n",
       "\n",
       "    .dataframe thead th {\n",
       "        text-align: right;\n",
       "    }\n",
       "</style>\n",
       "<table border=\"1\" class=\"dataframe\">\n",
       "  <thead>\n",
       "    <tr style=\"text-align: right;\">\n",
       "      <th></th>\n",
       "      <th>year</th>\n",
       "      <th>make</th>\n",
       "      <th>model</th>\n",
       "      <th>trim</th>\n",
       "      <th>condition</th>\n",
       "      <th>odometer</th>\n",
       "      <th>mmr</th>\n",
       "      <th>sellingprice</th>\n",
       "      <th>encoded_interior</th>\n",
       "      <th>encoded_state</th>\n",
       "    </tr>\n",
       "  </thead>\n",
       "  <tbody>\n",
       "    <tr>\n",
       "      <th>0</th>\n",
       "      <td>2015</td>\n",
       "      <td>12200.000000</td>\n",
       "      <td>15998.840757</td>\n",
       "      <td>10470.934372</td>\n",
       "      <td>5.0</td>\n",
       "      <td>16639.0</td>\n",
       "      <td>20500</td>\n",
       "      <td>21500</td>\n",
       "      <td>15638.865681</td>\n",
       "      <td>14476.33984</td>\n",
       "    </tr>\n",
       "    <tr>\n",
       "      <th>1</th>\n",
       "      <td>2015</td>\n",
       "      <td>12200.000000</td>\n",
       "      <td>15998.840757</td>\n",
       "      <td>10470.934372</td>\n",
       "      <td>5.0</td>\n",
       "      <td>9393.0</td>\n",
       "      <td>20800</td>\n",
       "      <td>21500</td>\n",
       "      <td>13331.673347</td>\n",
       "      <td>14476.33984</td>\n",
       "    </tr>\n",
       "    <tr>\n",
       "      <th>2</th>\n",
       "      <td>2014</td>\n",
       "      <td>18999.630515</td>\n",
       "      <td>16349.433138</td>\n",
       "      <td>22635.669880</td>\n",
       "      <td>4.5</td>\n",
       "      <td>1331.0</td>\n",
       "      <td>31900</td>\n",
       "      <td>30000</td>\n",
       "      <td>15638.865681</td>\n",
       "      <td>14476.33984</td>\n",
       "    </tr>\n",
       "    <tr>\n",
       "      <th>3</th>\n",
       "      <td>2015</td>\n",
       "      <td>9000.921394</td>\n",
       "      <td>15796.632367</td>\n",
       "      <td>16468.415441</td>\n",
       "      <td>4.1</td>\n",
       "      <td>14282.0</td>\n",
       "      <td>27500</td>\n",
       "      <td>27750</td>\n",
       "      <td>15638.865681</td>\n",
       "      <td>14476.33984</td>\n",
       "    </tr>\n",
       "    <tr>\n",
       "      <th>4</th>\n",
       "      <td>2014</td>\n",
       "      <td>18999.630515</td>\n",
       "      <td>54148.314607</td>\n",
       "      <td>34901.343511</td>\n",
       "      <td>4.3</td>\n",
       "      <td>2641.0</td>\n",
       "      <td>66000</td>\n",
       "      <td>67000</td>\n",
       "      <td>15638.865681</td>\n",
       "      <td>14476.33984</td>\n",
       "    </tr>\n",
       "  </tbody>\n",
       "</table>\n",
       "</div>"
      ],
      "text/plain": [
       "   year          make         model          trim  condition  odometer    mmr  \\\n",
       "0  2015  12200.000000  15998.840757  10470.934372        5.0   16639.0  20500   \n",
       "1  2015  12200.000000  15998.840757  10470.934372        5.0    9393.0  20800   \n",
       "2  2014  18999.630515  16349.433138  22635.669880        4.5    1331.0  31900   \n",
       "3  2015   9000.921394  15796.632367  16468.415441        4.1   14282.0  27500   \n",
       "4  2014  18999.630515  54148.314607  34901.343511        4.3    2641.0  66000   \n",
       "\n",
       "   sellingprice  encoded_interior  encoded_state  \n",
       "0         21500      15638.865681    14476.33984  \n",
       "1         21500      13331.673347    14476.33984  \n",
       "2         30000      15638.865681    14476.33984  \n",
       "3         27750      15638.865681    14476.33984  \n",
       "4         67000      15638.865681    14476.33984  "
      ]
     },
     "execution_count": 341,
     "metadata": {},
     "output_type": "execute_result"
    }
   ],
   "source": [
    "dfmod.head()"
   ]
  },
  {
   "cell_type": "markdown",
   "id": "4fe2e737",
   "metadata": {},
   "source": [
    "Our target column is 'sellingprice' and we want to predict its values by building Regression model.Actually,after skeeming correlation matrix, we can conclude that columns have good correlations with 'sellingprice', so our model probably will be successful."
   ]
  },
  {
   "cell_type": "markdown",
   "id": "7afe69fe",
   "metadata": {},
   "source": [
    "Visualization part"
   ]
  },
  {
   "cell_type": "code",
   "execution_count": 342,
   "id": "40572750",
   "metadata": {},
   "outputs": [
    {
     "data": {
      "image/png": "[encoded data removed]",
      "text/plain": [
       "<Figure size 1440x720 with 25 Axes>"
      ]
     },
     "metadata": {
      "needs_background": "light"
     },
     "output_type": "display_data"
    }
   ],
   "source": [
    "# now we will look at distributions of columns\n",
    "import matplotlib.pyplot as plt\n",
    "# create histograms of all columns in the dataframe\n",
    "df.hist(bins=10, figsize=(20,10))\n",
    "plt.show()"
   ]
  },
  {
   "cell_type": "code",
   "execution_count": 343,
   "id": "aefde848",
   "metadata": {},
   "outputs": [
    {
     "data": {
      "image/png": "[encoded data removed]",
      "text/plain": [
       "<Figure size 432x288 with 1 Axes>"
      ]
     },
     "metadata": {
      "needs_background": "light"
     },
     "output_type": "display_data"
    }
   ],
   "source": [
    "import seaborn as sns\n",
    "# Plot a density plot of the target column\n",
    "sns.kdeplot(df[\"sellingprice\"])\n",
    "plt.xlabel(\"Target Column\")\n",
    "plt.ylabel(\"Density\")\n",
    "plt.title(\"Density Plot of Target Column\")\n",
    "plt.show()"
   ]
  },
  {
   "cell_type": "code",
   "execution_count": 344,
   "id": "519fabf0",
   "metadata": {},
   "outputs": [
    {
     "data": {
      "image/png": "[encoded data removed]",
      "text/plain": [
       "<Figure size 432x288 with 1 Axes>"
      ]
     },
     "metadata": {
      "needs_background": "light"
     },
     "output_type": "display_data"
    },
    {
     "data": {
      "image/png": "[encoded data removed]",
      "text/plain": [
       "<Figure size 432x288 with 1 Axes>"
      ]
     },
     "metadata": {
      "needs_background": "light"
     },
     "output_type": "display_data"
    },
    {
     "data": {
      "image/png": "[encoded data removed]",
      "text/plain": [
       "<Figure size 432x288 with 1 Axes>"
      ]
     },
     "metadata": {
      "needs_background": "light"
     },
     "output_type": "display_data"
    },
    {
     "data": {
      "image/png": "[encoded data removed]",
      "text/plain": [
       "<Figure size 432x288 with 1 Axes>"
      ]
     },
     "metadata": {
      "needs_background": "light"
     },
     "output_type": "display_data"
    },
    {
     "data": {
      "image/png": "[encoded data removed]",
      "text/plain": [
       "<Figure size 432x288 with 1 Axes>"
      ]
     },
     "metadata": {
      "needs_background": "light"
     },
     "output_type": "display_data"
    },
    {
     "data": {
      "image/png": "[encoded data removed]",
      "text/plain": [
       "<Figure size 432x288 with 1 Axes>"
      ]
     },
     "metadata": {
      "needs_background": "light"
     },
     "output_type": "display_data"
    },
    {
     "data": {
      "image/png": "[encoded data removed]",
      "text/plain": [
       "<Figure size 432x288 with 1 Axes>"
      ]
     },
     "metadata": {
      "needs_background": "light"
     },
     "output_type": "display_data"
    },
    {
     "data": {
      "image/png": "[encoded data removed]",
      "text/plain": [
       "<Figure size 432x288 with 1 Axes>"
      ]
     },
     "metadata": {
      "needs_background": "light"
     },
     "output_type": "display_data"
    },
    {
     "data": {
      "image/png": "[encoded data removed]",
      "text/plain": [
       "<Figure size 432x288 with 1 Axes>"
      ]
     },
     "metadata": {
      "needs_background": "light"
     },
     "output_type": "display_data"
    },
    {
     "data": {
      "image/png": "[encoded data removed]",
      "text/plain": [
       "<Figure size 432x288 with 1 Axes>"
      ]
     },
     "metadata": {
      "needs_background": "light"
     },
     "output_type": "display_data"
    },
    {
     "ename": "KeyboardInterrupt",
     "evalue": "",
     "output_type": "error",
     "traceback": [
      "\u001b[1;31m---------------------------------------------------------------------------\u001b[0m",
      "\u001b[1;31mKeyboardInterrupt\u001b[0m                         Traceback (most recent call last)",
      "\u001b[1;32m~\\AppData\\Local\\Temp/ipykernel_6620/2994381202.py\u001b[0m in \u001b[0;36m<module>\u001b[1;34m\u001b[0m\n\u001b[0;32m     11\u001b[0m     \u001b[0mplt\u001b[0m\u001b[1;33m.\u001b[0m\u001b[0mylabel\u001b[0m\u001b[1;33m(\u001b[0m\u001b[1;34m\"Target Column\"\u001b[0m\u001b[1;33m)\u001b[0m\u001b[1;33m\u001b[0m\u001b[1;33m\u001b[0m\u001b[0m\n\u001b[0;32m     12\u001b[0m     \u001b[0mplt\u001b[0m\u001b[1;33m.\u001b[0m\u001b[0mtitle\u001b[0m\u001b[1;33m(\u001b[0m\u001b[1;34m\"Scatter Plot of Target Column against {}\"\u001b[0m\u001b[1;33m.\u001b[0m\u001b[0mformat\u001b[0m\u001b[1;33m(\u001b[0m\u001b[0mcolumn\u001b[0m\u001b[1;33m)\u001b[0m\u001b[1;33m)\u001b[0m\u001b[1;33m\u001b[0m\u001b[1;33m\u001b[0m\u001b[0m\n\u001b[1;32m---> 13\u001b[1;33m     \u001b[0mplt\u001b[0m\u001b[1;33m.\u001b[0m\u001b[0mshow\u001b[0m\u001b[1;33m(\u001b[0m\u001b[1;33m)\u001b[0m\u001b[1;33m\u001b[0m\u001b[1;33m\u001b[0m\u001b[0m\n\u001b[0m",
      "\u001b[1;32m~\\anaconda3\\lib\\site-packages\\matplotlib\\pyplot.py\u001b[0m in \u001b[0;36mshow\u001b[1;34m(*args, **kwargs)\u001b[0m\n\u001b[0;32m    376\u001b[0m     \"\"\"\n\u001b[0;32m    377\u001b[0m     \u001b[0m_warn_if_gui_out_of_main_thread\u001b[0m\u001b[1;33m(\u001b[0m\u001b[1;33m)\u001b[0m\u001b[1;33m\u001b[0m\u001b[1;33m\u001b[0m\u001b[0m\n\u001b[1;32m--> 378\u001b[1;33m     \u001b[1;32mreturn\u001b[0m \u001b[0m_backend_mod\u001b[0m\u001b[1;33m.\u001b[0m\u001b[0mshow\u001b[0m\u001b[1;33m(\u001b[0m\u001b[1;33m*\u001b[0m\u001b[0margs\u001b[0m\u001b[1;33m,\u001b[0m \u001b[1;33m**\u001b[0m\u001b[0mkwargs\u001b[0m\u001b[1;33m)\u001b[0m\u001b[1;33m\u001b[0m\u001b[1;33m\u001b[0m\u001b[0m\n\u001b[0m\u001b[0;32m    379\u001b[0m \u001b[1;33m\u001b[0m\u001b[0m\n\u001b[0;32m    380\u001b[0m \u001b[1;33m\u001b[0m\u001b[0m\n",
      "\u001b[1;32m~\\anaconda3\\lib\\site-packages\\matplotlib_inline\\backend_inline.py\u001b[0m in \u001b[0;36mshow\u001b[1;34m(close, block)\u001b[0m\n\u001b[0;32m     39\u001b[0m     \u001b[1;32mtry\u001b[0m\u001b[1;33m:\u001b[0m\u001b[1;33m\u001b[0m\u001b[1;33m\u001b[0m\u001b[0m\n\u001b[0;32m     40\u001b[0m         \u001b[1;32mfor\u001b[0m \u001b[0mfigure_manager\u001b[0m \u001b[1;32min\u001b[0m \u001b[0mGcf\u001b[0m\u001b[1;33m.\u001b[0m\u001b[0mget_all_fig_managers\u001b[0m\u001b[1;33m(\u001b[0m\u001b[1;33m)\u001b[0m\u001b[1;33m:\u001b[0m\u001b[1;33m\u001b[0m\u001b[1;33m\u001b[0m\u001b[0m\n\u001b[1;32m---> 41\u001b[1;33m             display(\n\u001b[0m\u001b[0;32m     42\u001b[0m                 \u001b[0mfigure_manager\u001b[0m\u001b[1;33m.\u001b[0m\u001b[0mcanvas\u001b[0m\u001b[1;33m.\u001b[0m\u001b[0mfigure\u001b[0m\u001b[1;33m,\u001b[0m\u001b[1;33m\u001b[0m\u001b[1;33m\u001b[0m\u001b[0m\n\u001b[0;32m     43\u001b[0m                 \u001b[0mmetadata\u001b[0m\u001b[1;33m=\u001b[0m\u001b[0m_fetch_figure_metadata\u001b[0m\u001b[1;33m(\u001b[0m\u001b[0mfigure_manager\u001b[0m\u001b[1;33m.\u001b[0m\u001b[0mcanvas\u001b[0m\u001b[1;33m.\u001b[0m\u001b[0mfigure\u001b[0m\u001b[1;33m)\u001b[0m\u001b[1;33m\u001b[0m\u001b[1;33m\u001b[0m\u001b[0m\n",
      "\u001b[1;32m~\\anaconda3\\lib\\site-packages\\IPython\\core\\display.py\u001b[0m in \u001b[0;36mdisplay\u001b[1;34m(include, exclude, metadata, transient, display_id, *objs, **kwargs)\u001b[0m\n\u001b[0;32m    318\u001b[0m             \u001b[0mpublish_display_data\u001b[0m\u001b[1;33m(\u001b[0m\u001b[0mdata\u001b[0m\u001b[1;33m=\u001b[0m\u001b[0mobj\u001b[0m\u001b[1;33m,\u001b[0m \u001b[0mmetadata\u001b[0m\u001b[1;33m=\u001b[0m\u001b[0mmetadata\u001b[0m\u001b[1;33m,\u001b[0m \u001b[1;33m**\u001b[0m\u001b[0mkwargs\u001b[0m\u001b[1;33m)\u001b[0m\u001b[1;33m\u001b[0m\u001b[1;33m\u001b[0m\u001b[0m\n\u001b[0;32m    319\u001b[0m         \u001b[1;32melse\u001b[0m\u001b[1;33m:\u001b[0m\u001b[1;33m\u001b[0m\u001b[1;33m\u001b[0m\u001b[0m\n\u001b[1;32m--> 320\u001b[1;33m             \u001b[0mformat_dict\u001b[0m\u001b[1;33m,\u001b[0m \u001b[0mmd_dict\u001b[0m \u001b[1;33m=\u001b[0m \u001b[0mformat\u001b[0m\u001b[1;33m(\u001b[0m\u001b[0mobj\u001b[0m\u001b[1;33m,\u001b[0m \u001b[0minclude\u001b[0m\u001b[1;33m=\u001b[0m\u001b[0minclude\u001b[0m\u001b[1;33m,\u001b[0m \u001b[0mexclude\u001b[0m\u001b[1;33m=\u001b[0m\u001b[0mexclude\u001b[0m\u001b[1;33m)\u001b[0m\u001b[1;33m\u001b[0m\u001b[1;33m\u001b[0m\u001b[0m\n\u001b[0m\u001b[0;32m    321\u001b[0m             \u001b[1;32mif\u001b[0m \u001b[1;32mnot\u001b[0m \u001b[0mformat_dict\u001b[0m\u001b[1;33m:\u001b[0m\u001b[1;33m\u001b[0m\u001b[1;33m\u001b[0m\u001b[0m\n\u001b[0;32m    322\u001b[0m                 \u001b[1;31m# nothing to display (e.g. _ipython_display_ took over)\u001b[0m\u001b[1;33m\u001b[0m\u001b[1;33m\u001b[0m\u001b[0m\n",
      "\u001b[1;32m~\\anaconda3\\lib\\site-packages\\IPython\\core\\formatters.py\u001b[0m in \u001b[0;36mformat\u001b[1;34m(self, obj, include, exclude)\u001b[0m\n\u001b[0;32m    178\u001b[0m             \u001b[0mmd\u001b[0m \u001b[1;33m=\u001b[0m \u001b[1;32mNone\u001b[0m\u001b[1;33m\u001b[0m\u001b[1;33m\u001b[0m\u001b[0m\n\u001b[0;32m    179\u001b[0m             \u001b[1;32mtry\u001b[0m\u001b[1;33m:\u001b[0m\u001b[1;33m\u001b[0m\u001b[1;33m\u001b[0m\u001b[0m\n\u001b[1;32m--> 180\u001b[1;33m                 \u001b[0mdata\u001b[0m \u001b[1;33m=\u001b[0m \u001b[0mformatter\u001b[0m\u001b[1;33m(\u001b[0m\u001b[0mobj\u001b[0m\u001b[1;33m)\u001b[0m\u001b[1;33m\u001b[0m\u001b[1;33m\u001b[0m\u001b[0m\n\u001b[0m\u001b[0;32m    181\u001b[0m             \u001b[1;32mexcept\u001b[0m\u001b[1;33m:\u001b[0m\u001b[1;33m\u001b[0m\u001b[1;33m\u001b[0m\u001b[0m\n\u001b[0;32m    182\u001b[0m                 \u001b[1;31m# FIXME: log the exception\u001b[0m\u001b[1;33m\u001b[0m\u001b[1;33m\u001b[0m\u001b[0m\n",
      "\u001b[1;32m~\\anaconda3\\lib\\site-packages\\decorator.py\u001b[0m in \u001b[0;36mfun\u001b[1;34m(*args, **kw)\u001b[0m\n\u001b[0;32m    230\u001b[0m             \u001b[1;32mif\u001b[0m \u001b[1;32mnot\u001b[0m \u001b[0mkwsyntax\u001b[0m\u001b[1;33m:\u001b[0m\u001b[1;33m\u001b[0m\u001b[1;33m\u001b[0m\u001b[0m\n\u001b[0;32m    231\u001b[0m                 \u001b[0margs\u001b[0m\u001b[1;33m,\u001b[0m \u001b[0mkw\u001b[0m \u001b[1;33m=\u001b[0m \u001b[0mfix\u001b[0m\u001b[1;33m(\u001b[0m\u001b[0margs\u001b[0m\u001b[1;33m,\u001b[0m \u001b[0mkw\u001b[0m\u001b[1;33m,\u001b[0m \u001b[0msig\u001b[0m\u001b[1;33m)\u001b[0m\u001b[1;33m\u001b[0m\u001b[1;33m\u001b[0m\u001b[0m\n\u001b[1;32m--> 232\u001b[1;33m             \u001b[1;32mreturn\u001b[0m \u001b[0mcaller\u001b[0m\u001b[1;33m(\u001b[0m\u001b[0mfunc\u001b[0m\u001b[1;33m,\u001b[0m \u001b[1;33m*\u001b[0m\u001b[1;33m(\u001b[0m\u001b[0mextras\u001b[0m \u001b[1;33m+\u001b[0m \u001b[0margs\u001b[0m\u001b[1;33m)\u001b[0m\u001b[1;33m,\u001b[0m \u001b[1;33m**\u001b[0m\u001b[0mkw\u001b[0m\u001b[1;33m)\u001b[0m\u001b[1;33m\u001b[0m\u001b[1;33m\u001b[0m\u001b[0m\n\u001b[0m\u001b[0;32m    233\u001b[0m     \u001b[0mfun\u001b[0m\u001b[1;33m.\u001b[0m\u001b[0m__name__\u001b[0m \u001b[1;33m=\u001b[0m \u001b[0mfunc\u001b[0m\u001b[1;33m.\u001b[0m\u001b[0m__name__\u001b[0m\u001b[1;33m\u001b[0m\u001b[1;33m\u001b[0m\u001b[0m\n\u001b[0;32m    234\u001b[0m     \u001b[0mfun\u001b[0m\u001b[1;33m.\u001b[0m\u001b[0m__doc__\u001b[0m \u001b[1;33m=\u001b[0m \u001b[0mfunc\u001b[0m\u001b[1;33m.\u001b[0m\u001b[0m__doc__\u001b[0m\u001b[1;33m\u001b[0m\u001b[1;33m\u001b[0m\u001b[0m\n",
      "\u001b[1;32m~\\anaconda3\\lib\\site-packages\\IPython\\core\\formatters.py\u001b[0m in \u001b[0;36mcatch_format_error\u001b[1;34m(method, self, *args, **kwargs)\u001b[0m\n\u001b[0;32m    222\u001b[0m     \u001b[1;34m\"\"\"show traceback on failed format call\"\"\"\u001b[0m\u001b[1;33m\u001b[0m\u001b[1;33m\u001b[0m\u001b[0m\n\u001b[0;32m    223\u001b[0m     \u001b[1;32mtry\u001b[0m\u001b[1;33m:\u001b[0m\u001b[1;33m\u001b[0m\u001b[1;33m\u001b[0m\u001b[0m\n\u001b[1;32m--> 224\u001b[1;33m         \u001b[0mr\u001b[0m \u001b[1;33m=\u001b[0m \u001b[0mmethod\u001b[0m\u001b[1;33m(\u001b[0m\u001b[0mself\u001b[0m\u001b[1;33m,\u001b[0m \u001b[1;33m*\u001b[0m\u001b[0margs\u001b[0m\u001b[1;33m,\u001b[0m \u001b[1;33m**\u001b[0m\u001b[0mkwargs\u001b[0m\u001b[1;33m)\u001b[0m\u001b[1;33m\u001b[0m\u001b[1;33m\u001b[0m\u001b[0m\n\u001b[0m\u001b[0;32m    225\u001b[0m     \u001b[1;32mexcept\u001b[0m \u001b[0mNotImplementedError\u001b[0m\u001b[1;33m:\u001b[0m\u001b[1;33m\u001b[0m\u001b[1;33m\u001b[0m\u001b[0m\n\u001b[0;32m    226\u001b[0m         \u001b[1;31m# don't warn on NotImplementedErrors\u001b[0m\u001b[1;33m\u001b[0m\u001b[1;33m\u001b[0m\u001b[0m\n",
      "\u001b[1;32m~\\anaconda3\\lib\\site-packages\\IPython\\core\\formatters.py\u001b[0m in \u001b[0;36m__call__\u001b[1;34m(self, obj)\u001b[0m\n\u001b[0;32m    339\u001b[0m                 \u001b[1;32mpass\u001b[0m\u001b[1;33m\u001b[0m\u001b[1;33m\u001b[0m\u001b[0m\n\u001b[0;32m    340\u001b[0m             \u001b[1;32melse\u001b[0m\u001b[1;33m:\u001b[0m\u001b[1;33m\u001b[0m\u001b[1;33m\u001b[0m\u001b[0m\n\u001b[1;32m--> 341\u001b[1;33m                 \u001b[1;32mreturn\u001b[0m \u001b[0mprinter\u001b[0m\u001b[1;33m(\u001b[0m\u001b[0mobj\u001b[0m\u001b[1;33m)\u001b[0m\u001b[1;33m\u001b[0m\u001b[1;33m\u001b[0m\u001b[0m\n\u001b[0m\u001b[0;32m    342\u001b[0m             \u001b[1;31m# Finally look for special method names\u001b[0m\u001b[1;33m\u001b[0m\u001b[1;33m\u001b[0m\u001b[0m\n\u001b[0;32m    343\u001b[0m             \u001b[0mmethod\u001b[0m \u001b[1;33m=\u001b[0m \u001b[0mget_real_method\u001b[0m\u001b[1;33m(\u001b[0m\u001b[0mobj\u001b[0m\u001b[1;33m,\u001b[0m \u001b[0mself\u001b[0m\u001b[1;33m.\u001b[0m\u001b[0mprint_method\u001b[0m\u001b[1;33m)\u001b[0m\u001b[1;33m\u001b[0m\u001b[1;33m\u001b[0m\u001b[0m\n",
      "\u001b[1;32m~\\anaconda3\\lib\\site-packages\\IPython\\core\\pylabtools.py\u001b[0m in \u001b[0;36mprint_figure\u001b[1;34m(fig, fmt, bbox_inches, base64, **kwargs)\u001b[0m\n\u001b[0;32m    149\u001b[0m         \u001b[0mFigureCanvasBase\u001b[0m\u001b[1;33m(\u001b[0m\u001b[0mfig\u001b[0m\u001b[1;33m)\u001b[0m\u001b[1;33m\u001b[0m\u001b[1;33m\u001b[0m\u001b[0m\n\u001b[0;32m    150\u001b[0m \u001b[1;33m\u001b[0m\u001b[0m\n\u001b[1;32m--> 151\u001b[1;33m     \u001b[0mfig\u001b[0m\u001b[1;33m.\u001b[0m\u001b[0mcanvas\u001b[0m\u001b[1;33m.\u001b[0m\u001b[0mprint_figure\u001b[0m\u001b[1;33m(\u001b[0m\u001b[0mbytes_io\u001b[0m\u001b[1;33m,\u001b[0m \u001b[1;33m**\u001b[0m\u001b[0mkw\u001b[0m\u001b[1;33m)\u001b[0m\u001b[1;33m\u001b[0m\u001b[1;33m\u001b[0m\u001b[0m\n\u001b[0m\u001b[0;32m    152\u001b[0m     \u001b[0mdata\u001b[0m \u001b[1;33m=\u001b[0m \u001b[0mbytes_io\u001b[0m\u001b[1;33m.\u001b[0m\u001b[0mgetvalue\u001b[0m\u001b[1;33m(\u001b[0m\u001b[1;33m)\u001b[0m\u001b[1;33m\u001b[0m\u001b[1;33m\u001b[0m\u001b[0m\n\u001b[0;32m    153\u001b[0m     \u001b[1;32mif\u001b[0m \u001b[0mfmt\u001b[0m \u001b[1;33m==\u001b[0m \u001b[1;34m'svg'\u001b[0m\u001b[1;33m:\u001b[0m\u001b[1;33m\u001b[0m\u001b[1;33m\u001b[0m\u001b[0m\n",
      "\u001b[1;32m~\\anaconda3\\lib\\site-packages\\matplotlib\\backend_bases.py\u001b[0m in \u001b[0;36mprint_figure\u001b[1;34m(self, filename, dpi, facecolor, edgecolor, orientation, format, bbox_inches, pad_inches, bbox_extra_artists, backend, **kwargs)\u001b[0m\n\u001b[0;32m   2228\u001b[0m                        else suppress())\n\u001b[0;32m   2229\u001b[0m                 \u001b[1;32mwith\u001b[0m \u001b[0mctx\u001b[0m\u001b[1;33m:\u001b[0m\u001b[1;33m\u001b[0m\u001b[1;33m\u001b[0m\u001b[0m\n\u001b[1;32m-> 2230\u001b[1;33m                     \u001b[0mself\u001b[0m\u001b[1;33m.\u001b[0m\u001b[0mfigure\u001b[0m\u001b[1;33m.\u001b[0m\u001b[0mdraw\u001b[0m\u001b[1;33m(\u001b[0m\u001b[0mrenderer\u001b[0m\u001b[1;33m)\u001b[0m\u001b[1;33m\u001b[0m\u001b[1;33m\u001b[0m\u001b[0m\n\u001b[0m\u001b[0;32m   2231\u001b[0m \u001b[1;33m\u001b[0m\u001b[0m\n\u001b[0;32m   2232\u001b[0m             \u001b[1;32mif\u001b[0m \u001b[0mbbox_inches\u001b[0m\u001b[1;33m:\u001b[0m\u001b[1;33m\u001b[0m\u001b[1;33m\u001b[0m\u001b[0m\n",
      "\u001b[1;32m~\\anaconda3\\lib\\site-packages\\matplotlib\\artist.py\u001b[0m in \u001b[0;36mdraw_wrapper\u001b[1;34m(artist, renderer, *args, **kwargs)\u001b[0m\n\u001b[0;32m     72\u001b[0m     \u001b[1;33m@\u001b[0m\u001b[0mwraps\u001b[0m\u001b[1;33m(\u001b[0m\u001b[0mdraw\u001b[0m\u001b[1;33m)\u001b[0m\u001b[1;33m\u001b[0m\u001b[1;33m\u001b[0m\u001b[0m\n\u001b[0;32m     73\u001b[0m     \u001b[1;32mdef\u001b[0m \u001b[0mdraw_wrapper\u001b[0m\u001b[1;33m(\u001b[0m\u001b[0martist\u001b[0m\u001b[1;33m,\u001b[0m \u001b[0mrenderer\u001b[0m\u001b[1;33m,\u001b[0m \u001b[1;33m*\u001b[0m\u001b[0margs\u001b[0m\u001b[1;33m,\u001b[0m \u001b[1;33m**\u001b[0m\u001b[0mkwargs\u001b[0m\u001b[1;33m)\u001b[0m\u001b[1;33m:\u001b[0m\u001b[1;33m\u001b[0m\u001b[1;33m\u001b[0m\u001b[0m\n\u001b[1;32m---> 74\u001b[1;33m         \u001b[0mresult\u001b[0m \u001b[1;33m=\u001b[0m \u001b[0mdraw\u001b[0m\u001b[1;33m(\u001b[0m\u001b[0martist\u001b[0m\u001b[1;33m,\u001b[0m \u001b[0mrenderer\u001b[0m\u001b[1;33m,\u001b[0m \u001b[1;33m*\u001b[0m\u001b[0margs\u001b[0m\u001b[1;33m,\u001b[0m \u001b[1;33m**\u001b[0m\u001b[0mkwargs\u001b[0m\u001b[1;33m)\u001b[0m\u001b[1;33m\u001b[0m\u001b[1;33m\u001b[0m\u001b[0m\n\u001b[0m\u001b[0;32m     75\u001b[0m         \u001b[1;32mif\u001b[0m \u001b[0mrenderer\u001b[0m\u001b[1;33m.\u001b[0m\u001b[0m_rasterizing\u001b[0m\u001b[1;33m:\u001b[0m\u001b[1;33m\u001b[0m\u001b[1;33m\u001b[0m\u001b[0m\n\u001b[0;32m     76\u001b[0m             \u001b[0mrenderer\u001b[0m\u001b[1;33m.\u001b[0m\u001b[0mstop_rasterizing\u001b[0m\u001b[1;33m(\u001b[0m\u001b[1;33m)\u001b[0m\u001b[1;33m\u001b[0m\u001b[1;33m\u001b[0m\u001b[0m\n",
      "\u001b[1;32m~\\anaconda3\\lib\\site-packages\\matplotlib\\artist.py\u001b[0m in \u001b[0;36mdraw_wrapper\u001b[1;34m(artist, renderer, *args, **kwargs)\u001b[0m\n\u001b[0;32m     49\u001b[0m                 \u001b[0mrenderer\u001b[0m\u001b[1;33m.\u001b[0m\u001b[0mstart_filter\u001b[0m\u001b[1;33m(\u001b[0m\u001b[1;33m)\u001b[0m\u001b[1;33m\u001b[0m\u001b[1;33m\u001b[0m\u001b[0m\n\u001b[0;32m     50\u001b[0m \u001b[1;33m\u001b[0m\u001b[0m\n\u001b[1;32m---> 51\u001b[1;33m             \u001b[1;32mreturn\u001b[0m \u001b[0mdraw\u001b[0m\u001b[1;33m(\u001b[0m\u001b[0martist\u001b[0m\u001b[1;33m,\u001b[0m \u001b[0mrenderer\u001b[0m\u001b[1;33m,\u001b[0m \u001b[1;33m*\u001b[0m\u001b[0margs\u001b[0m\u001b[1;33m,\u001b[0m \u001b[1;33m**\u001b[0m\u001b[0mkwargs\u001b[0m\u001b[1;33m)\u001b[0m\u001b[1;33m\u001b[0m\u001b[1;33m\u001b[0m\u001b[0m\n\u001b[0m\u001b[0;32m     52\u001b[0m         \u001b[1;32mfinally\u001b[0m\u001b[1;33m:\u001b[0m\u001b[1;33m\u001b[0m\u001b[1;33m\u001b[0m\u001b[0m\n\u001b[0;32m     53\u001b[0m             \u001b[1;32mif\u001b[0m \u001b[0martist\u001b[0m\u001b[1;33m.\u001b[0m\u001b[0mget_agg_filter\u001b[0m\u001b[1;33m(\u001b[0m\u001b[1;33m)\u001b[0m \u001b[1;32mis\u001b[0m \u001b[1;32mnot\u001b[0m \u001b[1;32mNone\u001b[0m\u001b[1;33m:\u001b[0m\u001b[1;33m\u001b[0m\u001b[1;33m\u001b[0m\u001b[0m\n",
      "\u001b[1;32m~\\anaconda3\\lib\\site-packages\\matplotlib\\figure.py\u001b[0m in \u001b[0;36mdraw\u001b[1;34m(self, renderer)\u001b[0m\n\u001b[0;32m   2788\u001b[0m \u001b[1;33m\u001b[0m\u001b[0m\n\u001b[0;32m   2789\u001b[0m             \u001b[0mself\u001b[0m\u001b[1;33m.\u001b[0m\u001b[0mpatch\u001b[0m\u001b[1;33m.\u001b[0m\u001b[0mdraw\u001b[0m\u001b[1;33m(\u001b[0m\u001b[0mrenderer\u001b[0m\u001b[1;33m)\u001b[0m\u001b[1;33m\u001b[0m\u001b[1;33m\u001b[0m\u001b[0m\n\u001b[1;32m-> 2790\u001b[1;33m             mimage._draw_list_compositing_images(\n\u001b[0m\u001b[0;32m   2791\u001b[0m                 renderer, self, artists, self.suppressComposite)\n\u001b[0;32m   2792\u001b[0m \u001b[1;33m\u001b[0m\u001b[0m\n",
      "\u001b[1;32m~\\anaconda3\\lib\\site-packages\\matplotlib\\image.py\u001b[0m in \u001b[0;36m_draw_list_compositing_images\u001b[1;34m(renderer, parent, artists, suppress_composite)\u001b[0m\n\u001b[0;32m    130\u001b[0m     \u001b[1;32mif\u001b[0m \u001b[0mnot_composite\u001b[0m \u001b[1;32mor\u001b[0m \u001b[1;32mnot\u001b[0m \u001b[0mhas_images\u001b[0m\u001b[1;33m:\u001b[0m\u001b[1;33m\u001b[0m\u001b[1;33m\u001b[0m\u001b[0m\n\u001b[0;32m    131\u001b[0m         \u001b[1;32mfor\u001b[0m \u001b[0ma\u001b[0m \u001b[1;32min\u001b[0m \u001b[0martists\u001b[0m\u001b[1;33m:\u001b[0m\u001b[1;33m\u001b[0m\u001b[1;33m\u001b[0m\u001b[0m\n\u001b[1;32m--> 132\u001b[1;33m             \u001b[0ma\u001b[0m\u001b[1;33m.\u001b[0m\u001b[0mdraw\u001b[0m\u001b[1;33m(\u001b[0m\u001b[0mrenderer\u001b[0m\u001b[1;33m)\u001b[0m\u001b[1;33m\u001b[0m\u001b[1;33m\u001b[0m\u001b[0m\n\u001b[0m\u001b[0;32m    133\u001b[0m     \u001b[1;32melse\u001b[0m\u001b[1;33m:\u001b[0m\u001b[1;33m\u001b[0m\u001b[1;33m\u001b[0m\u001b[0m\n\u001b[0;32m    134\u001b[0m         \u001b[1;31m# Composite any adjacent images together\u001b[0m\u001b[1;33m\u001b[0m\u001b[1;33m\u001b[0m\u001b[0m\n",
      "\u001b[1;32m~\\anaconda3\\lib\\site-packages\\matplotlib\\artist.py\u001b[0m in \u001b[0;36mdraw_wrapper\u001b[1;34m(artist, renderer, *args, **kwargs)\u001b[0m\n\u001b[0;32m     49\u001b[0m                 \u001b[0mrenderer\u001b[0m\u001b[1;33m.\u001b[0m\u001b[0mstart_filter\u001b[0m\u001b[1;33m(\u001b[0m\u001b[1;33m)\u001b[0m\u001b[1;33m\u001b[0m\u001b[1;33m\u001b[0m\u001b[0m\n\u001b[0;32m     50\u001b[0m \u001b[1;33m\u001b[0m\u001b[0m\n\u001b[1;32m---> 51\u001b[1;33m             \u001b[1;32mreturn\u001b[0m \u001b[0mdraw\u001b[0m\u001b[1;33m(\u001b[0m\u001b[0martist\u001b[0m\u001b[1;33m,\u001b[0m \u001b[0mrenderer\u001b[0m\u001b[1;33m,\u001b[0m \u001b[1;33m*\u001b[0m\u001b[0margs\u001b[0m\u001b[1;33m,\u001b[0m \u001b[1;33m**\u001b[0m\u001b[0mkwargs\u001b[0m\u001b[1;33m)\u001b[0m\u001b[1;33m\u001b[0m\u001b[1;33m\u001b[0m\u001b[0m\n\u001b[0m\u001b[0;32m     52\u001b[0m         \u001b[1;32mfinally\u001b[0m\u001b[1;33m:\u001b[0m\u001b[1;33m\u001b[0m\u001b[1;33m\u001b[0m\u001b[0m\n\u001b[0;32m     53\u001b[0m             \u001b[1;32mif\u001b[0m \u001b[0martist\u001b[0m\u001b[1;33m.\u001b[0m\u001b[0mget_agg_filter\u001b[0m\u001b[1;33m(\u001b[0m\u001b[1;33m)\u001b[0m \u001b[1;32mis\u001b[0m \u001b[1;32mnot\u001b[0m \u001b[1;32mNone\u001b[0m\u001b[1;33m:\u001b[0m\u001b[1;33m\u001b[0m\u001b[1;33m\u001b[0m\u001b[0m\n",
      "\u001b[1;32m~\\anaconda3\\lib\\site-packages\\matplotlib\\_api\\deprecation.py\u001b[0m in \u001b[0;36mwrapper\u001b[1;34m(*inner_args, **inner_kwargs)\u001b[0m\n\u001b[0;32m    429\u001b[0m                          \u001b[1;32melse\u001b[0m \u001b[0mdeprecation_addendum\u001b[0m\u001b[1;33m,\u001b[0m\u001b[1;33m\u001b[0m\u001b[1;33m\u001b[0m\u001b[0m\n\u001b[0;32m    430\u001b[0m                 **kwargs)\n\u001b[1;32m--> 431\u001b[1;33m         \u001b[1;32mreturn\u001b[0m \u001b[0mfunc\u001b[0m\u001b[1;33m(\u001b[0m\u001b[1;33m*\u001b[0m\u001b[0minner_args\u001b[0m\u001b[1;33m,\u001b[0m \u001b[1;33m**\u001b[0m\u001b[0minner_kwargs\u001b[0m\u001b[1;33m)\u001b[0m\u001b[1;33m\u001b[0m\u001b[1;33m\u001b[0m\u001b[0m\n\u001b[0m\u001b[0;32m    432\u001b[0m \u001b[1;33m\u001b[0m\u001b[0m\n\u001b[0;32m    433\u001b[0m     \u001b[1;32mreturn\u001b[0m \u001b[0mwrapper\u001b[0m\u001b[1;33m\u001b[0m\u001b[1;33m\u001b[0m\u001b[0m\n",
      "\u001b[1;32m~\\anaconda3\\lib\\site-packages\\matplotlib\\axes\\_base.py\u001b[0m in \u001b[0;36mdraw\u001b[1;34m(self, renderer, inframe)\u001b[0m\n\u001b[0;32m   2919\u001b[0m             \u001b[0mrenderer\u001b[0m\u001b[1;33m.\u001b[0m\u001b[0mstop_rasterizing\u001b[0m\u001b[1;33m(\u001b[0m\u001b[1;33m)\u001b[0m\u001b[1;33m\u001b[0m\u001b[1;33m\u001b[0m\u001b[0m\n\u001b[0;32m   2920\u001b[0m \u001b[1;33m\u001b[0m\u001b[0m\n\u001b[1;32m-> 2921\u001b[1;33m         \u001b[0mmimage\u001b[0m\u001b[1;33m.\u001b[0m\u001b[0m_draw_list_compositing_images\u001b[0m\u001b[1;33m(\u001b[0m\u001b[0mrenderer\u001b[0m\u001b[1;33m,\u001b[0m \u001b[0mself\u001b[0m\u001b[1;33m,\u001b[0m \u001b[0martists\u001b[0m\u001b[1;33m)\u001b[0m\u001b[1;33m\u001b[0m\u001b[1;33m\u001b[0m\u001b[0m\n\u001b[0m\u001b[0;32m   2922\u001b[0m \u001b[1;33m\u001b[0m\u001b[0m\n\u001b[0;32m   2923\u001b[0m         \u001b[0mrenderer\u001b[0m\u001b[1;33m.\u001b[0m\u001b[0mclose_group\u001b[0m\u001b[1;33m(\u001b[0m\u001b[1;34m'axes'\u001b[0m\u001b[1;33m)\u001b[0m\u001b[1;33m\u001b[0m\u001b[1;33m\u001b[0m\u001b[0m\n",
      "\u001b[1;32m~\\anaconda3\\lib\\site-packages\\matplotlib\\image.py\u001b[0m in \u001b[0;36m_draw_list_compositing_images\u001b[1;34m(renderer, parent, artists, suppress_composite)\u001b[0m\n\u001b[0;32m    130\u001b[0m     \u001b[1;32mif\u001b[0m \u001b[0mnot_composite\u001b[0m \u001b[1;32mor\u001b[0m \u001b[1;32mnot\u001b[0m \u001b[0mhas_images\u001b[0m\u001b[1;33m:\u001b[0m\u001b[1;33m\u001b[0m\u001b[1;33m\u001b[0m\u001b[0m\n\u001b[0;32m    131\u001b[0m         \u001b[1;32mfor\u001b[0m \u001b[0ma\u001b[0m \u001b[1;32min\u001b[0m \u001b[0martists\u001b[0m\u001b[1;33m:\u001b[0m\u001b[1;33m\u001b[0m\u001b[1;33m\u001b[0m\u001b[0m\n\u001b[1;32m--> 132\u001b[1;33m             \u001b[0ma\u001b[0m\u001b[1;33m.\u001b[0m\u001b[0mdraw\u001b[0m\u001b[1;33m(\u001b[0m\u001b[0mrenderer\u001b[0m\u001b[1;33m)\u001b[0m\u001b[1;33m\u001b[0m\u001b[1;33m\u001b[0m\u001b[0m\n\u001b[0m\u001b[0;32m    133\u001b[0m     \u001b[1;32melse\u001b[0m\u001b[1;33m:\u001b[0m\u001b[1;33m\u001b[0m\u001b[1;33m\u001b[0m\u001b[0m\n\u001b[0;32m    134\u001b[0m         \u001b[1;31m# Composite any adjacent images together\u001b[0m\u001b[1;33m\u001b[0m\u001b[1;33m\u001b[0m\u001b[0m\n",
      "\u001b[1;32m~\\anaconda3\\lib\\site-packages\\matplotlib\\artist.py\u001b[0m in \u001b[0;36mdraw_wrapper\u001b[1;34m(artist, renderer, *args, **kwargs)\u001b[0m\n\u001b[0;32m     49\u001b[0m                 \u001b[0mrenderer\u001b[0m\u001b[1;33m.\u001b[0m\u001b[0mstart_filter\u001b[0m\u001b[1;33m(\u001b[0m\u001b[1;33m)\u001b[0m\u001b[1;33m\u001b[0m\u001b[1;33m\u001b[0m\u001b[0m\n\u001b[0;32m     50\u001b[0m \u001b[1;33m\u001b[0m\u001b[0m\n\u001b[1;32m---> 51\u001b[1;33m             \u001b[1;32mreturn\u001b[0m \u001b[0mdraw\u001b[0m\u001b[1;33m(\u001b[0m\u001b[0martist\u001b[0m\u001b[1;33m,\u001b[0m \u001b[0mrenderer\u001b[0m\u001b[1;33m,\u001b[0m \u001b[1;33m*\u001b[0m\u001b[0margs\u001b[0m\u001b[1;33m,\u001b[0m \u001b[1;33m**\u001b[0m\u001b[0mkwargs\u001b[0m\u001b[1;33m)\u001b[0m\u001b[1;33m\u001b[0m\u001b[1;33m\u001b[0m\u001b[0m\n\u001b[0m\u001b[0;32m     52\u001b[0m         \u001b[1;32mfinally\u001b[0m\u001b[1;33m:\u001b[0m\u001b[1;33m\u001b[0m\u001b[1;33m\u001b[0m\u001b[0m\n\u001b[0;32m     53\u001b[0m             \u001b[1;32mif\u001b[0m \u001b[0martist\u001b[0m\u001b[1;33m.\u001b[0m\u001b[0mget_agg_filter\u001b[0m\u001b[1;33m(\u001b[0m\u001b[1;33m)\u001b[0m \u001b[1;32mis\u001b[0m \u001b[1;32mnot\u001b[0m \u001b[1;32mNone\u001b[0m\u001b[1;33m:\u001b[0m\u001b[1;33m\u001b[0m\u001b[1;33m\u001b[0m\u001b[0m\n",
      "\u001b[1;32m~\\anaconda3\\lib\\site-packages\\matplotlib\\axis.py\u001b[0m in \u001b[0;36mdraw\u001b[1;34m(self, renderer, *args, **kwargs)\u001b[0m\n\u001b[0;32m   1151\u001b[0m         \u001b[1;31m# the actual bbox\u001b[0m\u001b[1;33m\u001b[0m\u001b[1;33m\u001b[0m\u001b[0m\n\u001b[0;32m   1152\u001b[0m \u001b[1;33m\u001b[0m\u001b[0m\n\u001b[1;32m-> 1153\u001b[1;33m         \u001b[0mself\u001b[0m\u001b[1;33m.\u001b[0m\u001b[0m_update_label_position\u001b[0m\u001b[1;33m(\u001b[0m\u001b[0mrenderer\u001b[0m\u001b[1;33m)\u001b[0m\u001b[1;33m\u001b[0m\u001b[1;33m\u001b[0m\u001b[0m\n\u001b[0m\u001b[0;32m   1154\u001b[0m \u001b[1;33m\u001b[0m\u001b[0m\n\u001b[0;32m   1155\u001b[0m         \u001b[0mself\u001b[0m\u001b[1;33m.\u001b[0m\u001b[0mlabel\u001b[0m\u001b[1;33m.\u001b[0m\u001b[0mdraw\u001b[0m\u001b[1;33m(\u001b[0m\u001b[0mrenderer\u001b[0m\u001b[1;33m)\u001b[0m\u001b[1;33m\u001b[0m\u001b[1;33m\u001b[0m\u001b[0m\n",
      "\u001b[1;32m~\\anaconda3\\lib\\site-packages\\matplotlib\\axis.py\u001b[0m in \u001b[0;36m_update_label_position\u001b[1;34m(self, renderer)\u001b[0m\n\u001b[0;32m   2083\u001b[0m         \u001b[1;31m# get bounding boxes for this axis and any siblings\u001b[0m\u001b[1;33m\u001b[0m\u001b[1;33m\u001b[0m\u001b[0m\n\u001b[0;32m   2084\u001b[0m         \u001b[1;31m# that have been set by `fig.align_xlabels()`\u001b[0m\u001b[1;33m\u001b[0m\u001b[1;33m\u001b[0m\u001b[0m\n\u001b[1;32m-> 2085\u001b[1;33m         \u001b[0mbboxes\u001b[0m\u001b[1;33m,\u001b[0m \u001b[0mbboxes2\u001b[0m \u001b[1;33m=\u001b[0m \u001b[0mself\u001b[0m\u001b[1;33m.\u001b[0m\u001b[0m_get_tick_boxes_siblings\u001b[0m\u001b[1;33m(\u001b[0m\u001b[0mrenderer\u001b[0m\u001b[1;33m=\u001b[0m\u001b[0mrenderer\u001b[0m\u001b[1;33m)\u001b[0m\u001b[1;33m\u001b[0m\u001b[1;33m\u001b[0m\u001b[0m\n\u001b[0m\u001b[0;32m   2086\u001b[0m \u001b[1;33m\u001b[0m\u001b[0m\n\u001b[0;32m   2087\u001b[0m         \u001b[0mx\u001b[0m\u001b[1;33m,\u001b[0m \u001b[0my\u001b[0m \u001b[1;33m=\u001b[0m \u001b[0mself\u001b[0m\u001b[1;33m.\u001b[0m\u001b[0mlabel\u001b[0m\u001b[1;33m.\u001b[0m\u001b[0mget_position\u001b[0m\u001b[1;33m(\u001b[0m\u001b[1;33m)\u001b[0m\u001b[1;33m\u001b[0m\u001b[1;33m\u001b[0m\u001b[0m\n",
      "\u001b[1;32m~\\anaconda3\\lib\\site-packages\\matplotlib\\axis.py\u001b[0m in \u001b[0;36m_get_tick_boxes_siblings\u001b[1;34m(self, renderer)\u001b[0m\n\u001b[0;32m   1871\u001b[0m             \u001b[0maxis\u001b[0m \u001b[1;33m=\u001b[0m \u001b[0max\u001b[0m\u001b[1;33m.\u001b[0m\u001b[0m_get_axis_map\u001b[0m\u001b[1;33m(\u001b[0m\u001b[1;33m)\u001b[0m\u001b[1;33m[\u001b[0m\u001b[0maxis_name\u001b[0m\u001b[1;33m]\u001b[0m\u001b[1;33m\u001b[0m\u001b[1;33m\u001b[0m\u001b[0m\n\u001b[0;32m   1872\u001b[0m             \u001b[0mticks_to_draw\u001b[0m \u001b[1;33m=\u001b[0m \u001b[0maxis\u001b[0m\u001b[1;33m.\u001b[0m\u001b[0m_update_ticks\u001b[0m\u001b[1;33m(\u001b[0m\u001b[1;33m)\u001b[0m\u001b[1;33m\u001b[0m\u001b[1;33m\u001b[0m\u001b[0m\n\u001b[1;32m-> 1873\u001b[1;33m             \u001b[0mtlb\u001b[0m\u001b[1;33m,\u001b[0m \u001b[0mtlb2\u001b[0m \u001b[1;33m=\u001b[0m \u001b[0maxis\u001b[0m\u001b[1;33m.\u001b[0m\u001b[0m_get_tick_bboxes\u001b[0m\u001b[1;33m(\u001b[0m\u001b[0mticks_to_draw\u001b[0m\u001b[1;33m,\u001b[0m \u001b[0mrenderer\u001b[0m\u001b[1;33m)\u001b[0m\u001b[1;33m\u001b[0m\u001b[1;33m\u001b[0m\u001b[0m\n\u001b[0m\u001b[0;32m   1874\u001b[0m             \u001b[0mbboxes\u001b[0m\u001b[1;33m.\u001b[0m\u001b[0mextend\u001b[0m\u001b[1;33m(\u001b[0m\u001b[0mtlb\u001b[0m\u001b[1;33m)\u001b[0m\u001b[1;33m\u001b[0m\u001b[1;33m\u001b[0m\u001b[0m\n\u001b[0;32m   1875\u001b[0m             \u001b[0mbboxes2\u001b[0m\u001b[1;33m.\u001b[0m\u001b[0mextend\u001b[0m\u001b[1;33m(\u001b[0m\u001b[0mtlb2\u001b[0m\u001b[1;33m)\u001b[0m\u001b[1;33m\u001b[0m\u001b[1;33m\u001b[0m\u001b[0m\n",
      "\u001b[1;32m~\\anaconda3\\lib\\site-packages\\matplotlib\\axis.py\u001b[0m in \u001b[0;36m_get_tick_bboxes\u001b[1;34m(self, ticks, renderer)\u001b[0m\n\u001b[0;32m   1066\u001b[0m     \u001b[1;32mdef\u001b[0m \u001b[0m_get_tick_bboxes\u001b[0m\u001b[1;33m(\u001b[0m\u001b[0mself\u001b[0m\u001b[1;33m,\u001b[0m \u001b[0mticks\u001b[0m\u001b[1;33m,\u001b[0m \u001b[0mrenderer\u001b[0m\u001b[1;33m)\u001b[0m\u001b[1;33m:\u001b[0m\u001b[1;33m\u001b[0m\u001b[1;33m\u001b[0m\u001b[0m\n\u001b[0;32m   1067\u001b[0m         \u001b[1;34m\"\"\"Return lists of bboxes for ticks' label1's and label2's.\"\"\"\u001b[0m\u001b[1;33m\u001b[0m\u001b[1;33m\u001b[0m\u001b[0m\n\u001b[1;32m-> 1068\u001b[1;33m         return ([tick.label1.get_window_extent(renderer)\n\u001b[0m\u001b[0;32m   1069\u001b[0m                  for tick in ticks if tick.label1.get_visible()],\n\u001b[0;32m   1070\u001b[0m                 [tick.label2.get_window_extent(renderer)\n",
      "\u001b[1;32m~\\anaconda3\\lib\\site-packages\\matplotlib\\axis.py\u001b[0m in \u001b[0;36m<listcomp>\u001b[1;34m(.0)\u001b[0m\n\u001b[0;32m   1066\u001b[0m     \u001b[1;32mdef\u001b[0m \u001b[0m_get_tick_bboxes\u001b[0m\u001b[1;33m(\u001b[0m\u001b[0mself\u001b[0m\u001b[1;33m,\u001b[0m \u001b[0mticks\u001b[0m\u001b[1;33m,\u001b[0m \u001b[0mrenderer\u001b[0m\u001b[1;33m)\u001b[0m\u001b[1;33m:\u001b[0m\u001b[1;33m\u001b[0m\u001b[1;33m\u001b[0m\u001b[0m\n\u001b[0;32m   1067\u001b[0m         \u001b[1;34m\"\"\"Return lists of bboxes for ticks' label1's and label2's.\"\"\"\u001b[0m\u001b[1;33m\u001b[0m\u001b[1;33m\u001b[0m\u001b[0m\n\u001b[1;32m-> 1068\u001b[1;33m         return ([tick.label1.get_window_extent(renderer)\n\u001b[0m\u001b[0;32m   1069\u001b[0m                  for tick in ticks if tick.label1.get_visible()],\n\u001b[0;32m   1070\u001b[0m                 [tick.label2.get_window_extent(renderer)\n",
      "\u001b[1;32m~\\anaconda3\\lib\\site-packages\\matplotlib\\text.py\u001b[0m in \u001b[0;36mget_window_extent\u001b[1;34m(self, renderer, dpi)\u001b[0m\n\u001b[0;32m    901\u001b[0m \u001b[1;33m\u001b[0m\u001b[0m\n\u001b[0;32m    902\u001b[0m         \u001b[1;32mwith\u001b[0m \u001b[0mcbook\u001b[0m\u001b[1;33m.\u001b[0m\u001b[0m_setattr_cm\u001b[0m\u001b[1;33m(\u001b[0m\u001b[0mself\u001b[0m\u001b[1;33m.\u001b[0m\u001b[0mfigure\u001b[0m\u001b[1;33m,\u001b[0m \u001b[0mdpi\u001b[0m\u001b[1;33m=\u001b[0m\u001b[0mdpi\u001b[0m\u001b[1;33m)\u001b[0m\u001b[1;33m:\u001b[0m\u001b[1;33m\u001b[0m\u001b[1;33m\u001b[0m\u001b[0m\n\u001b[1;32m--> 903\u001b[1;33m             \u001b[0mbbox\u001b[0m\u001b[1;33m,\u001b[0m \u001b[0minfo\u001b[0m\u001b[1;33m,\u001b[0m \u001b[0mdescent\u001b[0m \u001b[1;33m=\u001b[0m \u001b[0mself\u001b[0m\u001b[1;33m.\u001b[0m\u001b[0m_get_layout\u001b[0m\u001b[1;33m(\u001b[0m\u001b[0mself\u001b[0m\u001b[1;33m.\u001b[0m\u001b[0m_renderer\u001b[0m\u001b[1;33m)\u001b[0m\u001b[1;33m\u001b[0m\u001b[1;33m\u001b[0m\u001b[0m\n\u001b[0m\u001b[0;32m    904\u001b[0m             \u001b[0mx\u001b[0m\u001b[1;33m,\u001b[0m \u001b[0my\u001b[0m \u001b[1;33m=\u001b[0m \u001b[0mself\u001b[0m\u001b[1;33m.\u001b[0m\u001b[0mget_unitless_position\u001b[0m\u001b[1;33m(\u001b[0m\u001b[1;33m)\u001b[0m\u001b[1;33m\u001b[0m\u001b[1;33m\u001b[0m\u001b[0m\n\u001b[0;32m    905\u001b[0m             \u001b[0mx\u001b[0m\u001b[1;33m,\u001b[0m \u001b[0my\u001b[0m \u001b[1;33m=\u001b[0m \u001b[0mself\u001b[0m\u001b[1;33m.\u001b[0m\u001b[0mget_transform\u001b[0m\u001b[1;33m(\u001b[0m\u001b[1;33m)\u001b[0m\u001b[1;33m.\u001b[0m\u001b[0mtransform\u001b[0m\u001b[1;33m(\u001b[0m\u001b[1;33m(\u001b[0m\u001b[0mx\u001b[0m\u001b[1;33m,\u001b[0m \u001b[0my\u001b[0m\u001b[1;33m)\u001b[0m\u001b[1;33m)\u001b[0m\u001b[1;33m\u001b[0m\u001b[1;33m\u001b[0m\u001b[0m\n",
      "\u001b[1;32m~\\anaconda3\\lib\\site-packages\\matplotlib\\text.py\u001b[0m in \u001b[0;36m_get_layout\u001b[1;34m(self, renderer)\u001b[0m\n\u001b[0;32m    304\u001b[0m \u001b[1;33m\u001b[0m\u001b[0m\n\u001b[0;32m    305\u001b[0m         \u001b[1;31m# Full vertical extent of font, including ascenders and descenders:\u001b[0m\u001b[1;33m\u001b[0m\u001b[1;33m\u001b[0m\u001b[0m\n\u001b[1;32m--> 306\u001b[1;33m         _, lp_h, lp_d = renderer.get_text_width_height_descent(\n\u001b[0m\u001b[0;32m    307\u001b[0m             \u001b[1;34m\"lp\"\u001b[0m\u001b[1;33m,\u001b[0m \u001b[0mself\u001b[0m\u001b[1;33m.\u001b[0m\u001b[0m_fontproperties\u001b[0m\u001b[1;33m,\u001b[0m\u001b[1;33m\u001b[0m\u001b[1;33m\u001b[0m\u001b[0m\n\u001b[0;32m    308\u001b[0m             ismath=\"TeX\" if self.get_usetex() else False)\n",
      "\u001b[1;32m~\\anaconda3\\lib\\site-packages\\matplotlib\\backends\\backend_agg.py\u001b[0m in \u001b[0;36mget_text_width_height_descent\u001b[1;34m(self, s, prop, ismath)\u001b[0m\n\u001b[0;32m    238\u001b[0m         \u001b[0mflags\u001b[0m \u001b[1;33m=\u001b[0m \u001b[0mget_hinting_flag\u001b[0m\u001b[1;33m(\u001b[0m\u001b[1;33m)\u001b[0m\u001b[1;33m\u001b[0m\u001b[1;33m\u001b[0m\u001b[0m\n\u001b[0;32m    239\u001b[0m         \u001b[0mfont\u001b[0m \u001b[1;33m=\u001b[0m \u001b[0mself\u001b[0m\u001b[1;33m.\u001b[0m\u001b[0m_get_agg_font\u001b[0m\u001b[1;33m(\u001b[0m\u001b[0mprop\u001b[0m\u001b[1;33m)\u001b[0m\u001b[1;33m\u001b[0m\u001b[1;33m\u001b[0m\u001b[0m\n\u001b[1;32m--> 240\u001b[1;33m         \u001b[0mfont\u001b[0m\u001b[1;33m.\u001b[0m\u001b[0mset_text\u001b[0m\u001b[1;33m(\u001b[0m\u001b[0ms\u001b[0m\u001b[1;33m,\u001b[0m \u001b[1;36m0.0\u001b[0m\u001b[1;33m,\u001b[0m \u001b[0mflags\u001b[0m\u001b[1;33m=\u001b[0m\u001b[0mflags\u001b[0m\u001b[1;33m)\u001b[0m\u001b[1;33m\u001b[0m\u001b[1;33m\u001b[0m\u001b[0m\n\u001b[0m\u001b[0;32m    241\u001b[0m         \u001b[0mw\u001b[0m\u001b[1;33m,\u001b[0m \u001b[0mh\u001b[0m \u001b[1;33m=\u001b[0m \u001b[0mfont\u001b[0m\u001b[1;33m.\u001b[0m\u001b[0mget_width_height\u001b[0m\u001b[1;33m(\u001b[0m\u001b[1;33m)\u001b[0m  \u001b[1;31m# width and height of unrotated string\u001b[0m\u001b[1;33m\u001b[0m\u001b[1;33m\u001b[0m\u001b[0m\n\u001b[0;32m    242\u001b[0m         \u001b[0md\u001b[0m \u001b[1;33m=\u001b[0m \u001b[0mfont\u001b[0m\u001b[1;33m.\u001b[0m\u001b[0mget_descent\u001b[0m\u001b[1;33m(\u001b[0m\u001b[1;33m)\u001b[0m\u001b[1;33m\u001b[0m\u001b[1;33m\u001b[0m\u001b[0m\n",
      "\u001b[1;31mKeyboardInterrupt\u001b[0m: "
     ]
    }
   ],
   "source": [
    "# Get the list of column names\n",
    "columns = list(df.columns)\n",
    "\n",
    "# Remove the target column from the list\n",
    "columns.remove(\"sellingprice\")\n",
    "\n",
    "# Plot scatter plots for each column against the target column\n",
    "for column in columns:\n",
    "    plt.scatter(df[column], df[\"sellingprice\"])\n",
    "    plt.xlabel(column)\n",
    "    plt.ylabel(\"Target Column\")\n",
    "    plt.title(\"Scatter Plot of Target Column against {}\".format(column))\n",
    "    plt.show()"
   ]
  },
  {
   "cell_type": "markdown",
   "id": "64973afc",
   "metadata": {},
   "source": [
    "Modelling part"
   ]
  },
  {
   "cell_type": "code",
   "execution_count": 352,
   "id": "a229c5d1",
   "metadata": {},
   "outputs": [],
   "source": [
    "# mmr column must be excluded,due to high correlation(98%)\n",
    "X = dfmod.drop(columns = ['sellingprice','mmr'], axis = 1)\n",
    "y = dfmod['sellingprice']"
   ]
  },
  {
   "cell_type": "markdown",
   "id": "5039209c",
   "metadata": {},
   "source": [
    "Now, we are going to model and see results,if possible we will make  adjustments too."
   ]
  },
  {
   "cell_type": "code",
   "execution_count": 353,
   "id": "6bbe7efe",
   "metadata": {},
   "outputs": [],
   "source": [
    "from sklearn.model_selection import train_test_split\n",
    "X_train, X_test, y_train, y_test = train_test_split(X, y, test_size=0.2)"
   ]
  },
  {
   "cell_type": "code",
   "execution_count": 354,
   "id": "c9fbce27",
   "metadata": {},
   "outputs": [
    {
     "data": {
      "text/plain": [
       "0.7526187513271475"
      ]
     },
     "execution_count": 354,
     "metadata": {},
     "output_type": "execute_result"
    }
   ],
   "source": [
    "# first Linear Regression\n",
    "from sklearn.linear_model import LinearRegression\n",
    "reg = LinearRegression().fit(X_train, y_train)\n",
    "reg.score(X_test, y_test)"
   ]
  },
  {
   "cell_type": "code",
   "execution_count": 355,
   "id": "06ff3847",
   "metadata": {},
   "outputs": [
    {
     "data": {
      "text/plain": [
       "0.7515464490570672"
      ]
     },
     "execution_count": 355,
     "metadata": {},
     "output_type": "execute_result"
    }
   ],
   "source": [
    "reg.score(X_train, y_train)"
   ]
  },
  {
   "cell_type": "code",
   "execution_count": 356,
   "id": "a99c156b",
   "metadata": {},
   "outputs": [
    {
     "data": {
      "text/plain": [
       "array([ 4.22621089e+02,  1.08607236e-01,  5.43072997e-01,  4.65751578e-01,\n",
       "        1.60100463e+03, -3.70640783e-02,  9.39191637e-02,  1.18049881e-01])"
      ]
     },
     "execution_count": 356,
     "metadata": {},
     "output_type": "execute_result"
    }
   ],
   "source": [
    "reg.coef_"
   ]
  },
  {
   "cell_type": "code",
   "execution_count": 357,
   "id": "522c7b28",
   "metadata": {},
   "outputs": [
    {
     "data": {
      "text/plain": [
       "-857061.5080298495"
      ]
     },
     "execution_count": 357,
     "metadata": {},
     "output_type": "execute_result"
    }
   ],
   "source": [
    "reg.intercept_"
   ]
  },
  {
   "cell_type": "code",
   "execution_count": 365,
   "id": "90bcbb70",
   "metadata": {},
   "outputs": [],
   "source": [
    "from sklearn.model_selection import GridSearchCV \n",
    "from sklearn.tree import DecisionTreeRegressor"
   ]
  },
  {
   "cell_type": "code",
   "execution_count": 361,
   "id": "0d6dc217",
   "metadata": {},
   "outputs": [],
   "source": [
    "param_grid = {'max_depth' : [2,3,5,10],\n",
    "             'min_samples_split':[500,1000,2000,10000]}"
   ]
  },
  {
   "cell_type": "code",
   "execution_count": 369,
   "id": "0a7bfbee",
   "metadata": {},
   "outputs": [],
   "source": [
    "gscv = GridSearchCV(\n",
    "    estimator = DecisionTreeRegressor(),\n",
    "    param_grid = param_grid,\n",
    "    cv = 5,\n",
    "    n_jobs = -1\n",
    ") \n"
   ]
  },
  {
   "cell_type": "code",
   "execution_count": 370,
   "id": "0e922aa4",
   "metadata": {},
   "outputs": [
    {
     "data": {
      "text/html": [
       "<style>#sk-container-id-9 {color: black;background-color: white;}#sk-container-id-9 pre{padding: 0;}#sk-container-id-9 div.sk-toggleable {background-color: white;}#sk-container-id-9 label.sk-toggleable__label {cursor: pointer;display: block;width: 100%;margin-bottom: 0;padding: 0.3em;box-sizing: border-box;text-align: center;}#sk-container-id-9 label.sk-toggleable__label-arrow:before {content: \"▸\";float: left;margin-right: 0.25em;color: #696969;}#sk-container-id-9 label.sk-toggleable__label-arrow:hover:before {color: black;}#sk-container-id-9 div.sk-estimator:hover label.sk-toggleable__label-arrow:before {color: black;}#sk-container-id-9 div.sk-toggleable__content {max-height: 0;max-width: 0;overflow: hidden;text-align: left;background-color: #f0f8ff;}#sk-container-id-9 div.sk-toggleable__content pre {margin: 0.2em;color: black;border-radius: 0.25em;background-color: #f0f8ff;}#sk-container-id-9 input.sk-toggleable__control:checked~div.sk-toggleable__content {max-height: 200px;max-width: 100%;overflow: auto;}#sk-container-id-9 input.sk-toggleable__control:checked~label.sk-toggleable__label-arrow:before {content: \"▾\";}#sk-container-id-9 div.sk-estimator input.sk-toggleable__control:checked~label.sk-toggleable__label {background-color: #d4ebff;}#sk-container-id-9 div.sk-label input.sk-toggleable__control:checked~label.sk-toggleable__label {background-color: #d4ebff;}#sk-container-id-9 input.sk-hidden--visually {border: 0;clip: rect(1px 1px 1px 1px);clip: rect(1px, 1px, 1px, 1px);height: 1px;margin: -1px;overflow: hidden;padding: 0;position: absolute;width: 1px;}#sk-container-id-9 div.sk-estimator {font-family: monospace;background-color: #f0f8ff;border: 1px dotted black;border-radius: 0.25em;box-sizing: border-box;margin-bottom: 0.5em;}#sk-container-id-9 div.sk-estimator:hover {background-color: #d4ebff;}#sk-container-id-9 div.sk-parallel-item::after {content: \"\";width: 100%;border-bottom: 1px solid gray;flex-grow: 1;}#sk-container-id-9 div.sk-label:hover label.sk-toggleable__label {background-color: #d4ebff;}#sk-container-id-9 div.sk-serial::before {content: \"\";position: absolute;border-left: 1px solid gray;box-sizing: border-box;top: 0;bottom: 0;left: 50%;z-index: 0;}#sk-container-id-9 div.sk-serial {display: flex;flex-direction: column;align-items: center;background-color: white;padding-right: 0.2em;padding-left: 0.2em;position: relative;}#sk-container-id-9 div.sk-item {position: relative;z-index: 1;}#sk-container-id-9 div.sk-parallel {display: flex;align-items: stretch;justify-content: center;background-color: white;position: relative;}#sk-container-id-9 div.sk-item::before, #sk-container-id-9 div.sk-parallel-item::before {content: \"\";position: absolute;border-left: 1px solid gray;box-sizing: border-box;top: 0;bottom: 0;left: 50%;z-index: -1;}#sk-container-id-9 div.sk-parallel-item {display: flex;flex-direction: column;z-index: 1;position: relative;background-color: white;}#sk-container-id-9 div.sk-parallel-item:first-child::after {align-self: flex-end;width: 50%;}#sk-container-id-9 div.sk-parallel-item:last-child::after {align-self: flex-start;width: 50%;}#sk-container-id-9 div.sk-parallel-item:only-child::after {width: 0;}#sk-container-id-9 div.sk-dashed-wrapped {border: 1px dashed gray;margin: 0 0.4em 0.5em 0.4em;box-sizing: border-box;padding-bottom: 0.4em;background-color: white;}#sk-container-id-9 div.sk-label label {font-family: monospace;font-weight: bold;display: inline-block;line-height: 1.2em;}#sk-container-id-9 div.sk-label-container {text-align: center;}#sk-container-id-9 div.sk-container {/* jupyter's `normalize.less` sets `[hidden] { display: none; }` but bootstrap.min.css set `[hidden] { display: none !important; }` so we also need the `!important` here to be able to override the default hidden behavior on the sphinx rendered scikit-learn.org. See: https://github.com/scikit-learn/scikit-learn/issues/21755 */display: inline-block !important;position: relative;}#sk-container-id-9 div.sk-text-repr-fallback {display: none;}</style><div id=\"sk-container-id-9\" class=\"sk-top-container\"><div class=\"sk-text-repr-fallback\"><pre>GridSearchCV(cv=5, estimator=DecisionTreeRegressor(), n_jobs=-1,\n",
       "             param_grid={&#x27;max_depth&#x27;: [2, 3, 5, 10],\n",
       "                         &#x27;min_samples_split&#x27;: [500, 1000, 2000, 10000]})</pre><b>In a Jupyter environment, please rerun this cell to show the HTML representation or trust the notebook. <br />On GitHub, the HTML representation is unable to render, please try loading this page with nbviewer.org.</b></div><div class=\"sk-container\" hidden><div class=\"sk-item sk-dashed-wrapped\"><div class=\"sk-label-container\"><div class=\"sk-label sk-toggleable\"><input class=\"sk-toggleable__control sk-hidden--visually\" id=\"sk-estimator-id-9\" type=\"checkbox\" ><label for=\"sk-estimator-id-9\" class=\"sk-toggleable__label sk-toggleable__label-arrow\">GridSearchCV</label><div class=\"sk-toggleable__content\"><pre>GridSearchCV(cv=5, estimator=DecisionTreeRegressor(), n_jobs=-1,\n",
       "             param_grid={&#x27;max_depth&#x27;: [2, 3, 5, 10],\n",
       "                         &#x27;min_samples_split&#x27;: [500, 1000, 2000, 10000]})</pre></div></div></div><div class=\"sk-parallel\"><div class=\"sk-parallel-item\"><div class=\"sk-item\"><div class=\"sk-label-container\"><div class=\"sk-label sk-toggleable\"><input class=\"sk-toggleable__control sk-hidden--visually\" id=\"sk-estimator-id-10\" type=\"checkbox\" ><label for=\"sk-estimator-id-10\" class=\"sk-toggleable__label sk-toggleable__label-arrow\">estimator: DecisionTreeRegressor</label><div class=\"sk-toggleable__content\"><pre>DecisionTreeRegressor()</pre></div></div></div><div class=\"sk-serial\"><div class=\"sk-item\"><div class=\"sk-estimator sk-toggleable\"><input class=\"sk-toggleable__control sk-hidden--visually\" id=\"sk-estimator-id-11\" type=\"checkbox\" ><label for=\"sk-estimator-id-11\" class=\"sk-toggleable__label sk-toggleable__label-arrow\">DecisionTreeRegressor</label><div class=\"sk-toggleable__content\"><pre>DecisionTreeRegressor()</pre></div></div></div></div></div></div></div></div></div></div>"
      ],
      "text/plain": [
       "GridSearchCV(cv=5, estimator=DecisionTreeRegressor(), n_jobs=-1,\n",
       "             param_grid={'max_depth': [2, 3, 5, 10],\n",
       "                         'min_samples_split': [500, 1000, 2000, 10000]})"
      ]
     },
     "execution_count": 370,
     "metadata": {},
     "output_type": "execute_result"
    }
   ],
   "source": [
    "gscv.fit(X_train,y_train)"
   ]
  },
  {
   "cell_type": "code",
   "execution_count": 371,
   "id": "c98bfe73",
   "metadata": {},
   "outputs": [
    {
     "data": {
      "text/plain": [
       "{'max_depth': 10, 'min_samples_split': 500}"
      ]
     },
     "execution_count": 371,
     "metadata": {},
     "output_type": "execute_result"
    }
   ],
   "source": [
    "gscv.best_params_"
   ]
  },
  {
   "cell_type": "code",
   "execution_count": 363,
   "id": "cd309da3",
   "metadata": {},
   "outputs": [
    {
     "name": "stdout",
     "output_type": "stream",
     "text": [
      "Help on class GridSearchCV in module sklearn.model_selection._search:\n",
      "\n",
      "class GridSearchCV(BaseSearchCV)\n",
      " |  GridSearchCV(estimator, param_grid, *, scoring=None, n_jobs=None, refit=True, cv=None, verbose=0, pre_dispatch='2*n_jobs', error_score=nan, return_train_score=False)\n",
      " |  \n",
      " |  Exhaustive search over specified parameter values for an estimator.\n",
      " |  \n",
      " |  Important members are fit, predict.\n",
      " |  \n",
      " |  GridSearchCV implements a \"fit\" and a \"score\" method.\n",
      " |  It also implements \"score_samples\", \"predict\", \"predict_proba\",\n",
      " |  \"decision_function\", \"transform\" and \"inverse_transform\" if they are\n",
      " |  implemented in the estimator used.\n",
      " |  \n",
      " |  The parameters of the estimator used to apply these methods are optimized\n",
      " |  by cross-validated grid-search over a parameter grid.\n",
      " |  \n",
      " |  Read more in the :ref:`User Guide <grid_search>`.\n",
      " |  \n",
      " |  Parameters\n",
      " |  ----------\n",
      " |  estimator : estimator object\n",
      " |      This is assumed to implement the scikit-learn estimator interface.\n",
      " |      Either estimator needs to provide a ``score`` function,\n",
      " |      or ``scoring`` must be passed.\n",
      " |  \n",
      " |  param_grid : dict or list of dictionaries\n",
      " |      Dictionary with parameters names (`str`) as keys and lists of\n",
      " |      parameter settings to try as values, or a list of such\n",
      " |      dictionaries, in which case the grids spanned by each dictionary\n",
      " |      in the list are explored. This enables searching over any sequence\n",
      " |      of parameter settings.\n",
      " |  \n",
      " |  scoring : str, callable, list, tuple or dict, default=None\n",
      " |      Strategy to evaluate the performance of the cross-validated model on\n",
      " |      the test set.\n",
      " |  \n",
      " |      If `scoring` represents a single score, one can use:\n",
      " |  \n",
      " |      - a single string (see :ref:`scoring_parameter`);\n",
      " |      - a callable (see :ref:`scoring`) that returns a single value.\n",
      " |  \n",
      " |      If `scoring` represents multiple scores, one can use:\n",
      " |  \n",
      " |      - a list or tuple of unique strings;\n",
      " |      - a callable returning a dictionary where the keys are the metric\n",
      " |        names and the values are the metric scores;\n",
      " |      - a dictionary with metric names as keys and callables a values.\n",
      " |  \n",
      " |      See :ref:`multimetric_grid_search` for an example.\n",
      " |  \n",
      " |  n_jobs : int, default=None\n",
      " |      Number of jobs to run in parallel.\n",
      " |      ``None`` means 1 unless in a :obj:`joblib.parallel_backend` context.\n",
      " |      ``-1`` means using all processors. See :term:`Glossary <n_jobs>`\n",
      " |      for more details.\n",
      " |  \n",
      " |      .. versionchanged:: v0.20\n",
      " |         `n_jobs` default changed from 1 to None\n",
      " |  \n",
      " |  refit : bool, str, or callable, default=True\n",
      " |      Refit an estimator using the best found parameters on the whole\n",
      " |      dataset.\n",
      " |  \n",
      " |      For multiple metric evaluation, this needs to be a `str` denoting the\n",
      " |      scorer that would be used to find the best parameters for refitting\n",
      " |      the estimator at the end.\n",
      " |  \n",
      " |      Where there are considerations other than maximum score in\n",
      " |      choosing a best estimator, ``refit`` can be set to a function which\n",
      " |      returns the selected ``best_index_`` given ``cv_results_``. In that\n",
      " |      case, the ``best_estimator_`` and ``best_params_`` will be set\n",
      " |      according to the returned ``best_index_`` while the ``best_score_``\n",
      " |      attribute will not be available.\n",
      " |  \n",
      " |      The refitted estimator is made available at the ``best_estimator_``\n",
      " |      attribute and permits using ``predict`` directly on this\n",
      " |      ``GridSearchCV`` instance.\n",
      " |  \n",
      " |      Also for multiple metric evaluation, the attributes ``best_index_``,\n",
      " |      ``best_score_`` and ``best_params_`` will only be available if\n",
      " |      ``refit`` is set and all of them will be determined w.r.t this specific\n",
      " |      scorer.\n",
      " |  \n",
      " |      See ``scoring`` parameter to know more about multiple metric\n",
      " |      evaluation.\n",
      " |  \n",
      " |      See :ref:`sphx_glr_auto_examples_model_selection_plot_grid_search_digits.py`\n",
      " |      to see how to design a custom selection strategy using a callable\n",
      " |      via `refit`.\n",
      " |  \n",
      " |      .. versionchanged:: 0.20\n",
      " |          Support for callable added.\n",
      " |  \n",
      " |  cv : int, cross-validation generator or an iterable, default=None\n",
      " |      Determines the cross-validation splitting strategy.\n",
      " |      Possible inputs for cv are:\n",
      " |  \n",
      " |      - None, to use the default 5-fold cross validation,\n",
      " |      - integer, to specify the number of folds in a `(Stratified)KFold`,\n",
      " |      - :term:`CV splitter`,\n",
      " |      - An iterable yielding (train, test) splits as arrays of indices.\n",
      " |  \n",
      " |      For integer/None inputs, if the estimator is a classifier and ``y`` is\n",
      " |      either binary or multiclass, :class:`StratifiedKFold` is used. In all\n",
      " |      other cases, :class:`KFold` is used. These splitters are instantiated\n",
      " |      with `shuffle=False` so the splits will be the same across calls.\n",
      " |  \n",
      " |      Refer :ref:`User Guide <cross_validation>` for the various\n",
      " |      cross-validation strategies that can be used here.\n",
      " |  \n",
      " |      .. versionchanged:: 0.22\n",
      " |          ``cv`` default value if None changed from 3-fold to 5-fold.\n",
      " |  \n",
      " |  verbose : int\n",
      " |      Controls the verbosity: the higher, the more messages.\n",
      " |  \n",
      " |      - >1 : the computation time for each fold and parameter candidate is\n",
      " |        displayed;\n",
      " |      - >2 : the score is also displayed;\n",
      " |      - >3 : the fold and candidate parameter indexes are also displayed\n",
      " |        together with the starting time of the computation.\n",
      " |  \n",
      " |  pre_dispatch : int, or str, default='2*n_jobs'\n",
      " |      Controls the number of jobs that get dispatched during parallel\n",
      " |      execution. Reducing this number can be useful to avoid an\n",
      " |      explosion of memory consumption when more jobs get dispatched\n",
      " |      than CPUs can process. This parameter can be:\n",
      " |  \n",
      " |          - None, in which case all the jobs are immediately\n",
      " |            created and spawned. Use this for lightweight and\n",
      " |            fast-running jobs, to avoid delays due to on-demand\n",
      " |            spawning of the jobs\n",
      " |  \n",
      " |          - An int, giving the exact number of total jobs that are\n",
      " |            spawned\n",
      " |  \n",
      " |          - A str, giving an expression as a function of n_jobs,\n",
      " |            as in '2*n_jobs'\n",
      " |  \n",
      " |  error_score : 'raise' or numeric, default=np.nan\n",
      " |      Value to assign to the score if an error occurs in estimator fitting.\n",
      " |      If set to 'raise', the error is raised. If a numeric value is given,\n",
      " |      FitFailedWarning is raised. This parameter does not affect the refit\n",
      " |      step, which will always raise the error.\n",
      " |  \n",
      " |  return_train_score : bool, default=False\n",
      " |      If ``False``, the ``cv_results_`` attribute will not include training\n",
      " |      scores.\n",
      " |      Computing training scores is used to get insights on how different\n",
      " |      parameter settings impact the overfitting/underfitting trade-off.\n",
      " |      However computing the scores on the training set can be computationally\n",
      " |      expensive and is not strictly required to select the parameters that\n",
      " |      yield the best generalization performance.\n",
      " |  \n",
      " |      .. versionadded:: 0.19\n",
      " |  \n",
      " |      .. versionchanged:: 0.21\n",
      " |          Default value was changed from ``True`` to ``False``\n",
      " |  \n",
      " |  Attributes\n",
      " |  ----------\n",
      " |  cv_results_ : dict of numpy (masked) ndarrays\n",
      " |      A dict with keys as column headers and values as columns, that can be\n",
      " |      imported into a pandas ``DataFrame``.\n",
      " |  \n",
      " |      For instance the below given table\n",
      " |  \n",
      " |      +------------+-----------+------------+-----------------+---+---------+\n",
      " |      |param_kernel|param_gamma|param_degree|split0_test_score|...|rank_t...|\n",
      " |      +============+===========+============+=================+===+=========+\n",
      " |      |  'poly'    |     --    |      2     |       0.80      |...|    2    |\n",
      " |      +------------+-----------+------------+-----------------+---+---------+\n",
      " |      |  'poly'    |     --    |      3     |       0.70      |...|    4    |\n",
      " |      +------------+-----------+------------+-----------------+---+---------+\n",
      " |      |  'rbf'     |     0.1   |     --     |       0.80      |...|    3    |\n",
      " |      +------------+-----------+------------+-----------------+---+---------+\n",
      " |      |  'rbf'     |     0.2   |     --     |       0.93      |...|    1    |\n",
      " |      +------------+-----------+------------+-----------------+---+---------+\n",
      " |  \n",
      " |      will be represented by a ``cv_results_`` dict of::\n",
      " |  \n",
      " |          {\n",
      " |          'param_kernel': masked_array(data = ['poly', 'poly', 'rbf', 'rbf'],\n",
      " |                                       mask = [False False False False]...)\n",
      " |          'param_gamma': masked_array(data = [-- -- 0.1 0.2],\n",
      " |                                      mask = [ True  True False False]...),\n",
      " |          'param_degree': masked_array(data = [2.0 3.0 -- --],\n",
      " |                                       mask = [False False  True  True]...),\n",
      " |          'split0_test_score'  : [0.80, 0.70, 0.80, 0.93],\n",
      " |          'split1_test_score'  : [0.82, 0.50, 0.70, 0.78],\n",
      " |          'mean_test_score'    : [0.81, 0.60, 0.75, 0.85],\n",
      " |          'std_test_score'     : [0.01, 0.10, 0.05, 0.08],\n",
      " |          'rank_test_score'    : [2, 4, 3, 1],\n",
      " |          'split0_train_score' : [0.80, 0.92, 0.70, 0.93],\n",
      " |          'split1_train_score' : [0.82, 0.55, 0.70, 0.87],\n",
      " |          'mean_train_score'   : [0.81, 0.74, 0.70, 0.90],\n",
      " |          'std_train_score'    : [0.01, 0.19, 0.00, 0.03],\n",
      " |          'mean_fit_time'      : [0.73, 0.63, 0.43, 0.49],\n",
      " |          'std_fit_time'       : [0.01, 0.02, 0.01, 0.01],\n",
      " |          'mean_score_time'    : [0.01, 0.06, 0.04, 0.04],\n",
      " |          'std_score_time'     : [0.00, 0.00, 0.00, 0.01],\n",
      " |          'params'             : [{'kernel': 'poly', 'degree': 2}, ...],\n",
      " |          }\n",
      " |  \n",
      " |      NOTE\n",
      " |  \n",
      " |      The key ``'params'`` is used to store a list of parameter\n",
      " |      settings dicts for all the parameter candidates.\n",
      " |  \n",
      " |      The ``mean_fit_time``, ``std_fit_time``, ``mean_score_time`` and\n",
      " |      ``std_score_time`` are all in seconds.\n",
      " |  \n",
      " |      For multi-metric evaluation, the scores for all the scorers are\n",
      " |      available in the ``cv_results_`` dict at the keys ending with that\n",
      " |      scorer's name (``'_<scorer_name>'``) instead of ``'_score'`` shown\n",
      " |      above. ('split0_test_precision', 'mean_train_precision' etc.)\n",
      " |  \n",
      " |  best_estimator_ : estimator\n",
      " |      Estimator that was chosen by the search, i.e. estimator\n",
      " |      which gave highest score (or smallest loss if specified)\n",
      " |      on the left out data. Not available if ``refit=False``.\n",
      " |  \n",
      " |      See ``refit`` parameter for more information on allowed values.\n",
      " |  \n",
      " |  best_score_ : float\n",
      " |      Mean cross-validated score of the best_estimator\n",
      " |  \n",
      " |      For multi-metric evaluation, this is present only if ``refit`` is\n",
      " |      specified.\n",
      " |  \n",
      " |      This attribute is not available if ``refit`` is a function.\n",
      " |  \n",
      " |  best_params_ : dict\n",
      " |      Parameter setting that gave the best results on the hold out data.\n",
      " |  \n",
      " |      For multi-metric evaluation, this is present only if ``refit`` is\n",
      " |      specified.\n",
      " |  \n",
      " |  best_index_ : int\n",
      " |      The index (of the ``cv_results_`` arrays) which corresponds to the best\n",
      " |      candidate parameter setting.\n",
      " |  \n",
      " |      The dict at ``search.cv_results_['params'][search.best_index_]`` gives\n",
      " |      the parameter setting for the best model, that gives the highest\n",
      " |      mean score (``search.best_score_``).\n",
      " |  \n",
      " |      For multi-metric evaluation, this is present only if ``refit`` is\n",
      " |      specified.\n",
      " |  \n",
      " |  scorer_ : function or a dict\n",
      " |      Scorer function used on the held out data to choose the best\n",
      " |      parameters for the model.\n",
      " |  \n",
      " |      For multi-metric evaluation, this attribute holds the validated\n",
      " |      ``scoring`` dict which maps the scorer key to the scorer callable.\n",
      " |  \n",
      " |  n_splits_ : int\n",
      " |      The number of cross-validation splits (folds/iterations).\n",
      " |  \n",
      " |  refit_time_ : float\n",
      " |      Seconds used for refitting the best model on the whole dataset.\n",
      " |  \n",
      " |      This is present only if ``refit`` is not False.\n",
      " |  \n",
      " |      .. versionadded:: 0.20\n",
      " |  \n",
      " |  multimetric_ : bool\n",
      " |      Whether or not the scorers compute several metrics.\n",
      " |  \n",
      " |  classes_ : ndarray of shape (n_classes,)\n",
      " |      The classes labels. This is present only if ``refit`` is specified and\n",
      " |      the underlying estimator is a classifier.\n",
      " |  \n",
      " |  n_features_in_ : int\n",
      " |      Number of features seen during :term:`fit`. Only defined if\n",
      " |      `best_estimator_` is defined (see the documentation for the `refit`\n",
      " |      parameter for more details) and that `best_estimator_` exposes\n",
      " |      `n_features_in_` when fit.\n",
      " |  \n",
      " |      .. versionadded:: 0.24\n",
      " |  \n",
      " |  feature_names_in_ : ndarray of shape (`n_features_in_`,)\n",
      " |      Names of features seen during :term:`fit`. Only defined if\n",
      " |      `best_estimator_` is defined (see the documentation for the `refit`\n",
      " |      parameter for more details) and that `best_estimator_` exposes\n",
      " |      `feature_names_in_` when fit.\n",
      " |  \n",
      " |      .. versionadded:: 1.0\n",
      " |  \n",
      " |  See Also\n",
      " |  --------\n",
      " |  ParameterGrid : Generates all the combinations of a hyperparameter grid.\n",
      " |  train_test_split : Utility function to split the data into a development\n",
      " |      set usable for fitting a GridSearchCV instance and an evaluation set\n",
      " |      for its final evaluation.\n",
      " |  sklearn.metrics.make_scorer : Make a scorer from a performance metric or\n",
      " |      loss function.\n",
      " |  \n",
      " |  Notes\n",
      " |  -----\n",
      " |  The parameters selected are those that maximize the score of the left out\n",
      " |  data, unless an explicit score is passed in which case it is used instead.\n",
      " |  \n",
      " |  If `n_jobs` was set to a value higher than one, the data is copied for each\n",
      " |  point in the grid (and not `n_jobs` times). This is done for efficiency\n",
      " |  reasons if individual jobs take very little time, but may raise errors if\n",
      " |  the dataset is large and not enough memory is available.  A workaround in\n",
      " |  this case is to set `pre_dispatch`. Then, the memory is copied only\n",
      " |  `pre_dispatch` many times. A reasonable value for `pre_dispatch` is `2 *\n",
      " |  n_jobs`.\n",
      " |  \n",
      " |  Examples\n",
      " |  --------\n",
      " |  >>> from sklearn import svm, datasets\n",
      " |  >>> from sklearn.model_selection import GridSearchCV\n",
      " |  >>> iris = datasets.load_iris()\n",
      " |  >>> parameters = {'kernel':('linear', 'rbf'), 'C':[1, 10]}\n",
      " |  >>> svc = svm.SVC()\n",
      " |  >>> clf = GridSearchCV(svc, parameters)\n",
      " |  >>> clf.fit(iris.data, iris.target)\n",
      " |  GridSearchCV(estimator=SVC(),\n",
      " |               param_grid={'C': [1, 10], 'kernel': ('linear', 'rbf')})\n",
      " |  >>> sorted(clf.cv_results_.keys())\n",
      " |  ['mean_fit_time', 'mean_score_time', 'mean_test_score',...\n",
      " |   'param_C', 'param_kernel', 'params',...\n",
      " |   'rank_test_score', 'split0_test_score',...\n",
      " |   'split2_test_score', ...\n",
      " |   'std_fit_time', 'std_score_time', 'std_test_score']\n",
      " |  \n",
      " |  Method resolution order:\n",
      " |      GridSearchCV\n",
      " |      BaseSearchCV\n",
      " |      sklearn.base.MetaEstimatorMixin\n",
      " |      sklearn.base.BaseEstimator\n",
      " |      builtins.object\n",
      " |  \n",
      " |  Methods defined here:\n",
      " |  \n",
      " |  __init__(self, estimator, param_grid, *, scoring=None, n_jobs=None, refit=True, cv=None, verbose=0, pre_dispatch='2*n_jobs', error_score=nan, return_train_score=False)\n",
      " |      Initialize self.  See help(type(self)) for accurate signature.\n",
      " |  \n",
      " |  ----------------------------------------------------------------------\n",
      " |  Data and other attributes defined here:\n",
      " |  \n",
      " |  __abstractmethods__ = frozenset()\n",
      " |  \n",
      " |  ----------------------------------------------------------------------\n",
      " |  Methods inherited from BaseSearchCV:\n",
      " |  \n",
      " |  decision_function(self, X)\n",
      " |      Call decision_function on the estimator with the best found parameters.\n",
      " |      \n",
      " |      Only available if ``refit=True`` and the underlying estimator supports\n",
      " |      ``decision_function``.\n",
      " |      \n",
      " |      Parameters\n",
      " |      ----------\n",
      " |      X : indexable, length n_samples\n",
      " |          Must fulfill the input assumptions of the\n",
      " |          underlying estimator.\n",
      " |      \n",
      " |      Returns\n",
      " |      -------\n",
      " |      y_score : ndarray of shape (n_samples,) or (n_samples, n_classes)                 or (n_samples, n_classes * (n_classes-1) / 2)\n",
      " |          Result of the decision function for `X` based on the estimator with\n",
      " |          the best found parameters.\n",
      " |  \n",
      " |  fit(self, X, y=None, *, groups=None, **fit_params)\n",
      " |      Run fit with all sets of parameters.\n",
      " |      \n",
      " |      Parameters\n",
      " |      ----------\n",
      " |      \n",
      " |      X : array-like of shape (n_samples, n_features)\n",
      " |          Training vector, where `n_samples` is the number of samples and\n",
      " |          `n_features` is the number of features.\n",
      " |      \n",
      " |      y : array-like of shape (n_samples, n_output)             or (n_samples,), default=None\n",
      " |          Target relative to X for classification or regression;\n",
      " |          None for unsupervised learning.\n",
      " |      \n",
      " |      groups : array-like of shape (n_samples,), default=None\n",
      " |          Group labels for the samples used while splitting the dataset into\n",
      " |          train/test set. Only used in conjunction with a \"Group\" :term:`cv`\n",
      " |          instance (e.g., :class:`~sklearn.model_selection.GroupKFold`).\n",
      " |      \n",
      " |      **fit_params : dict of str -> object\n",
      " |          Parameters passed to the `fit` method of the estimator.\n",
      " |      \n",
      " |          If a fit parameter is an array-like whose length is equal to\n",
      " |          `num_samples` then it will be split across CV groups along with `X`\n",
      " |          and `y`. For example, the :term:`sample_weight` parameter is split\n",
      " |          because `len(sample_weights) = len(X)`.\n",
      " |      \n",
      " |      Returns\n",
      " |      -------\n",
      " |      self : object\n",
      " |          Instance of fitted estimator.\n",
      " |  \n",
      " |  inverse_transform(self, Xt)\n",
      " |      Call inverse_transform on the estimator with the best found params.\n",
      " |      \n",
      " |      Only available if the underlying estimator implements\n",
      " |      ``inverse_transform`` and ``refit=True``.\n",
      " |      \n",
      " |      Parameters\n",
      " |      ----------\n",
      " |      Xt : indexable, length n_samples\n",
      " |          Must fulfill the input assumptions of the\n",
      " |          underlying estimator.\n",
      " |      \n",
      " |      Returns\n",
      " |      -------\n",
      " |      X : {ndarray, sparse matrix} of shape (n_samples, n_features)\n",
      " |          Result of the `inverse_transform` function for `Xt` based on the\n",
      " |          estimator with the best found parameters.\n",
      " |  \n",
      " |  predict(self, X)\n",
      " |      Call predict on the estimator with the best found parameters.\n",
      " |      \n",
      " |      Only available if ``refit=True`` and the underlying estimator supports\n",
      " |      ``predict``.\n",
      " |      \n",
      " |      Parameters\n",
      " |      ----------\n",
      " |      X : indexable, length n_samples\n",
      " |          Must fulfill the input assumptions of the\n",
      " |          underlying estimator.\n",
      " |      \n",
      " |      Returns\n",
      " |      -------\n",
      " |      y_pred : ndarray of shape (n_samples,)\n",
      " |          The predicted labels or values for `X` based on the estimator with\n",
      " |          the best found parameters.\n",
      " |  \n",
      " |  predict_log_proba(self, X)\n",
      " |      Call predict_log_proba on the estimator with the best found parameters.\n",
      " |      \n",
      " |      Only available if ``refit=True`` and the underlying estimator supports\n",
      " |      ``predict_log_proba``.\n",
      " |      \n",
      " |      Parameters\n",
      " |      ----------\n",
      " |      X : indexable, length n_samples\n",
      " |          Must fulfill the input assumptions of the\n",
      " |          underlying estimator.\n",
      " |      \n",
      " |      Returns\n",
      " |      -------\n",
      " |      y_pred : ndarray of shape (n_samples,) or (n_samples, n_classes)\n",
      " |          Predicted class log-probabilities for `X` based on the estimator\n",
      " |          with the best found parameters. The order of the classes\n",
      " |          corresponds to that in the fitted attribute :term:`classes_`.\n",
      " |  \n",
      " |  predict_proba(self, X)\n",
      " |      Call predict_proba on the estimator with the best found parameters.\n",
      " |      \n",
      " |      Only available if ``refit=True`` and the underlying estimator supports\n",
      " |      ``predict_proba``.\n",
      " |      \n",
      " |      Parameters\n",
      " |      ----------\n",
      " |      X : indexable, length n_samples\n",
      " |          Must fulfill the input assumptions of the\n",
      " |          underlying estimator.\n",
      " |      \n",
      " |      Returns\n",
      " |      -------\n",
      " |      y_pred : ndarray of shape (n_samples,) or (n_samples, n_classes)\n",
      " |          Predicted class probabilities for `X` based on the estimator with\n",
      " |          the best found parameters. The order of the classes corresponds\n",
      " |          to that in the fitted attribute :term:`classes_`.\n",
      " |  \n",
      " |  score(self, X, y=None)\n",
      " |      Return the score on the given data, if the estimator has been refit.\n",
      " |      \n",
      " |      This uses the score defined by ``scoring`` where provided, and the\n",
      " |      ``best_estimator_.score`` method otherwise.\n",
      " |      \n",
      " |      Parameters\n",
      " |      ----------\n",
      " |      X : array-like of shape (n_samples, n_features)\n",
      " |          Input data, where `n_samples` is the number of samples and\n",
      " |          `n_features` is the number of features.\n",
      " |      \n",
      " |      y : array-like of shape (n_samples, n_output)             or (n_samples,), default=None\n",
      " |          Target relative to X for classification or regression;\n",
      " |          None for unsupervised learning.\n",
      " |      \n",
      " |      Returns\n",
      " |      -------\n",
      " |      score : float\n",
      " |          The score defined by ``scoring`` if provided, and the\n",
      " |          ``best_estimator_.score`` method otherwise.\n",
      " |  \n",
      " |  score_samples(self, X)\n",
      " |      Call score_samples on the estimator with the best found parameters.\n",
      " |      \n",
      " |      Only available if ``refit=True`` and the underlying estimator supports\n",
      " |      ``score_samples``.\n",
      " |      \n",
      " |      .. versionadded:: 0.24\n",
      " |      \n",
      " |      Parameters\n",
      " |      ----------\n",
      " |      X : iterable\n",
      " |          Data to predict on. Must fulfill input requirements\n",
      " |          of the underlying estimator.\n",
      " |      \n",
      " |      Returns\n",
      " |      -------\n",
      " |      y_score : ndarray of shape (n_samples,)\n",
      " |          The ``best_estimator_.score_samples`` method.\n",
      " |  \n",
      " |  transform(self, X)\n",
      " |      Call transform on the estimator with the best found parameters.\n",
      " |      \n",
      " |      Only available if the underlying estimator supports ``transform`` and\n",
      " |      ``refit=True``.\n",
      " |      \n",
      " |      Parameters\n",
      " |      ----------\n",
      " |      X : indexable, length n_samples\n",
      " |          Must fulfill the input assumptions of the\n",
      " |          underlying estimator.\n",
      " |      \n",
      " |      Returns\n",
      " |      -------\n",
      " |      Xt : {ndarray, sparse matrix} of shape (n_samples, n_features)\n",
      " |          `X` transformed in the new space based on the estimator with\n",
      " |          the best found parameters.\n",
      " |  \n",
      " |  ----------------------------------------------------------------------\n",
      " |  Readonly properties inherited from BaseSearchCV:\n",
      " |  \n",
      " |  classes_\n",
      " |      Class labels.\n",
      " |      \n",
      " |      Only available when `refit=True` and the estimator is a classifier.\n",
      " |  \n",
      " |  n_features_in_\n",
      " |      Number of features seen during :term:`fit`.\n",
      " |      \n",
      " |      Only available when `refit=True`.\n",
      " |  \n",
      " |  ----------------------------------------------------------------------\n",
      " |  Data descriptors inherited from sklearn.base.MetaEstimatorMixin:\n",
      " |  \n",
      " |  __dict__\n",
      " |      dictionary for instance variables (if defined)\n",
      " |  \n",
      " |  __weakref__\n",
      " |      list of weak references to the object (if defined)\n",
      " |  \n",
      " |  ----------------------------------------------------------------------\n",
      " |  Methods inherited from sklearn.base.BaseEstimator:\n",
      " |  \n",
      " |  __getstate__(self)\n",
      " |  \n",
      " |  __repr__(self, N_CHAR_MAX=700)\n",
      " |      Return repr(self).\n",
      " |  \n",
      " |  __setstate__(self, state)\n",
      " |  \n",
      " |  get_params(self, deep=True)\n",
      " |      Get parameters for this estimator.\n",
      " |      \n",
      " |      Parameters\n",
      " |      ----------\n",
      " |      deep : bool, default=True\n",
      " |          If True, will return the parameters for this estimator and\n",
      " |          contained subobjects that are estimators.\n",
      " |      \n",
      " |      Returns\n",
      " |      -------\n",
      " |      params : dict\n",
      " |          Parameter names mapped to their values.\n",
      " |  \n",
      " |  set_params(self, **params)\n",
      " |      Set the parameters of this estimator.\n",
      " |      \n",
      " |      The method works on simple estimators as well as on nested objects\n",
      " |      (such as :class:`~sklearn.pipeline.Pipeline`). The latter have\n",
      " |      parameters of the form ``<component>__<parameter>`` so that it's\n",
      " |      possible to update each component of a nested object.\n",
      " |      \n",
      " |      Parameters\n",
      " |      ----------\n",
      " |      **params : dict\n",
      " |          Estimator parameters.\n",
      " |      \n",
      " |      Returns\n",
      " |      -------\n",
      " |      self : estimator instance\n",
      " |          Estimator instance.\n",
      "\n"
     ]
    }
   ],
   "source": [
    "help(GridSearchCV)"
   ]
  },
  {
   "cell_type": "code",
   "execution_count": 372,
   "id": "84cba7a9",
   "metadata": {},
   "outputs": [],
   "source": [
    "from sklearn.ensemble import RandomForestRegressor\n",
    "regr = RandomForestRegressor(max_depth = 10, min_samples_split = 500)"
   ]
  },
  {
   "cell_type": "code",
   "execution_count": 373,
   "id": "81ddf4f5",
   "metadata": {},
   "outputs": [
    {
     "data": {
      "text/html": [
       "<style>#sk-container-id-10 {color: black;background-color: white;}#sk-container-id-10 pre{padding: 0;}#sk-container-id-10 div.sk-toggleable {background-color: white;}#sk-container-id-10 label.sk-toggleable__label {cursor: pointer;display: block;width: 100%;margin-bottom: 0;padding: 0.3em;box-sizing: border-box;text-align: center;}#sk-container-id-10 label.sk-toggleable__label-arrow:before {content: \"▸\";float: left;margin-right: 0.25em;color: #696969;}#sk-container-id-10 label.sk-toggleable__label-arrow:hover:before {color: black;}#sk-container-id-10 div.sk-estimator:hover label.sk-toggleable__label-arrow:before {color: black;}#sk-container-id-10 div.sk-toggleable__content {max-height: 0;max-width: 0;overflow: hidden;text-align: left;background-color: #f0f8ff;}#sk-container-id-10 div.sk-toggleable__content pre {margin: 0.2em;color: black;border-radius: 0.25em;background-color: #f0f8ff;}#sk-container-id-10 input.sk-toggleable__control:checked~div.sk-toggleable__content {max-height: 200px;max-width: 100%;overflow: auto;}#sk-container-id-10 input.sk-toggleable__control:checked~label.sk-toggleable__label-arrow:before {content: \"▾\";}#sk-container-id-10 div.sk-estimator input.sk-toggleable__control:checked~label.sk-toggleable__label {background-color: #d4ebff;}#sk-container-id-10 div.sk-label input.sk-toggleable__control:checked~label.sk-toggleable__label {background-color: #d4ebff;}#sk-container-id-10 input.sk-hidden--visually {border: 0;clip: rect(1px 1px 1px 1px);clip: rect(1px, 1px, 1px, 1px);height: 1px;margin: -1px;overflow: hidden;padding: 0;position: absolute;width: 1px;}#sk-container-id-10 div.sk-estimator {font-family: monospace;background-color: #f0f8ff;border: 1px dotted black;border-radius: 0.25em;box-sizing: border-box;margin-bottom: 0.5em;}#sk-container-id-10 div.sk-estimator:hover {background-color: #d4ebff;}#sk-container-id-10 div.sk-parallel-item::after {content: \"\";width: 100%;border-bottom: 1px solid gray;flex-grow: 1;}#sk-container-id-10 div.sk-label:hover label.sk-toggleable__label {background-color: #d4ebff;}#sk-container-id-10 div.sk-serial::before {content: \"\";position: absolute;border-left: 1px solid gray;box-sizing: border-box;top: 0;bottom: 0;left: 50%;z-index: 0;}#sk-container-id-10 div.sk-serial {display: flex;flex-direction: column;align-items: center;background-color: white;padding-right: 0.2em;padding-left: 0.2em;position: relative;}#sk-container-id-10 div.sk-item {position: relative;z-index: 1;}#sk-container-id-10 div.sk-parallel {display: flex;align-items: stretch;justify-content: center;background-color: white;position: relative;}#sk-container-id-10 div.sk-item::before, #sk-container-id-10 div.sk-parallel-item::before {content: \"\";position: absolute;border-left: 1px solid gray;box-sizing: border-box;top: 0;bottom: 0;left: 50%;z-index: -1;}#sk-container-id-10 div.sk-parallel-item {display: flex;flex-direction: column;z-index: 1;position: relative;background-color: white;}#sk-container-id-10 div.sk-parallel-item:first-child::after {align-self: flex-end;width: 50%;}#sk-container-id-10 div.sk-parallel-item:last-child::after {align-self: flex-start;width: 50%;}#sk-container-id-10 div.sk-parallel-item:only-child::after {width: 0;}#sk-container-id-10 div.sk-dashed-wrapped {border: 1px dashed gray;margin: 0 0.4em 0.5em 0.4em;box-sizing: border-box;padding-bottom: 0.4em;background-color: white;}#sk-container-id-10 div.sk-label label {font-family: monospace;font-weight: bold;display: inline-block;line-height: 1.2em;}#sk-container-id-10 div.sk-label-container {text-align: center;}#sk-container-id-10 div.sk-container {/* jupyter's `normalize.less` sets `[hidden] { display: none; }` but bootstrap.min.css set `[hidden] { display: none !important; }` so we also need the `!important` here to be able to override the default hidden behavior on the sphinx rendered scikit-learn.org. See: https://github.com/scikit-learn/scikit-learn/issues/21755 */display: inline-block !important;position: relative;}#sk-container-id-10 div.sk-text-repr-fallback {display: none;}</style><div id=\"sk-container-id-10\" class=\"sk-top-container\"><div class=\"sk-text-repr-fallback\"><pre>RandomForestRegressor(max_depth=10, min_samples_split=500)</pre><b>In a Jupyter environment, please rerun this cell to show the HTML representation or trust the notebook. <br />On GitHub, the HTML representation is unable to render, please try loading this page with nbviewer.org.</b></div><div class=\"sk-container\" hidden><div class=\"sk-item\"><div class=\"sk-estimator sk-toggleable\"><input class=\"sk-toggleable__control sk-hidden--visually\" id=\"sk-estimator-id-12\" type=\"checkbox\" checked><label for=\"sk-estimator-id-12\" class=\"sk-toggleable__label sk-toggleable__label-arrow\">RandomForestRegressor</label><div class=\"sk-toggleable__content\"><pre>RandomForestRegressor(max_depth=10, min_samples_split=500)</pre></div></div></div></div></div>"
      ],
      "text/plain": [
       "RandomForestRegressor(max_depth=10, min_samples_split=500)"
      ]
     },
     "execution_count": 373,
     "metadata": {},
     "output_type": "execute_result"
    }
   ],
   "source": [
    "regr.fit(X_train,y_train)"
   ]
  },
  {
   "cell_type": "code",
   "execution_count": 374,
   "id": "1d8a7a56",
   "metadata": {},
   "outputs": [
    {
     "data": {
      "text/plain": [
       "0.8627492462760639"
      ]
     },
     "execution_count": 374,
     "metadata": {},
     "output_type": "execute_result"
    }
   ],
   "source": [
    "regr.score(X_test,y_test)"
   ]
  },
  {
   "cell_type": "code",
   "execution_count": 375,
   "id": "0fd7711d",
   "metadata": {},
   "outputs": [
    {
     "data": {
      "text/plain": [
       "0.8651977850090711"
      ]
     },
     "execution_count": 375,
     "metadata": {},
     "output_type": "execute_result"
    }
   ],
   "source": [
    "regr.score(X_train,y_train)"
   ]
  }
 ],
 "metadata": {
  "kernelspec": {
   "display_name": "Python 3 (ipykernel)",
   "language": "python",
   "name": "python3"
  },
  "language_info": {
   "codemirror_mode": {
    "name": "ipython",
    "version": 3
   },
   "file_extension": ".py",
   "mimetype": "text/x-python",
   "name": "python",
   "nbconvert_exporter": "python",
   "pygments_lexer": "ipython3",
   "version": "3.9.7"
  }
 },
 "nbformat": 4,
 "nbformat_minor": 5
}
